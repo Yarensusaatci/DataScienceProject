{
 "cells": [
  {
   "cell_type": "markdown",
   "id": "c22d2b7b",
   "metadata": {
    "papermill": {
     "duration": 0.014425,
     "end_time": "2023-09-17T20:20:17.089195",
     "exception": false,
     "start_time": "2023-09-17T20:20:17.074770",
     "status": "completed"
    },
    "tags": []
   },
   "source": [
    "# Homework 3 11.09.2023"
   ]
  },
  {
   "cell_type": "markdown",
   "id": "1de397d8",
   "metadata": {
    "papermill": {
     "duration": 0.013776,
     "end_time": "2023-09-17T20:20:17.117313",
     "exception": false,
     "start_time": "2023-09-17T20:20:17.103537",
     "status": "completed"
    },
    "tags": []
   },
   "source": [
    "Room 3 : Buğra - Müge - Rana - Sena - Zeynep - Yaren"
   ]
  },
  {
   "cell_type": "markdown",
   "id": "e29b6d39",
   "metadata": {
    "papermill": {
     "duration": 0.013687,
     "end_time": "2023-09-17T20:20:17.144914",
     "exception": false,
     "start_time": "2023-09-17T20:20:17.131227",
     "status": "completed"
    },
    "tags": []
   },
   "source": [
    "___"
   ]
  },
  {
   "cell_type": "code",
   "execution_count": 1,
   "id": "cdd63b43",
   "metadata": {
    "execution": {
     "iopub.execute_input": "2023-09-17T20:20:17.175652Z",
     "iopub.status.busy": "2023-09-17T20:20:17.174942Z",
     "iopub.status.idle": "2023-09-17T20:20:18.941759Z",
     "shell.execute_reply": "2023-09-17T20:20:18.940706Z"
    },
    "papermill": {
     "duration": 1.78566,
     "end_time": "2023-09-17T20:20:18.944778",
     "exception": false,
     "start_time": "2023-09-17T20:20:17.159118",
     "status": "completed"
    },
    "tags": []
   },
   "outputs": [],
   "source": [
    "import pandas as pd\n",
    "import numpy as np\n",
    "import matplotlib.pyplot as plt\n",
    "import seaborn as sns"
   ]
  },
  {
   "cell_type": "code",
   "execution_count": 2,
   "id": "16166a44",
   "metadata": {
    "execution": {
     "iopub.execute_input": "2023-09-17T20:20:18.975911Z",
     "iopub.status.busy": "2023-09-17T20:20:18.975417Z",
     "iopub.status.idle": "2023-09-17T20:20:19.035047Z",
     "shell.execute_reply": "2023-09-17T20:20:19.033924Z"
    },
    "papermill": {
     "duration": 0.078933,
     "end_time": "2023-09-17T20:20:19.038125",
     "exception": false,
     "start_time": "2023-09-17T20:20:18.959192",
     "status": "completed"
    },
    "tags": []
   },
   "outputs": [
    {
     "data": {
      "text/html": [
       "<div>\n",
       "<style scoped>\n",
       "    .dataframe tbody tr th:only-of-type {\n",
       "        vertical-align: middle;\n",
       "    }\n",
       "\n",
       "    .dataframe tbody tr th {\n",
       "        vertical-align: top;\n",
       "    }\n",
       "\n",
       "    .dataframe thead th {\n",
       "        text-align: right;\n",
       "    }\n",
       "</style>\n",
       "<table border=\"1\" class=\"dataframe\">\n",
       "  <thead>\n",
       "    <tr style=\"text-align: right;\">\n",
       "      <th></th>\n",
       "      <th>world_rank</th>\n",
       "      <th>university_name</th>\n",
       "      <th>country</th>\n",
       "      <th>teaching</th>\n",
       "      <th>international</th>\n",
       "      <th>research</th>\n",
       "      <th>citations</th>\n",
       "      <th>income</th>\n",
       "      <th>total_score</th>\n",
       "      <th>num_students</th>\n",
       "      <th>student_staff_ratio</th>\n",
       "      <th>international_students</th>\n",
       "      <th>female_male_ratio</th>\n",
       "      <th>year</th>\n",
       "    </tr>\n",
       "  </thead>\n",
       "  <tbody>\n",
       "    <tr>\n",
       "      <th>0</th>\n",
       "      <td>1</td>\n",
       "      <td>Harvard University</td>\n",
       "      <td>United States of America</td>\n",
       "      <td>99.7</td>\n",
       "      <td>72.4</td>\n",
       "      <td>98.7</td>\n",
       "      <td>98.8</td>\n",
       "      <td>34.5</td>\n",
       "      <td>96.1</td>\n",
       "      <td>20,152</td>\n",
       "      <td>8.9</td>\n",
       "      <td>25%</td>\n",
       "      <td>NaN</td>\n",
       "      <td>2011</td>\n",
       "    </tr>\n",
       "    <tr>\n",
       "      <th>1</th>\n",
       "      <td>2</td>\n",
       "      <td>California Institute of Technology</td>\n",
       "      <td>United States of America</td>\n",
       "      <td>97.7</td>\n",
       "      <td>54.6</td>\n",
       "      <td>98.0</td>\n",
       "      <td>99.9</td>\n",
       "      <td>83.7</td>\n",
       "      <td>96.0</td>\n",
       "      <td>2,243</td>\n",
       "      <td>6.9</td>\n",
       "      <td>27%</td>\n",
       "      <td>33 : 67</td>\n",
       "      <td>2011</td>\n",
       "    </tr>\n",
       "    <tr>\n",
       "      <th>2</th>\n",
       "      <td>3</td>\n",
       "      <td>Massachusetts Institute of Technology</td>\n",
       "      <td>United States of America</td>\n",
       "      <td>97.8</td>\n",
       "      <td>82.3</td>\n",
       "      <td>91.4</td>\n",
       "      <td>99.9</td>\n",
       "      <td>87.5</td>\n",
       "      <td>95.6</td>\n",
       "      <td>11,074</td>\n",
       "      <td>9.0</td>\n",
       "      <td>33%</td>\n",
       "      <td>37 : 63</td>\n",
       "      <td>2011</td>\n",
       "    </tr>\n",
       "    <tr>\n",
       "      <th>3</th>\n",
       "      <td>4</td>\n",
       "      <td>Stanford University</td>\n",
       "      <td>United States of America</td>\n",
       "      <td>98.3</td>\n",
       "      <td>29.5</td>\n",
       "      <td>98.1</td>\n",
       "      <td>99.2</td>\n",
       "      <td>64.3</td>\n",
       "      <td>94.3</td>\n",
       "      <td>15,596</td>\n",
       "      <td>7.8</td>\n",
       "      <td>22%</td>\n",
       "      <td>42 : 58</td>\n",
       "      <td>2011</td>\n",
       "    </tr>\n",
       "    <tr>\n",
       "      <th>4</th>\n",
       "      <td>5</td>\n",
       "      <td>Princeton University</td>\n",
       "      <td>United States of America</td>\n",
       "      <td>90.9</td>\n",
       "      <td>70.3</td>\n",
       "      <td>95.4</td>\n",
       "      <td>99.9</td>\n",
       "      <td>-</td>\n",
       "      <td>94.2</td>\n",
       "      <td>7,929</td>\n",
       "      <td>8.4</td>\n",
       "      <td>27%</td>\n",
       "      <td>45 : 55</td>\n",
       "      <td>2011</td>\n",
       "    </tr>\n",
       "    <tr>\n",
       "      <th>5</th>\n",
       "      <td>6</td>\n",
       "      <td>University of Cambridge</td>\n",
       "      <td>United Kingdom</td>\n",
       "      <td>90.5</td>\n",
       "      <td>77.7</td>\n",
       "      <td>94.1</td>\n",
       "      <td>94.0</td>\n",
       "      <td>57.0</td>\n",
       "      <td>91.2</td>\n",
       "      <td>18,812</td>\n",
       "      <td>11.8</td>\n",
       "      <td>34%</td>\n",
       "      <td>46 : 54</td>\n",
       "      <td>2011</td>\n",
       "    </tr>\n",
       "    <tr>\n",
       "      <th>6</th>\n",
       "      <td>6</td>\n",
       "      <td>University of Oxford</td>\n",
       "      <td>United Kingdom</td>\n",
       "      <td>88.2</td>\n",
       "      <td>77.2</td>\n",
       "      <td>93.9</td>\n",
       "      <td>95.1</td>\n",
       "      <td>73.5</td>\n",
       "      <td>91.2</td>\n",
       "      <td>19,919</td>\n",
       "      <td>11.6</td>\n",
       "      <td>34%</td>\n",
       "      <td>46 : 54</td>\n",
       "      <td>2011</td>\n",
       "    </tr>\n",
       "    <tr>\n",
       "      <th>7</th>\n",
       "      <td>8</td>\n",
       "      <td>University of California, Berkeley</td>\n",
       "      <td>United States of America</td>\n",
       "      <td>84.2</td>\n",
       "      <td>39.6</td>\n",
       "      <td>99.3</td>\n",
       "      <td>97.8</td>\n",
       "      <td>-</td>\n",
       "      <td>91.1</td>\n",
       "      <td>36,186</td>\n",
       "      <td>16.4</td>\n",
       "      <td>15%</td>\n",
       "      <td>50 : 50</td>\n",
       "      <td>2011</td>\n",
       "    </tr>\n",
       "    <tr>\n",
       "      <th>8</th>\n",
       "      <td>9</td>\n",
       "      <td>Imperial College London</td>\n",
       "      <td>United Kingdom</td>\n",
       "      <td>89.2</td>\n",
       "      <td>90.0</td>\n",
       "      <td>94.5</td>\n",
       "      <td>88.3</td>\n",
       "      <td>92.9</td>\n",
       "      <td>90.6</td>\n",
       "      <td>15,060</td>\n",
       "      <td>11.7</td>\n",
       "      <td>51%</td>\n",
       "      <td>37 : 63</td>\n",
       "      <td>2011</td>\n",
       "    </tr>\n",
       "    <tr>\n",
       "      <th>9</th>\n",
       "      <td>10</td>\n",
       "      <td>Yale University</td>\n",
       "      <td>United States of America</td>\n",
       "      <td>92.1</td>\n",
       "      <td>59.2</td>\n",
       "      <td>89.7</td>\n",
       "      <td>91.5</td>\n",
       "      <td>-</td>\n",
       "      <td>89.5</td>\n",
       "      <td>11,751</td>\n",
       "      <td>4.4</td>\n",
       "      <td>20%</td>\n",
       "      <td>50 : 50</td>\n",
       "      <td>2011</td>\n",
       "    </tr>\n",
       "  </tbody>\n",
       "</table>\n",
       "</div>"
      ],
      "text/plain": [
       "  world_rank                        university_name                   country  \\\n",
       "0          1                     Harvard University  United States of America   \n",
       "1          2     California Institute of Technology  United States of America   \n",
       "2          3  Massachusetts Institute of Technology  United States of America   \n",
       "3          4                    Stanford University  United States of America   \n",
       "4          5                   Princeton University  United States of America   \n",
       "5          6                University of Cambridge            United Kingdom   \n",
       "6          6                   University of Oxford            United Kingdom   \n",
       "7          8     University of California, Berkeley  United States of America   \n",
       "8          9                Imperial College London            United Kingdom   \n",
       "9         10                        Yale University  United States of America   \n",
       "\n",
       "   teaching international  research  citations income total_score  \\\n",
       "0      99.7          72.4      98.7       98.8   34.5        96.1   \n",
       "1      97.7          54.6      98.0       99.9   83.7        96.0   \n",
       "2      97.8          82.3      91.4       99.9   87.5        95.6   \n",
       "3      98.3          29.5      98.1       99.2   64.3        94.3   \n",
       "4      90.9          70.3      95.4       99.9      -        94.2   \n",
       "5      90.5          77.7      94.1       94.0   57.0        91.2   \n",
       "6      88.2          77.2      93.9       95.1   73.5        91.2   \n",
       "7      84.2          39.6      99.3       97.8      -        91.1   \n",
       "8      89.2          90.0      94.5       88.3   92.9        90.6   \n",
       "9      92.1          59.2      89.7       91.5      -        89.5   \n",
       "\n",
       "  num_students  student_staff_ratio international_students female_male_ratio  \\\n",
       "0       20,152                  8.9                    25%               NaN   \n",
       "1        2,243                  6.9                    27%           33 : 67   \n",
       "2       11,074                  9.0                    33%           37 : 63   \n",
       "3       15,596                  7.8                    22%           42 : 58   \n",
       "4        7,929                  8.4                    27%           45 : 55   \n",
       "5       18,812                 11.8                    34%           46 : 54   \n",
       "6       19,919                 11.6                    34%           46 : 54   \n",
       "7       36,186                 16.4                    15%           50 : 50   \n",
       "8       15,060                 11.7                    51%           37 : 63   \n",
       "9       11,751                  4.4                    20%           50 : 50   \n",
       "\n",
       "   year  \n",
       "0  2011  \n",
       "1  2011  \n",
       "2  2011  \n",
       "3  2011  \n",
       "4  2011  \n",
       "5  2011  \n",
       "6  2011  \n",
       "7  2011  \n",
       "8  2011  \n",
       "9  2011  "
      ]
     },
     "execution_count": 2,
     "metadata": {},
     "output_type": "execute_result"
    }
   ],
   "source": [
    "df = pd.read_csv('/kaggle/input/times-data/timesData.csv')\n",
    "cdf = df.copy()\n",
    "df.head(10)"
   ]
  },
  {
   "cell_type": "code",
   "execution_count": 3,
   "id": "ccd4289b",
   "metadata": {
    "execution": {
     "iopub.execute_input": "2023-09-17T20:20:19.068800Z",
     "iopub.status.busy": "2023-09-17T20:20:19.068436Z",
     "iopub.status.idle": "2023-09-17T20:20:19.098113Z",
     "shell.execute_reply": "2023-09-17T20:20:19.097299Z"
    },
    "papermill": {
     "duration": 0.047551,
     "end_time": "2023-09-17T20:20:19.100205",
     "exception": false,
     "start_time": "2023-09-17T20:20:19.052654",
     "status": "completed"
    },
    "tags": []
   },
   "outputs": [
    {
     "data": {
      "text/html": [
       "<div>\n",
       "<style scoped>\n",
       "    .dataframe tbody tr th:only-of-type {\n",
       "        vertical-align: middle;\n",
       "    }\n",
       "\n",
       "    .dataframe tbody tr th {\n",
       "        vertical-align: top;\n",
       "    }\n",
       "\n",
       "    .dataframe thead th {\n",
       "        text-align: right;\n",
       "    }\n",
       "</style>\n",
       "<table border=\"1\" class=\"dataframe\">\n",
       "  <thead>\n",
       "    <tr style=\"text-align: right;\">\n",
       "      <th></th>\n",
       "      <th>teaching</th>\n",
       "      <th>research</th>\n",
       "      <th>citations</th>\n",
       "      <th>student_staff_ratio</th>\n",
       "      <th>year</th>\n",
       "    </tr>\n",
       "  </thead>\n",
       "  <tbody>\n",
       "    <tr>\n",
       "      <th>count</th>\n",
       "      <td>2603.000000</td>\n",
       "      <td>2603.000000</td>\n",
       "      <td>2603.000000</td>\n",
       "      <td>2544.000000</td>\n",
       "      <td>2603.000000</td>\n",
       "    </tr>\n",
       "    <tr>\n",
       "      <th>mean</th>\n",
       "      <td>37.801498</td>\n",
       "      <td>35.910257</td>\n",
       "      <td>60.921629</td>\n",
       "      <td>18.445283</td>\n",
       "      <td>2014.075682</td>\n",
       "    </tr>\n",
       "    <tr>\n",
       "      <th>std</th>\n",
       "      <td>17.604218</td>\n",
       "      <td>21.254805</td>\n",
       "      <td>23.073219</td>\n",
       "      <td>11.458698</td>\n",
       "      <td>1.685733</td>\n",
       "    </tr>\n",
       "    <tr>\n",
       "      <th>min</th>\n",
       "      <td>9.900000</td>\n",
       "      <td>2.900000</td>\n",
       "      <td>1.200000</td>\n",
       "      <td>0.600000</td>\n",
       "      <td>2011.000000</td>\n",
       "    </tr>\n",
       "    <tr>\n",
       "      <th>25%</th>\n",
       "      <td>24.700000</td>\n",
       "      <td>19.600000</td>\n",
       "      <td>45.500000</td>\n",
       "      <td>11.975000</td>\n",
       "      <td>2013.000000</td>\n",
       "    </tr>\n",
       "    <tr>\n",
       "      <th>50%</th>\n",
       "      <td>33.900000</td>\n",
       "      <td>30.500000</td>\n",
       "      <td>62.500000</td>\n",
       "      <td>16.100000</td>\n",
       "      <td>2014.000000</td>\n",
       "    </tr>\n",
       "    <tr>\n",
       "      <th>75%</th>\n",
       "      <td>46.400000</td>\n",
       "      <td>47.250000</td>\n",
       "      <td>79.050000</td>\n",
       "      <td>21.500000</td>\n",
       "      <td>2016.000000</td>\n",
       "    </tr>\n",
       "    <tr>\n",
       "      <th>max</th>\n",
       "      <td>99.700000</td>\n",
       "      <td>99.400000</td>\n",
       "      <td>100.000000</td>\n",
       "      <td>162.600000</td>\n",
       "      <td>2016.000000</td>\n",
       "    </tr>\n",
       "  </tbody>\n",
       "</table>\n",
       "</div>"
      ],
      "text/plain": [
       "          teaching     research    citations  student_staff_ratio         year\n",
       "count  2603.000000  2603.000000  2603.000000          2544.000000  2603.000000\n",
       "mean     37.801498    35.910257    60.921629            18.445283  2014.075682\n",
       "std      17.604218    21.254805    23.073219            11.458698     1.685733\n",
       "min       9.900000     2.900000     1.200000             0.600000  2011.000000\n",
       "25%      24.700000    19.600000    45.500000            11.975000  2013.000000\n",
       "50%      33.900000    30.500000    62.500000            16.100000  2014.000000\n",
       "75%      46.400000    47.250000    79.050000            21.500000  2016.000000\n",
       "max      99.700000    99.400000   100.000000           162.600000  2016.000000"
      ]
     },
     "execution_count": 3,
     "metadata": {},
     "output_type": "execute_result"
    }
   ],
   "source": [
    "df.describe()"
   ]
  },
  {
   "cell_type": "code",
   "execution_count": 4,
   "id": "74e7250e",
   "metadata": {
    "execution": {
     "iopub.execute_input": "2023-09-17T20:20:19.131499Z",
     "iopub.status.busy": "2023-09-17T20:20:19.130582Z",
     "iopub.status.idle": "2023-09-17T20:20:19.156293Z",
     "shell.execute_reply": "2023-09-17T20:20:19.155507Z"
    },
    "papermill": {
     "duration": 0.043596,
     "end_time": "2023-09-17T20:20:19.158434",
     "exception": false,
     "start_time": "2023-09-17T20:20:19.114838",
     "status": "completed"
    },
    "tags": []
   },
   "outputs": [
    {
     "name": "stdout",
     "output_type": "stream",
     "text": [
      "<class 'pandas.core.frame.DataFrame'>\n",
      "RangeIndex: 2603 entries, 0 to 2602\n",
      "Data columns (total 14 columns):\n",
      " #   Column                  Non-Null Count  Dtype  \n",
      "---  ------                  --------------  -----  \n",
      " 0   world_rank              2603 non-null   object \n",
      " 1   university_name         2603 non-null   object \n",
      " 2   country                 2603 non-null   object \n",
      " 3   teaching                2603 non-null   float64\n",
      " 4   international           2603 non-null   object \n",
      " 5   research                2603 non-null   float64\n",
      " 6   citations               2603 non-null   float64\n",
      " 7   income                  2603 non-null   object \n",
      " 8   total_score             2603 non-null   object \n",
      " 9   num_students            2544 non-null   object \n",
      " 10  student_staff_ratio     2544 non-null   float64\n",
      " 11  international_students  2536 non-null   object \n",
      " 12  female_male_ratio       2370 non-null   object \n",
      " 13  year                    2603 non-null   int64  \n",
      "dtypes: float64(4), int64(1), object(9)\n",
      "memory usage: 284.8+ KB\n"
     ]
    }
   ],
   "source": [
    "df.info()"
   ]
  },
  {
   "cell_type": "markdown",
   "id": "83437508",
   "metadata": {
    "papermill": {
     "duration": 0.014301,
     "end_time": "2023-09-17T20:20:19.187909",
     "exception": false,
     "start_time": "2023-09-17T20:20:19.173608",
     "status": "completed"
    },
    "tags": []
   },
   "source": [
    "---"
   ]
  },
  {
   "cell_type": "markdown",
   "id": "8c885863",
   "metadata": {
    "papermill": {
     "duration": 0.014289,
     "end_time": "2023-09-17T20:20:19.216843",
     "exception": false,
     "start_time": "2023-09-17T20:20:19.202554",
     "status": "completed"
    },
    "tags": []
   },
   "source": [
    "Veri kümesinde toplam kaç üniversite bulunmaktadır? -1 "
   ]
  },
  {
   "cell_type": "code",
   "execution_count": 5,
   "id": "788faa44",
   "metadata": {
    "execution": {
     "iopub.execute_input": "2023-09-17T20:20:19.247874Z",
     "iopub.status.busy": "2023-09-17T20:20:19.247126Z",
     "iopub.status.idle": "2023-09-17T20:20:19.253637Z",
     "shell.execute_reply": "2023-09-17T20:20:19.252894Z"
    },
    "papermill": {
     "duration": 0.024144,
     "end_time": "2023-09-17T20:20:19.255585",
     "exception": false,
     "start_time": "2023-09-17T20:20:19.231441",
     "status": "completed"
    },
    "tags": []
   },
   "outputs": [
    {
     "data": {
      "text/plain": [
       "818"
      ]
     },
     "execution_count": 5,
     "metadata": {},
     "output_type": "execute_result"
    }
   ],
   "source": [
    "df['university_name'].nunique()"
   ]
  },
  {
   "cell_type": "markdown",
   "id": "85a8f607",
   "metadata": {
    "papermill": {
     "duration": 0.014335,
     "end_time": "2023-09-17T20:20:19.284538",
     "exception": false,
     "start_time": "2023-09-17T20:20:19.270203",
     "status": "completed"
    },
    "tags": []
   },
   "source": [
    "---"
   ]
  },
  {
   "cell_type": "markdown",
   "id": "6be830e6",
   "metadata": {
    "papermill": {
     "duration": 0.01452,
     "end_time": "2023-09-17T20:20:19.369011",
     "exception": false,
     "start_time": "2023-09-17T20:20:19.354491",
     "status": "completed"
    },
    "tags": []
   },
   "source": [
    "Veri kümesi hangi yıllar arasını kapsamaktadır?  - 2"
   ]
  },
  {
   "cell_type": "code",
   "execution_count": 6,
   "id": "d7311c41",
   "metadata": {
    "execution": {
     "iopub.execute_input": "2023-09-17T20:20:19.400626Z",
     "iopub.status.busy": "2023-09-17T20:20:19.400124Z",
     "iopub.status.idle": "2023-09-17T20:20:19.406358Z",
     "shell.execute_reply": "2023-09-17T20:20:19.405037Z"
    },
    "papermill": {
     "duration": 0.02487,
     "end_time": "2023-09-17T20:20:19.408742",
     "exception": false,
     "start_time": "2023-09-17T20:20:19.383872",
     "status": "completed"
    },
    "tags": []
   },
   "outputs": [
    {
     "name": "stdout",
     "output_type": "stream",
     "text": [
      "2016 2011\n"
     ]
    }
   ],
   "source": [
    "print(df['year'].max(),df['year'].min())\n"
   ]
  },
  {
   "cell_type": "markdown",
   "id": "3c30995f",
   "metadata": {
    "papermill": {
     "duration": 0.015441,
     "end_time": "2023-09-17T20:20:19.439908",
     "exception": false,
     "start_time": "2023-09-17T20:20:19.424467",
     "status": "completed"
    },
    "tags": []
   },
   "source": [
    "---"
   ]
  },
  {
   "cell_type": "markdown",
   "id": "5b558db0",
   "metadata": {
    "papermill": {
     "duration": 0.014802,
     "end_time": "2023-09-17T20:20:19.470051",
     "exception": false,
     "start_time": "2023-09-17T20:20:19.455249",
     "status": "completed"
    },
    "tags": []
   },
   "source": [
    "Hangi ülkede en fazla üniversite bulunmaktadır? - 3"
   ]
  },
  {
   "cell_type": "code",
   "execution_count": 7,
   "id": "7f423c31",
   "metadata": {
    "execution": {
     "iopub.execute_input": "2023-09-17T20:20:19.502437Z",
     "iopub.status.busy": "2023-09-17T20:20:19.502025Z",
     "iopub.status.idle": "2023-09-17T20:20:19.512623Z",
     "shell.execute_reply": "2023-09-17T20:20:19.511284Z"
    },
    "papermill": {
     "duration": 0.028968,
     "end_time": "2023-09-17T20:20:19.514543",
     "exception": false,
     "start_time": "2023-09-17T20:20:19.485575",
     "status": "completed"
    },
    "tags": []
   },
   "outputs": [
    {
     "name": "stdout",
     "output_type": "stream",
     "text": [
      "United States of America 161\n"
     ]
    }
   ],
   "source": [
    "no_dub_df = df.drop_duplicates(subset=['university_name'])\n",
    "print(no_dub_df['country'].value_counts().idxmax(),no_dub_df['country'].value_counts().max())"
   ]
  },
  {
   "cell_type": "markdown",
   "id": "ac1cc728",
   "metadata": {
    "papermill": {
     "duration": 0.014994,
     "end_time": "2023-09-17T20:20:19.544841",
     "exception": false,
     "start_time": "2023-09-17T20:20:19.529847",
     "status": "completed"
    },
    "tags": []
   },
   "source": [
    "---"
   ]
  },
  {
   "cell_type": "markdown",
   "id": "fdcc687a",
   "metadata": {
    "papermill": {
     "duration": 0.01534,
     "end_time": "2023-09-17T20:20:19.575452",
     "exception": false,
     "start_time": "2023-09-17T20:20:19.560112",
     "status": "completed"
    },
    "tags": []
   },
   "source": [
    "Ortalama student_staff_ratio değeri nedir? - 4 "
   ]
  },
  {
   "cell_type": "code",
   "execution_count": 8,
   "id": "ae66e92d",
   "metadata": {
    "execution": {
     "iopub.execute_input": "2023-09-17T20:20:19.607439Z",
     "iopub.status.busy": "2023-09-17T20:20:19.606849Z",
     "iopub.status.idle": "2023-09-17T20:20:19.613562Z",
     "shell.execute_reply": "2023-09-17T20:20:19.612803Z"
    },
    "papermill": {
     "duration": 0.024958,
     "end_time": "2023-09-17T20:20:19.615468",
     "exception": false,
     "start_time": "2023-09-17T20:20:19.590510",
     "status": "completed"
    },
    "tags": []
   },
   "outputs": [
    {
     "data": {
      "text/plain": [
       "<bound method Series.info of 0        8.9\n",
       "1        6.9\n",
       "2        9.0\n",
       "3        7.8\n",
       "4        8.4\n",
       "        ... \n",
       "2598    15.3\n",
       "2599    28.7\n",
       "2600     3.7\n",
       "2601    12.1\n",
       "2602    20.6\n",
       "Name: student_staff_ratio, Length: 2603, dtype: float64>"
      ]
     },
     "execution_count": 8,
     "metadata": {},
     "output_type": "execute_result"
    }
   ],
   "source": [
    "df['student_staff_ratio'].info"
   ]
  },
  {
   "cell_type": "code",
   "execution_count": 9,
   "id": "0caae6f3",
   "metadata": {
    "execution": {
     "iopub.execute_input": "2023-09-17T20:20:19.648871Z",
     "iopub.status.busy": "2023-09-17T20:20:19.647911Z",
     "iopub.status.idle": "2023-09-17T20:20:19.653945Z",
     "shell.execute_reply": "2023-09-17T20:20:19.652979Z"
    },
    "papermill": {
     "duration": 0.025161,
     "end_time": "2023-09-17T20:20:19.655926",
     "exception": false,
     "start_time": "2023-09-17T20:20:19.630765",
     "status": "completed"
    },
    "tags": []
   },
   "outputs": [
    {
     "data": {
      "text/plain": [
       "18.445283018867926"
      ]
     },
     "execution_count": 9,
     "metadata": {},
     "output_type": "execute_result"
    }
   ],
   "source": [
    "df.student_staff_ratio.mean()"
   ]
  },
  {
   "cell_type": "markdown",
   "id": "4d696336",
   "metadata": {
    "papermill": {
     "duration": 0.015084,
     "end_time": "2023-09-17T20:20:19.686543",
     "exception": false,
     "start_time": "2023-09-17T20:20:19.671459",
     "status": "completed"
    },
    "tags": []
   },
   "source": [
    "---"
   ]
  },
  {
   "cell_type": "markdown",
   "id": "be2a7a38",
   "metadata": {
    "papermill": {
     "duration": 0.015212,
     "end_time": "2023-09-17T20:20:19.717171",
     "exception": false,
     "start_time": "2023-09-17T20:20:19.701959",
     "status": "completed"
    },
    "tags": []
   },
   "source": [
    "Görselleştirme: country bazında üniversite sayısını gösteren bir sütun grafiği çiziniz. - 5"
   ]
  },
  {
   "cell_type": "code",
   "execution_count": 10,
   "id": "301a39d1",
   "metadata": {
    "execution": {
     "iopub.execute_input": "2023-09-17T20:20:19.749959Z",
     "iopub.status.busy": "2023-09-17T20:20:19.749378Z",
     "iopub.status.idle": "2023-09-17T20:20:21.648494Z",
     "shell.execute_reply": "2023-09-17T20:20:21.647428Z"
    },
    "papermill": {
     "duration": 1.918972,
     "end_time": "2023-09-17T20:20:21.651622",
     "exception": false,
     "start_time": "2023-09-17T20:20:19.732650",
     "status": "completed"
    },
    "tags": []
   },
   "outputs": [
    {
     "data": {
      "image/png": "[encoded data removed]",
      "text/plain": [
       "<Figure size 1600x900 with 1 Axes>"
      ]
     },
     "metadata": {},
     "output_type": "display_data"
    }
   ],
   "source": [
    "uni_count = df.groupby(['year','country']).size().reset_index(name='University Count')\n",
    "\n",
    "plt.figure(figsize=(16,9))\n",
    "plt.xticks(rotation=90)\n",
    "sns.barplot(x='country',y='University Count',data=uni_count)\n",
    "plt.show()\n",
    "\n"
   ]
  },
  {
   "cell_type": "code",
   "execution_count": 11,
   "id": "fce1c220",
   "metadata": {
    "execution": {
     "iopub.execute_input": "2023-09-17T20:20:21.688356Z",
     "iopub.status.busy": "2023-09-17T20:20:21.687287Z",
     "iopub.status.idle": "2023-09-17T20:20:22.398515Z",
     "shell.execute_reply": "2023-09-17T20:20:22.397462Z"
    },
    "papermill": {
     "duration": 0.731993,
     "end_time": "2023-09-17T20:20:22.400783",
     "exception": false,
     "start_time": "2023-09-17T20:20:21.668790",
     "status": "completed"
    },
    "tags": []
   },
   "outputs": [
    {
     "data": {
      "image/png": "[encoded data removed]",
      "text/plain": [
       "<Figure size 640x480 with 1 Axes>"
      ]
     },
     "metadata": {},
     "output_type": "display_data"
    }
   ],
   "source": [
    "#Rana\n",
    "universities_by_country=df['country'].value_counts()\n",
    "universities_by_country.plot(kind='bar')\n",
    "plt.title('Ülkelere Göre Üniversite Sayısı')\n",
    "plt.xlabel('Ülke')\n",
    "plt.ylabel('Üniversite Sayısı')\n",
    "plt.xticks(rotation=90)\n",
    "plt.show()"
   ]
  },
  {
   "cell_type": "markdown",
   "id": "d1659074",
   "metadata": {
    "papermill": {
     "duration": 0.018064,
     "end_time": "2023-09-17T20:20:22.437163",
     "exception": false,
     "start_time": "2023-09-17T20:20:22.419099",
     "status": "completed"
    },
    "tags": []
   },
   "source": [
    "---"
   ]
  },
  {
   "cell_type": "markdown",
   "id": "32eb56c1",
   "metadata": {
    "papermill": {
     "duration": 0.018182,
     "end_time": "2023-09-17T20:20:22.474760",
     "exception": false,
     "start_time": "2023-09-17T20:20:22.456578",
     "status": "completed"
    },
    "tags": []
   },
   "source": [
    "female_male_ratio ortalaması nedir? -6"
   ]
  },
  {
   "cell_type": "code",
   "execution_count": 12,
   "id": "da8ab10f",
   "metadata": {
    "execution": {
     "iopub.execute_input": "2023-09-17T20:20:22.513576Z",
     "iopub.status.busy": "2023-09-17T20:20:22.512861Z",
     "iopub.status.idle": "2023-09-17T20:20:22.538156Z",
     "shell.execute_reply": "2023-09-17T20:20:22.537363Z"
    },
    "papermill": {
     "duration": 0.046983,
     "end_time": "2023-09-17T20:20:22.540115",
     "exception": false,
     "start_time": "2023-09-17T20:20:22.493132",
     "status": "completed"
    },
    "tags": []
   },
   "outputs": [
    {
     "data": {
      "text/plain": [
       "1.0656644263120196"
      ]
     },
     "execution_count": 12,
     "metadata": {},
     "output_type": "execute_result"
    }
   ],
   "source": [
    "temp_df = df.dropna(axis=0)\n",
    "temp_df = temp_df[temp_df['female_male_ratio'] != '-']\n",
    "temp_df['new_ratio'] = temp_df['female_male_ratio'].str.split(' : ').str[0].astype(int) / temp_df['female_male_ratio'].str.split(' : ').str[1].astype(int)\n",
    "temp_df.replace([np.inf,-np.inf],np.nan,inplace=True)\n",
    "\n",
    "temp_df['new_ratio'].mean()"
   ]
  },
  {
   "cell_type": "code",
   "execution_count": 13,
   "id": "bb66a1db",
   "metadata": {
    "execution": {
     "iopub.execute_input": "2023-09-17T20:20:22.580684Z",
     "iopub.status.busy": "2023-09-17T20:20:22.579694Z",
     "iopub.status.idle": "2023-09-17T20:20:22.603230Z",
     "shell.execute_reply": "2023-09-17T20:20:22.602218Z"
    },
    "papermill": {
     "duration": 0.046504,
     "end_time": "2023-09-17T20:20:22.605535",
     "exception": false,
     "start_time": "2023-09-17T20:20:22.559031",
     "status": "completed"
    },
    "tags": []
   },
   "outputs": [
    {
     "name": "stdout",
     "output_type": "stream",
     "text": [
      "     female_male_ratio  female  male\n",
      "1              33 : 67    33.0  67.0\n",
      "2              37 : 63    37.0  63.0\n",
      "3              42 : 58    42.0  58.0\n",
      "4              45 : 55    45.0  55.0\n",
      "5              46 : 54    46.0  54.0\n",
      "...                ...     ...   ...\n",
      "2597           29 : 71    29.0  71.0\n",
      "2598           48 : 52    48.0  52.0\n",
      "2599           36 : 64    36.0  64.0\n",
      "2601           28 : 72    28.0  72.0\n",
      "2602           43 : 57    43.0  57.0\n",
      "\n",
      "[2367 rows x 3 columns]\n",
      "\n",
      "Kadın erkek oranı ortalaması:  1.0684463755952236\n"
     ]
    }
   ],
   "source": [
    "# Yaren \n",
    "def parse_female_male_ratio(ratio_str):\n",
    "    try:\n",
    "        if isinstance(ratio_str, str):\n",
    "            female, male = map(int, ratio_str.split(':'))\n",
    "            return female, male\n",
    "        else:\n",
    "            return None, None\n",
    "    except ValueError:\n",
    "        return None, None\n",
    "df['female'], df['male'] = zip(*df['female_male_ratio'].map(parse_female_male_ratio))\n",
    "df = df.dropna(subset=['female_male_ratio', 'female', 'male'],axis=0)\n",
    "print(df[['female_male_ratio', 'female', 'male']],end='\\n\\n')\n",
    "df=df[df['male']!=0]\n",
    "temp_ratio = df['female'] / df['male']\n",
    "\n",
    "print('Kadın erkek oranı ortalaması: ',temp_ratio.mean())"
   ]
  },
  {
   "cell_type": "markdown",
   "id": "b22436da",
   "metadata": {
    "papermill": {
     "duration": 0.018392,
     "end_time": "2023-09-17T20:20:22.642656",
     "exception": false,
     "start_time": "2023-09-17T20:20:22.624264",
     "status": "completed"
    },
    "tags": []
   },
   "source": [
    "---"
   ]
  },
  {
   "cell_type": "markdown",
   "id": "e92742ef",
   "metadata": {
    "papermill": {
     "duration": 0.018928,
     "end_time": "2023-09-17T20:20:22.680396",
     "exception": false,
     "start_time": "2023-09-17T20:20:22.661468",
     "status": "completed"
    },
    "tags": []
   },
   "source": [
    "total_score değeri 90'ın üzerinde olan üniversitelerin sayısı nedir? - 7"
   ]
  },
  {
   "cell_type": "code",
   "execution_count": 14,
   "id": "b61d5ee9",
   "metadata": {
    "execution": {
     "iopub.execute_input": "2023-09-17T20:20:22.721321Z",
     "iopub.status.busy": "2023-09-17T20:20:22.720723Z",
     "iopub.status.idle": "2023-09-17T20:20:22.730822Z",
     "shell.execute_reply": "2023-09-17T20:20:22.729807Z"
    },
    "papermill": {
     "duration": 0.033345,
     "end_time": "2023-09-17T20:20:22.732868",
     "exception": false,
     "start_time": "2023-09-17T20:20:22.699523",
     "status": "completed"
    },
    "tags": []
   },
   "outputs": [
    {
     "data": {
      "text/plain": [
       "9"
      ]
     },
     "execution_count": 14,
     "metadata": {},
     "output_type": "execute_result"
    }
   ],
   "source": [
    "df['total_score'] = pd.to_numeric(df['total_score'], errors='coerce')\n",
    "len(df[df[\"total_score\"]>90][\"university_name\"].unique())"
   ]
  },
  {
   "cell_type": "markdown",
   "id": "b5ce84a4",
   "metadata": {
    "papermill": {
     "duration": 0.02207,
     "end_time": "2023-09-17T20:20:22.773806",
     "exception": false,
     "start_time": "2023-09-17T20:20:22.751736",
     "status": "completed"
    },
    "tags": []
   },
   "source": [
    "---"
   ]
  },
  {
   "cell_type": "markdown",
   "id": "c54b66ad",
   "metadata": {
    "papermill": {
     "duration": 0.021003,
     "end_time": "2023-09-17T20:20:22.818638",
     "exception": false,
     "start_time": "2023-09-17T20:20:22.797635",
     "status": "completed"
    },
    "tags": []
   },
   "source": [
    "Görselleştirme: Farklı year değerleri için teaching puanlarının dağılımını gösteren bir kutu grafiği çiziniz. - 8 "
   ]
  },
  {
   "cell_type": "code",
   "execution_count": 15,
   "id": "37a06f12",
   "metadata": {
    "execution": {
     "iopub.execute_input": "2023-09-17T20:20:22.861257Z",
     "iopub.status.busy": "2023-09-17T20:20:22.860648Z",
     "iopub.status.idle": "2023-09-17T20:20:23.172038Z",
     "shell.execute_reply": "2023-09-17T20:20:23.170903Z"
    },
    "papermill": {
     "duration": 0.333805,
     "end_time": "2023-09-17T20:20:23.174357",
     "exception": false,
     "start_time": "2023-09-17T20:20:22.840552",
     "status": "completed"
    },
    "tags": []
   },
   "outputs": [
    {
     "data": {
      "text/plain": [
       "(array([0, 1, 2, 3, 4, 5]),\n",
       " [Text(0, 0, '2011'),\n",
       "  Text(1, 0, '2012'),\n",
       "  Text(2, 0, '2013'),\n",
       "  Text(3, 0, '2014'),\n",
       "  Text(4, 0, '2015'),\n",
       "  Text(5, 0, '2016')])"
      ]
     },
     "execution_count": 15,
     "metadata": {},
     "output_type": "execute_result"
    },
    {
     "data": {
      "image/png": "[encoded data removed]",
      "text/plain": [
       "<Figure size 640x480 with 1 Axes>"
      ]
     },
     "metadata": {},
     "output_type": "display_data"
    }
   ],
   "source": [
    "sns.boxplot(x=\"year\", y=\"teaching\", data=df)\n",
    "plt.xticks(rotation = 90)"
   ]
  },
  {
   "cell_type": "markdown",
   "id": "5ef85d65",
   "metadata": {
    "papermill": {
     "duration": 0.021772,
     "end_time": "2023-09-17T20:20:23.215946",
     "exception": false,
     "start_time": "2023-09-17T20:20:23.194174",
     "status": "completed"
    },
    "tags": []
   },
   "source": [
    "---"
   ]
  },
  {
   "cell_type": "markdown",
   "id": "8f3b1375",
   "metadata": {
    "papermill": {
     "duration": 0.019361,
     "end_time": "2023-09-17T20:20:23.257295",
     "exception": false,
     "start_time": "2023-09-17T20:20:23.237934",
     "status": "completed"
    },
    "tags": []
   },
   "source": [
    "Hangi ülkede en yüksek international_students oranına sahip üniversite bulunmaktadır? - 9 "
   ]
  },
  {
   "cell_type": "code",
   "execution_count": 16,
   "id": "20d3a938",
   "metadata": {
    "execution": {
     "iopub.execute_input": "2023-09-17T20:20:23.299084Z",
     "iopub.status.busy": "2023-09-17T20:20:23.298298Z",
     "iopub.status.idle": "2023-09-17T20:20:23.312920Z",
     "shell.execute_reply": "2023-09-17T20:20:23.311299Z"
    },
    "papermill": {
     "duration": 0.038259,
     "end_time": "2023-09-17T20:20:23.315677",
     "exception": false,
     "start_time": "2023-09-17T20:20:23.277418",
     "status": "completed"
    },
    "tags": []
   },
   "outputs": [
    {
     "data": {
      "text/plain": [
       "2411    United Arab Emirates\n",
       "Name: country, dtype: object"
      ]
     },
     "execution_count": 16,
     "metadata": {},
     "output_type": "execute_result"
    }
   ],
   "source": [
    "#Sena Nur\n",
    "\n",
    "df[\"international_students\"] = df[\"international_students\"].str.replace(\"%\",\"\")\n",
    "df[\"international_students\"] = pd.to_numeric(df[\"international_students\"], downcast ='signed')\n",
    "max_deger = df[\"international_students\"].max()\n",
    "df[df[\"international_students\"]== max_deger][\"country\"]"
   ]
  },
  {
   "cell_type": "markdown",
   "id": "e9161d70",
   "metadata": {
    "papermill": {
     "duration": 0.029021,
     "end_time": "2023-09-17T20:20:23.375318",
     "exception": false,
     "start_time": "2023-09-17T20:20:23.346297",
     "status": "completed"
    },
    "tags": []
   },
   "source": [
    "---"
   ]
  },
  {
   "cell_type": "markdown",
   "id": "75de27f3",
   "metadata": {
    "papermill": {
     "duration": 0.022016,
     "end_time": "2023-09-17T20:20:23.426478",
     "exception": false,
     "start_time": "2023-09-17T20:20:23.404462",
     "status": "completed"
    },
    "tags": []
   },
   "source": [
    "Ortalama income değeri nedir? - 10"
   ]
  },
  {
   "cell_type": "code",
   "execution_count": 17,
   "id": "62d8e5f1",
   "metadata": {
    "execution": {
     "iopub.execute_input": "2023-09-17T20:20:23.466970Z",
     "iopub.status.busy": "2023-09-17T20:20:23.465776Z",
     "iopub.status.idle": "2023-09-17T20:20:23.477362Z",
     "shell.execute_reply": "2023-09-17T20:20:23.476218Z"
    },
    "papermill": {
     "duration": 0.033926,
     "end_time": "2023-09-17T20:20:23.479502",
     "exception": false,
     "start_time": "2023-09-17T20:20:23.445576",
     "status": "completed"
    },
    "tags": []
   },
   "outputs": [
    {
     "name": "stdout",
     "output_type": "stream",
     "text": [
      "<class 'pandas.core.series.Series'>\n",
      "Index: 2365 entries, 1 to 2602\n",
      "Series name: income\n",
      "Non-Null Count  Dtype \n",
      "--------------  ----- \n",
      "2365 non-null   object\n",
      "dtypes: object(1)\n",
      "memory usage: 37.0+ KB\n"
     ]
    }
   ],
   "source": [
    "df['income'].info()"
   ]
  },
  {
   "cell_type": "code",
   "execution_count": 18,
   "id": "af6fb178",
   "metadata": {
    "execution": {
     "iopub.execute_input": "2023-09-17T20:20:23.521681Z",
     "iopub.status.busy": "2023-09-17T20:20:23.520783Z",
     "iopub.status.idle": "2023-09-17T20:20:23.540140Z",
     "shell.execute_reply": "2023-09-17T20:20:23.539323Z"
    },
    "papermill": {
     "duration": 0.043845,
     "end_time": "2023-09-17T20:20:23.542852",
     "exception": false,
     "start_time": "2023-09-17T20:20:23.499007",
     "status": "completed"
    },
    "tags": []
   },
   "outputs": [
    {
     "data": {
      "text/plain": [
       "48.8126088950023"
      ]
     },
     "execution_count": 18,
     "metadata": {},
     "output_type": "execute_result"
    }
   ],
   "source": [
    "temp_income_df=df.copy()\n",
    "temp_income_df['income']=temp_income_df['income'].replace('-',np.nan)\n",
    "temp_income_df['income']=temp_income_df['income'].replace('NaN',np.nan)\n",
    "temp_income_df['income']=temp_income_df['income'].replace('nan',np.nan)\n",
    "temp_income_df = temp_income_df.dropna(subset=['income'], axis=0)\n",
    "\n",
    "temp_income_df['income']=temp_income_df['income'].astype(float)\n",
    "temp_income_df.income.mean()"
   ]
  },
  {
   "cell_type": "markdown",
   "id": "3a37bf7e",
   "metadata": {
    "papermill": {
     "duration": 0.019616,
     "end_time": "2023-09-17T20:20:23.583822",
     "exception": false,
     "start_time": "2023-09-17T20:20:23.564206",
     "status": "completed"
    },
    "tags": []
   },
   "source": [
    "---"
   ]
  },
  {
   "cell_type": "markdown",
   "id": "c361590a",
   "metadata": {
    "papermill": {
     "duration": 0.019008,
     "end_time": "2023-09-17T20:20:23.622251",
     "exception": false,
     "start_time": "2023-09-17T20:20:23.603243",
     "status": "completed"
    },
    "tags": []
   },
   "source": [
    "Hangi üniversite en yüksek research puanına sahip? - 1"
   ]
  },
  {
   "cell_type": "code",
   "execution_count": 19,
   "id": "3073278a",
   "metadata": {
    "execution": {
     "iopub.execute_input": "2023-09-17T20:20:23.662974Z",
     "iopub.status.busy": "2023-09-17T20:20:23.662107Z",
     "iopub.status.idle": "2023-09-17T20:20:23.668065Z",
     "shell.execute_reply": "2023-09-17T20:20:23.667150Z"
    },
    "papermill": {
     "duration": 0.028576,
     "end_time": "2023-09-17T20:20:23.670080",
     "exception": false,
     "start_time": "2023-09-17T20:20:23.641504",
     "status": "completed"
    },
    "tags": []
   },
   "outputs": [],
   "source": [
    "temp_res_df = df.copy()"
   ]
  },
  {
   "cell_type": "code",
   "execution_count": 20,
   "id": "3907b409",
   "metadata": {
    "execution": {
     "iopub.execute_input": "2023-09-17T20:20:23.711452Z",
     "iopub.status.busy": "2023-09-17T20:20:23.710703Z",
     "iopub.status.idle": "2023-09-17T20:20:23.722991Z",
     "shell.execute_reply": "2023-09-17T20:20:23.722179Z"
    },
    "papermill": {
     "duration": 0.035126,
     "end_time": "2023-09-17T20:20:23.725022",
     "exception": false,
     "start_time": "2023-09-17T20:20:23.689896",
     "status": "completed"
    },
    "tags": []
   },
   "outputs": [
    {
     "data": {
      "text/plain": [
       "university_name\n",
       "California Institute of Technology    98.25\n",
       "Name: research, dtype: float64"
      ]
     },
     "execution_count": 20,
     "metadata": {},
     "output_type": "execute_result"
    }
   ],
   "source": [
    "# Buğra\n",
    "\n",
    "temp_res_df.groupby('university_name')['research'].mean().sort_values(ascending=False).head(1)"
   ]
  },
  {
   "cell_type": "code",
   "execution_count": 21,
   "id": "ea124365",
   "metadata": {
    "execution": {
     "iopub.execute_input": "2023-09-17T20:20:23.765862Z",
     "iopub.status.busy": "2023-09-17T20:20:23.765129Z",
     "iopub.status.idle": "2023-09-17T20:20:23.772999Z",
     "shell.execute_reply": "2023-09-17T20:20:23.771886Z"
    },
    "papermill": {
     "duration": 0.030595,
     "end_time": "2023-09-17T20:20:23.775007",
     "exception": false,
     "start_time": "2023-09-17T20:20:23.744412",
     "status": "completed"
    },
    "tags": []
   },
   "outputs": [
    {
     "name": "stdout",
     "output_type": "stream",
     "text": [
      "En yüksek research puanına sahip üniversite: University of California, Berkeley\n"
     ]
    }
   ],
   "source": [
    "# Rana \n",
    "\n",
    "en_yuksek_research_puanli_universite = df[df['research'] == df['research'].max()]['university_name'].values[0]\n",
    "print(f\"En yüksek research puanına sahip üniversite: {en_yuksek_research_puanli_universite}\")"
   ]
  },
  {
   "cell_type": "code",
   "execution_count": 22,
   "id": "0747931f",
   "metadata": {
    "execution": {
     "iopub.execute_input": "2023-09-17T20:20:23.816077Z",
     "iopub.status.busy": "2023-09-17T20:20:23.815336Z",
     "iopub.status.idle": "2023-09-17T20:20:23.836950Z",
     "shell.execute_reply": "2023-09-17T20:20:23.835794Z"
    },
    "papermill": {
     "duration": 0.044614,
     "end_time": "2023-09-17T20:20:23.839196",
     "exception": false,
     "start_time": "2023-09-17T20:20:23.794582",
     "status": "completed"
    },
    "tags": []
   },
   "outputs": [
    {
     "data": {
      "text/html": [
       "<div>\n",
       "<style scoped>\n",
       "    .dataframe tbody tr th:only-of-type {\n",
       "        vertical-align: middle;\n",
       "    }\n",
       "\n",
       "    .dataframe tbody tr th {\n",
       "        vertical-align: top;\n",
       "    }\n",
       "\n",
       "    .dataframe thead th {\n",
       "        text-align: right;\n",
       "    }\n",
       "</style>\n",
       "<table border=\"1\" class=\"dataframe\">\n",
       "  <thead>\n",
       "    <tr style=\"text-align: right;\">\n",
       "      <th></th>\n",
       "      <th>world_rank</th>\n",
       "      <th>university_name</th>\n",
       "      <th>country</th>\n",
       "      <th>teaching</th>\n",
       "      <th>international</th>\n",
       "      <th>research</th>\n",
       "      <th>citations</th>\n",
       "      <th>income</th>\n",
       "      <th>total_score</th>\n",
       "      <th>num_students</th>\n",
       "      <th>student_staff_ratio</th>\n",
       "      <th>international_students</th>\n",
       "      <th>female_male_ratio</th>\n",
       "      <th>year</th>\n",
       "      <th>female</th>\n",
       "      <th>male</th>\n",
       "    </tr>\n",
       "  </thead>\n",
       "  <tbody>\n",
       "    <tr>\n",
       "      <th>209</th>\n",
       "      <td>10</td>\n",
       "      <td>University of California, Berkeley</td>\n",
       "      <td>United States of America</td>\n",
       "      <td>82.8</td>\n",
       "      <td>50.4</td>\n",
       "      <td>99.4</td>\n",
       "      <td>99.4</td>\n",
       "      <td>62.5</td>\n",
       "      <td>89.8</td>\n",
       "      <td>36,186</td>\n",
       "      <td>16.4</td>\n",
       "      <td>15.0</td>\n",
       "      <td>50 : 50</td>\n",
       "      <td>2012</td>\n",
       "      <td>50.0</td>\n",
       "      <td>50.0</td>\n",
       "    </tr>\n",
       "    <tr>\n",
       "      <th>602</th>\n",
       "      <td>1</td>\n",
       "      <td>California Institute of Technology</td>\n",
       "      <td>United States of America</td>\n",
       "      <td>96.3</td>\n",
       "      <td>59.8</td>\n",
       "      <td>99.4</td>\n",
       "      <td>99.7</td>\n",
       "      <td>95.6</td>\n",
       "      <td>95.5</td>\n",
       "      <td>2,243</td>\n",
       "      <td>6.9</td>\n",
       "      <td>27.0</td>\n",
       "      <td>33 : 67</td>\n",
       "      <td>2013</td>\n",
       "      <td>33.0</td>\n",
       "      <td>67.0</td>\n",
       "    </tr>\n",
       "    <tr>\n",
       "      <th>607</th>\n",
       "      <td>6</td>\n",
       "      <td>Princeton University</td>\n",
       "      <td>United States of America</td>\n",
       "      <td>89.5</td>\n",
       "      <td>54.5</td>\n",
       "      <td>99.4</td>\n",
       "      <td>99.8</td>\n",
       "      <td>79.5</td>\n",
       "      <td>92.7</td>\n",
       "      <td>7,929</td>\n",
       "      <td>8.4</td>\n",
       "      <td>27.0</td>\n",
       "      <td>45 : 55</td>\n",
       "      <td>2013</td>\n",
       "      <td>45.0</td>\n",
       "      <td>55.0</td>\n",
       "    </tr>\n",
       "  </tbody>\n",
       "</table>\n",
       "</div>"
      ],
      "text/plain": [
       "    world_rank                     university_name                   country  \\\n",
       "209         10  University of California, Berkeley  United States of America   \n",
       "602          1  California Institute of Technology  United States of America   \n",
       "607          6                Princeton University  United States of America   \n",
       "\n",
       "     teaching international  research  citations income  total_score  \\\n",
       "209      82.8          50.4      99.4       99.4   62.5         89.8   \n",
       "602      96.3          59.8      99.4       99.7   95.6         95.5   \n",
       "607      89.5          54.5      99.4       99.8   79.5         92.7   \n",
       "\n",
       "    num_students  student_staff_ratio  international_students  \\\n",
       "209       36,186                 16.4                    15.0   \n",
       "602        2,243                  6.9                    27.0   \n",
       "607        7,929                  8.4                    27.0   \n",
       "\n",
       "    female_male_ratio  year  female  male  \n",
       "209           50 : 50  2012    50.0  50.0  \n",
       "602           33 : 67  2013    33.0  67.0  \n",
       "607           45 : 55  2013    45.0  55.0  "
      ]
     },
     "execution_count": 22,
     "metadata": {},
     "output_type": "execute_result"
    }
   ],
   "source": [
    "# Sena Nur\n",
    "\n",
    "df[df[\"research\"]==df[\"research\"].max()]"
   ]
  },
  {
   "cell_type": "code",
   "execution_count": 23,
   "id": "b12923ca",
   "metadata": {
    "execution": {
     "iopub.execute_input": "2023-09-17T20:20:23.881936Z",
     "iopub.status.busy": "2023-09-17T20:20:23.881175Z",
     "iopub.status.idle": "2023-09-17T20:20:23.888363Z",
     "shell.execute_reply": "2023-09-17T20:20:23.887416Z"
    },
    "papermill": {
     "duration": 0.030763,
     "end_time": "2023-09-17T20:20:23.890399",
     "exception": false,
     "start_time": "2023-09-17T20:20:23.859636",
     "status": "completed"
    },
    "tags": []
   },
   "outputs": [
    {
     "name": "stdout",
     "output_type": "stream",
     "text": [
      "University of California, Berkeley\n"
     ]
    }
   ],
   "source": [
    "# Yaren\n",
    "\n",
    "enYuksekResearch = df[df['research'] == df['research'].max()]['university_name'].values[0]\n",
    "print(enYuksekResearch)"
   ]
  },
  {
   "cell_type": "markdown",
   "id": "14813207",
   "metadata": {
    "papermill": {
     "duration": 0.019272,
     "end_time": "2023-09-17T20:20:23.929262",
     "exception": false,
     "start_time": "2023-09-17T20:20:23.909990",
     "status": "completed"
    },
    "tags": []
   },
   "source": [
    "---"
   ]
  },
  {
   "cell_type": "markdown",
   "id": "ba0236d9",
   "metadata": {
    "papermill": {
     "duration": 0.019924,
     "end_time": "2023-09-17T20:20:23.968947",
     "exception": false,
     "start_time": "2023-09-17T20:20:23.949023",
     "status": "completed"
    },
    "tags": []
   },
   "source": [
    "Hangi ülkede yer alan üniversiteler en yüksek ortalama total_score değerine sahiptir? -2"
   ]
  },
  {
   "cell_type": "code",
   "execution_count": 24,
   "id": "9354beb8",
   "metadata": {
    "execution": {
     "iopub.execute_input": "2023-09-17T20:20:24.013481Z",
     "iopub.status.busy": "2023-09-17T20:20:24.012692Z",
     "iopub.status.idle": "2023-09-17T20:20:24.036545Z",
     "shell.execute_reply": "2023-09-17T20:20:24.035428Z"
    },
    "papermill": {
     "duration": 0.047687,
     "end_time": "2023-09-17T20:20:24.038661",
     "exception": false,
     "start_time": "2023-09-17T20:20:23.990974",
     "status": "completed"
    },
    "tags": []
   },
   "outputs": [
    {
     "data": {
      "text/html": [
       "<div>\n",
       "<style scoped>\n",
       "    .dataframe tbody tr th:only-of-type {\n",
       "        vertical-align: middle;\n",
       "    }\n",
       "\n",
       "    .dataframe tbody tr th {\n",
       "        vertical-align: top;\n",
       "    }\n",
       "\n",
       "    .dataframe thead th {\n",
       "        text-align: right;\n",
       "    }\n",
       "</style>\n",
       "<table border=\"1\" class=\"dataframe\">\n",
       "  <thead>\n",
       "    <tr style=\"text-align: right;\">\n",
       "      <th></th>\n",
       "      <th>country</th>\n",
       "      <th>university_name</th>\n",
       "      <th>total_score</th>\n",
       "    </tr>\n",
       "  </thead>\n",
       "  <tbody>\n",
       "    <tr>\n",
       "      <th>0</th>\n",
       "      <td>United States of America</td>\n",
       "      <td>California Institute of Technology</td>\n",
       "      <td>95.116667</td>\n",
       "    </tr>\n",
       "    <tr>\n",
       "      <th>1</th>\n",
       "      <td>United States of America</td>\n",
       "      <td>Stanford University</td>\n",
       "      <td>93.750000</td>\n",
       "    </tr>\n",
       "    <tr>\n",
       "      <th>3</th>\n",
       "      <td>United States of America</td>\n",
       "      <td>Massachusetts Institute of Technology</td>\n",
       "      <td>92.983333</td>\n",
       "    </tr>\n",
       "    <tr>\n",
       "      <th>4</th>\n",
       "      <td>United States of America</td>\n",
       "      <td>Princeton University</td>\n",
       "      <td>92.250000</td>\n",
       "    </tr>\n",
       "    <tr>\n",
       "      <th>6</th>\n",
       "      <td>United States of America</td>\n",
       "      <td>University of California, Berkeley</td>\n",
       "      <td>89.650000</td>\n",
       "    </tr>\n",
       "    <tr>\n",
       "      <th>...</th>\n",
       "      <td>...</td>\n",
       "      <td>...</td>\n",
       "      <td>...</td>\n",
       "    </tr>\n",
       "    <tr>\n",
       "      <th>252</th>\n",
       "      <td>Australia</td>\n",
       "      <td>University of Tasmania</td>\n",
       "      <td>NaN</td>\n",
       "    </tr>\n",
       "    <tr>\n",
       "      <th>253</th>\n",
       "      <td>Australia</td>\n",
       "      <td>University of Technology Sydney</td>\n",
       "      <td>NaN</td>\n",
       "    </tr>\n",
       "    <tr>\n",
       "      <th>254</th>\n",
       "      <td>Australia</td>\n",
       "      <td>University of Wollongong</td>\n",
       "      <td>NaN</td>\n",
       "    </tr>\n",
       "    <tr>\n",
       "      <th>255</th>\n",
       "      <td>Australia</td>\n",
       "      <td>Western Sydney University</td>\n",
       "      <td>NaN</td>\n",
       "    </tr>\n",
       "    <tr>\n",
       "      <th>233</th>\n",
       "      <td>Argentina</td>\n",
       "      <td>National University of Córdoba</td>\n",
       "      <td>NaN</td>\n",
       "    </tr>\n",
       "  </tbody>\n",
       "</table>\n",
       "<p>738 rows × 3 columns</p>\n",
       "</div>"
      ],
      "text/plain": [
       "                      country                        university_name  \\\n",
       "0    United States of America     California Institute of Technology   \n",
       "1    United States of America                    Stanford University   \n",
       "3    United States of America  Massachusetts Institute of Technology   \n",
       "4    United States of America                   Princeton University   \n",
       "6    United States of America     University of California, Berkeley   \n",
       "..                        ...                                    ...   \n",
       "252                 Australia                 University of Tasmania   \n",
       "253                 Australia        University of Technology Sydney   \n",
       "254                 Australia               University of Wollongong   \n",
       "255                 Australia              Western Sydney University   \n",
       "233                 Argentina         National University of Córdoba   \n",
       "\n",
       "     total_score  \n",
       "0      95.116667  \n",
       "1      93.750000  \n",
       "3      92.983333  \n",
       "4      92.250000  \n",
       "6      89.650000  \n",
       "..           ...  \n",
       "252          NaN  \n",
       "253          NaN  \n",
       "254          NaN  \n",
       "255          NaN  \n",
       "233          NaN  \n",
       "\n",
       "[738 rows x 3 columns]"
      ]
     },
     "execution_count": 24,
     "metadata": {},
     "output_type": "execute_result"
    }
   ],
   "source": [
    "temp_totalscore_df = df.copy()\n",
    "temp_totalscore_df = temp_totalscore_df.replace('Unted Kingdom','United Kingdom')\n",
    "sorted_avg = temp_totalscore_df.groupby(['country','university_name'])['total_score'].mean().sort_values(ascending=False).reset_index()\n",
    "sorted_avg.sort_values(by=['country','total_score'],ascending=[False,False])"
   ]
  },
  {
   "cell_type": "code",
   "execution_count": 25,
   "id": "608b2f62",
   "metadata": {
    "execution": {
     "iopub.execute_input": "2023-09-17T20:20:24.081352Z",
     "iopub.status.busy": "2023-09-17T20:20:24.080603Z",
     "iopub.status.idle": "2023-09-17T20:20:24.088155Z",
     "shell.execute_reply": "2023-09-17T20:20:24.087141Z"
    },
    "papermill": {
     "duration": 0.031582,
     "end_time": "2023-09-17T20:20:24.090176",
     "exception": false,
     "start_time": "2023-09-17T20:20:24.058594",
     "status": "completed"
    },
    "tags": []
   },
   "outputs": [
    {
     "name": "stdout",
     "output_type": "stream",
     "text": [
      "En yüksek ortalama total_score değerine sahip ülke: Singapore\n"
     ]
    }
   ],
   "source": [
    "# Rana \n",
    "\n",
    "en_yuksek_ortalama_total_score_ulke = temp_totalscore_df.groupby('country')['total_score'].mean().idxmax()\n",
    "print(f\"En yüksek ortalama total_score değerine sahip ülke: {en_yuksek_ortalama_total_score_ulke}\")"
   ]
  },
  {
   "cell_type": "markdown",
   "id": "307953b8",
   "metadata": {
    "papermill": {
     "duration": 0.020063,
     "end_time": "2023-09-17T20:20:24.130281",
     "exception": false,
     "start_time": "2023-09-17T20:20:24.110218",
     "status": "completed"
    },
    "tags": []
   },
   "source": [
    "---"
   ]
  },
  {
   "cell_type": "markdown",
   "id": "ecbda386",
   "metadata": {
    "papermill": {
     "duration": 0.020406,
     "end_time": "2023-09-17T20:20:24.171069",
     "exception": false,
     "start_time": "2023-09-17T20:20:24.150663",
     "status": "completed"
    },
    "tags": []
   },
   "source": [
    "world_rank 1-100 arasında olan üniversitelerin ortalama international puanı nedir? -3 "
   ]
  },
  {
   "cell_type": "code",
   "execution_count": 26,
   "id": "4220ed81",
   "metadata": {
    "execution": {
     "iopub.execute_input": "2023-09-17T20:20:24.215325Z",
     "iopub.status.busy": "2023-09-17T20:20:24.214948Z",
     "iopub.status.idle": "2023-09-17T20:20:24.222182Z",
     "shell.execute_reply": "2023-09-17T20:20:24.221416Z"
    },
    "papermill": {
     "duration": 0.0317,
     "end_time": "2023-09-17T20:20:24.224021",
     "exception": false,
     "start_time": "2023-09-17T20:20:24.192321",
     "status": "completed"
    },
    "tags": []
   },
   "outputs": [
    {
     "data": {
      "text/plain": [
       "array(['2', '3', '4', '5', '6', '8', '9', '10', '11', '12', '13', '14',\n",
       "       '15', '19', '20', '21', '22', '23', '24', '25', '27', '28', '29',\n",
       "       '30', '32', '33', '34', '35', '36', '39', '40', '42', '43', '47',\n",
       "       '48', '49', '51', '52', '53', '54', '56', '58', '59', '60', '61',\n",
       "       '63', '64', '65', '66', '67', '68', '71', '72', '73', '75', '76',\n",
       "       '77', '78', '79', '81', '83', '85', '87', '88', '90', '93', '95',\n",
       "       '98', '99', '100', '101', '102', '103', '104', '105', '106', '107',\n",
       "       '109', '111', '112', '114', '115', '117', '118', '119', '120',\n",
       "       '122', '124', '127', '128', '129', '130', '132', '135', '137',\n",
       "       '138', '139', '140', '142', '143', '144', '145', '147', '149',\n",
       "       '151', '152', '155', '156', '159', '161', '163', '164', '165',\n",
       "       '167', '168', '170', '171', '172', '173', '174', '177', '178',\n",
       "       '181', '182', '183', '184', '185', '186', '187', '189', '190',\n",
       "       '193', '195', '196', '197', '199', '1', '7', '16', '17', '18',\n",
       "       '26', '31', '37', '38', '44', '45', '46', '55', '57', '69', '70',\n",
       "       '74', '84', '86', '89', '91', '92', '94', '96', '97', '108', '110',\n",
       "       '113', '121', '123', '125', '131', '133', '134', '141', '146',\n",
       "       '148', '150', '154', '157', '162', '169', '176', '180', '191',\n",
       "       '194', '200', '201-225', '226-250', '251-275', '276-300',\n",
       "       '301-350', '350-400', '41', '50', '62', '80', '116', '153', '158',\n",
       "       '166', '192', '198', '351-400', '126', '136', '160', '188', '82',\n",
       "       '175', '=39', '=44', '=47', '=56', '=60', '=65', '=76', '=82',\n",
       "       '=88', '=90', '=94', '=99', '=101', '=104', '=106', '=110', '=113',\n",
       "       '=120', '=123', '=125', '=127', '=131', '=133', '=138', '=144',\n",
       "       '=149', '=158', '=161', '=164', '=167', '=172', '=176', '179',\n",
       "       '=180', '=182', '=185', '=190', '=193', '=196', '201-250',\n",
       "       '251-300', '401-500', '501-600', '601-800'], dtype=object)"
      ]
     },
     "execution_count": 26,
     "metadata": {},
     "output_type": "execute_result"
    }
   ],
   "source": [
    "df['world_rank'].unique()"
   ]
  },
  {
   "cell_type": "code",
   "execution_count": 27,
   "id": "cd90d4cd",
   "metadata": {
    "execution": {
     "iopub.execute_input": "2023-09-17T20:20:24.265810Z",
     "iopub.status.busy": "2023-09-17T20:20:24.265389Z",
     "iopub.status.idle": "2023-09-17T20:20:24.273281Z",
     "shell.execute_reply": "2023-09-17T20:20:24.272580Z"
    },
    "papermill": {
     "duration": 0.03117,
     "end_time": "2023-09-17T20:20:24.275244",
     "exception": false,
     "start_time": "2023-09-17T20:20:24.244074",
     "status": "completed"
    },
    "tags": []
   },
   "outputs": [],
   "source": [
    "df['international'] = df['international'].str.replace('-', '0', regex=True)\n"
   ]
  },
  {
   "cell_type": "code",
   "execution_count": 28,
   "id": "5439df6f",
   "metadata": {
    "execution": {
     "iopub.execute_input": "2023-09-17T20:20:24.317035Z",
     "iopub.status.busy": "2023-09-17T20:20:24.316647Z",
     "iopub.status.idle": "2023-09-17T20:20:24.321821Z",
     "shell.execute_reply": "2023-09-17T20:20:24.321099Z"
    },
    "papermill": {
     "duration": 0.028006,
     "end_time": "2023-09-17T20:20:24.323600",
     "exception": false,
     "start_time": "2023-09-17T20:20:24.295594",
     "status": "completed"
    },
    "tags": []
   },
   "outputs": [],
   "source": [
    "df['international']=df['international'].astype(float)"
   ]
  },
  {
   "cell_type": "code",
   "execution_count": 29,
   "id": "b4713186",
   "metadata": {
    "execution": {
     "iopub.execute_input": "2023-09-17T20:20:24.365572Z",
     "iopub.status.busy": "2023-09-17T20:20:24.364972Z",
     "iopub.status.idle": "2023-09-17T20:20:24.376635Z",
     "shell.execute_reply": "2023-09-17T20:20:24.375759Z"
    },
    "papermill": {
     "duration": 0.034939,
     "end_time": "2023-09-17T20:20:24.378649",
     "exception": false,
     "start_time": "2023-09-17T20:20:24.343710",
     "status": "completed"
    },
    "tags": []
   },
   "outputs": [
    {
     "data": {
      "text/plain": [
       "60.56107899807322"
      ]
     },
     "execution_count": 29,
     "metadata": {},
     "output_type": "execute_result"
    }
   ],
   "source": [
    "filt_list = ['1', '2', '3', '4', '5', '6', '8', '9', '10', '11', '12', '13',\n",
    "       '14', '15', '17', '18', '19', '20', '21', '22', '23', '24', '25',\n",
    "       '26', '27', '28', '29', '30', '32', '33', '34', '35', '36', '37',\n",
    "       '38', '39', '40', '41', '42', '43', '47', '48', '49', '51', '52',\n",
    "       '53', '54', '55', '56', '57', '58', '59', '60', '61', '63', '64',\n",
    "       '65', '66', '67', '68', '71', '72', '73', '75', '76', '77', '78',\n",
    "       '79', '81', '83', '85', '86', '87', '88', '89', '90', '93', '94',\n",
    "       '95', '98', '99', '100','7','16','31', '44', '45', '46', '62', '69', \n",
    "       '70', '74', '80', '84', '91',\n",
    "       '92', '96', '97','=39', '=44', '=47', '=56', '=60', '=65', '=76', '=82', '=88',\n",
    "       '=90', '=94', '=99',]\n",
    "\n",
    "df[df['world_rank'].astype(str).isin(filt_list)]['international'].mean()"
   ]
  },
  {
   "cell_type": "markdown",
   "id": "25c6f3ed",
   "metadata": {
    "papermill": {
     "duration": 0.020214,
     "end_time": "2023-09-17T20:20:24.420675",
     "exception": false,
     "start_time": "2023-09-17T20:20:24.400461",
     "status": "completed"
    },
    "tags": []
   },
   "source": [
    "---"
   ]
  },
  {
   "cell_type": "markdown",
   "id": "6ad1b1c5",
   "metadata": {
    "papermill": {
     "duration": 0.019965,
     "end_time": "2023-09-17T20:20:24.461334",
     "exception": false,
     "start_time": "2023-09-17T20:20:24.441369",
     "status": "completed"
    },
    "tags": []
   },
   "source": [
    "Görselleştirme: En yüksek 10 teaching puanına sahip üniversiteleri ve bu puanları gösteren bir bar grafiği oluşturunuz. -4 "
   ]
  },
  {
   "cell_type": "code",
   "execution_count": 30,
   "id": "5c714a05",
   "metadata": {
    "execution": {
     "iopub.execute_input": "2023-09-17T20:20:24.504225Z",
     "iopub.status.busy": "2023-09-17T20:20:24.503665Z",
     "iopub.status.idle": "2023-09-17T20:20:24.907952Z",
     "shell.execute_reply": "2023-09-17T20:20:24.906953Z"
    },
    "papermill": {
     "duration": 0.428915,
     "end_time": "2023-09-17T20:20:24.910769",
     "exception": false,
     "start_time": "2023-09-17T20:20:24.481854",
     "status": "completed"
    },
    "tags": []
   },
   "outputs": [
    {
     "data": {
      "image/png": "[encoded data removed]",
      "text/plain": [
       "<Figure size 2200x1100 with 1 Axes>"
      ]
     },
     "metadata": {},
     "output_type": "display_data"
    }
   ],
   "source": [
    "temp_teach_df = df.copy()\n",
    "grouped_teach = temp_teach_df.groupby('university_name')['teaching'].mean().reset_index()\n",
    "plt.figure(figsize=(22,11))\n",
    "plt.xticks(rotation=45)\n",
    "sns.barplot(x='university_name',y='teaching',data=grouped_teach.sort_values(by=['teaching'],ascending=False).head(10))\n",
    "plt.show()\n",
    "\n"
   ]
  },
  {
   "cell_type": "markdown",
   "id": "8f49d2dc",
   "metadata": {
    "papermill": {
     "duration": 0.021708,
     "end_time": "2023-09-17T20:20:24.954754",
     "exception": false,
     "start_time": "2023-09-17T20:20:24.933046",
     "status": "completed"
    },
    "tags": []
   },
   "source": [
    "---"
   ]
  },
  {
   "cell_type": "markdown",
   "id": "f32b617e",
   "metadata": {
    "papermill": {
     "duration": 0.021613,
     "end_time": "2023-09-17T20:20:24.997846",
     "exception": false,
     "start_time": "2023-09-17T20:20:24.976233",
     "status": "completed"
    },
    "tags": []
   },
   "source": [
    "Hangi üniversiteler ortalamanın üzerinde citations puanına sahip? -5 "
   ]
  },
  {
   "cell_type": "code",
   "execution_count": 31,
   "id": "2d8f2c01",
   "metadata": {
    "execution": {
     "iopub.execute_input": "2023-09-17T20:20:25.043181Z",
     "iopub.status.busy": "2023-09-17T20:20:25.042571Z",
     "iopub.status.idle": "2023-09-17T20:20:25.060871Z",
     "shell.execute_reply": "2023-09-17T20:20:25.059673Z"
    },
    "papermill": {
     "duration": 0.043396,
     "end_time": "2023-09-17T20:20:25.062907",
     "exception": false,
     "start_time": "2023-09-17T20:20:25.019511",
     "status": "completed"
    },
    "tags": []
   },
   "outputs": [
    {
     "name": "stdout",
     "output_type": "stream",
     "text": [
      "mean Citation Score:  61.00422832980973\n"
     ]
    },
    {
     "data": {
      "text/html": [
       "<div>\n",
       "<style scoped>\n",
       "    .dataframe tbody tr th:only-of-type {\n",
       "        vertical-align: middle;\n",
       "    }\n",
       "\n",
       "    .dataframe tbody tr th {\n",
       "        vertical-align: top;\n",
       "    }\n",
       "\n",
       "    .dataframe thead th {\n",
       "        text-align: right;\n",
       "    }\n",
       "</style>\n",
       "<table border=\"1\" class=\"dataframe\">\n",
       "  <thead>\n",
       "    <tr style=\"text-align: right;\">\n",
       "      <th></th>\n",
       "      <th>university_name</th>\n",
       "      <th>citations</th>\n",
       "    </tr>\n",
       "  </thead>\n",
       "  <tbody>\n",
       "    <tr>\n",
       "      <th>0</th>\n",
       "      <td>Massachusetts Institute of Technology</td>\n",
       "      <td>99.916667</td>\n",
       "    </tr>\n",
       "    <tr>\n",
       "      <th>1</th>\n",
       "      <td>University of California, Santa Cruz</td>\n",
       "      <td>99.866667</td>\n",
       "    </tr>\n",
       "    <tr>\n",
       "      <th>2</th>\n",
       "      <td>California Institute of Technology</td>\n",
       "      <td>99.800000</td>\n",
       "    </tr>\n",
       "    <tr>\n",
       "      <th>3</th>\n",
       "      <td>Rice University</td>\n",
       "      <td>99.750000</td>\n",
       "    </tr>\n",
       "    <tr>\n",
       "      <th>4</th>\n",
       "      <td>Princeton University</td>\n",
       "      <td>99.716667</td>\n",
       "    </tr>\n",
       "    <tr>\n",
       "      <th>...</th>\n",
       "      <td>...</td>\n",
       "      <td>...</td>\n",
       "    </tr>\n",
       "    <tr>\n",
       "      <th>252</th>\n",
       "      <td>University of Bologna</td>\n",
       "      <td>61.540000</td>\n",
       "    </tr>\n",
       "    <tr>\n",
       "      <th>253</th>\n",
       "      <td>University of Western Australia</td>\n",
       "      <td>61.460000</td>\n",
       "    </tr>\n",
       "    <tr>\n",
       "      <th>254</th>\n",
       "      <td>University of Maryland, Baltimore County</td>\n",
       "      <td>61.300000</td>\n",
       "    </tr>\n",
       "    <tr>\n",
       "      <th>255</th>\n",
       "      <td>University of Greifswald</td>\n",
       "      <td>61.300000</td>\n",
       "    </tr>\n",
       "    <tr>\n",
       "      <th>256</th>\n",
       "      <td>Charles Darwin University</td>\n",
       "      <td>61.080000</td>\n",
       "    </tr>\n",
       "  </tbody>\n",
       "</table>\n",
       "<p>257 rows × 2 columns</p>\n",
       "</div>"
      ],
      "text/plain": [
       "                              university_name  citations\n",
       "0       Massachusetts Institute of Technology  99.916667\n",
       "1        University of California, Santa Cruz  99.866667\n",
       "2          California Institute of Technology  99.800000\n",
       "3                             Rice University  99.750000\n",
       "4                        Princeton University  99.716667\n",
       "..                                        ...        ...\n",
       "252                     University of Bologna  61.540000\n",
       "253           University of Western Australia  61.460000\n",
       "254  University of Maryland, Baltimore County  61.300000\n",
       "255                  University of Greifswald  61.300000\n",
       "256                 Charles Darwin University  61.080000\n",
       "\n",
       "[257 rows x 2 columns]"
      ]
     },
     "execution_count": 31,
     "metadata": {},
     "output_type": "execute_result"
    }
   ],
   "source": [
    "df = df.copy()\n",
    "grp_citation = df.groupby('university_name')['citations'].mean().reset_index()\n",
    "mean_citations = df.citations.mean()\n",
    "print('mean Citation Score: ',mean_citations,end='\\n')\n",
    "grp_citation[grp_citation['citations']> mean_citations].sort_values(by=['citations'],ascending=False).reset_index(drop=True)"
   ]
  },
  {
   "cell_type": "code",
   "execution_count": 32,
   "id": "ac26cfed",
   "metadata": {
    "execution": {
     "iopub.execute_input": "2023-09-17T20:20:25.108965Z",
     "iopub.status.busy": "2023-09-17T20:20:25.108612Z",
     "iopub.status.idle": "2023-09-17T20:20:25.119785Z",
     "shell.execute_reply": "2023-09-17T20:20:25.118243Z"
    },
    "papermill": {
     "duration": 0.03665,
     "end_time": "2023-09-17T20:20:25.121862",
     "exception": false,
     "start_time": "2023-09-17T20:20:25.085212",
     "status": "completed"
    },
    "tags": []
   },
   "outputs": [
    {
     "name": "stdout",
     "output_type": "stream",
     "text": [
      "                            university_name  citations\n",
      "1        California Institute of Technology       99.9\n",
      "2     Massachusetts Institute of Technology       99.9\n",
      "3                       Stanford University       99.2\n",
      "4                      Princeton University       99.9\n",
      "5                   University of Cambridge       94.0\n",
      "...                                     ...        ...\n",
      "2277    University of Rome II – Tor Vergata       64.5\n",
      "2278         University of Rovira i Virgili       66.9\n",
      "2288                  University of Tampere       63.7\n",
      "2291          Tokyo Metropolitan University       72.2\n",
      "2297          University of Urbino Carlo Bo       66.8\n",
      "\n",
      "[1236 rows x 2 columns]\n"
     ]
    }
   ],
   "source": [
    "# Rana\n",
    "\n",
    "ustundeki_universiteler = df[df['citations'] > df['citations'].mean()]\n",
    "print(ustundeki_universiteler[['university_name', 'citations']])"
   ]
  },
  {
   "cell_type": "code",
   "execution_count": 33,
   "id": "1fcf3022",
   "metadata": {
    "execution": {
     "iopub.execute_input": "2023-09-17T20:20:25.167980Z",
     "iopub.status.busy": "2023-09-17T20:20:25.167367Z",
     "iopub.status.idle": "2023-09-17T20:20:25.177281Z",
     "shell.execute_reply": "2023-09-17T20:20:25.176227Z"
    },
    "papermill": {
     "duration": 0.035222,
     "end_time": "2023-09-17T20:20:25.179206",
     "exception": false,
     "start_time": "2023-09-17T20:20:25.143984",
     "status": "completed"
    },
    "tags": []
   },
   "outputs": [
    {
     "name": "stdout",
     "output_type": "stream",
     "text": [
      "                            university_name  citations\n",
      "1        California Institute of Technology       99.9\n",
      "2     Massachusetts Institute of Technology       99.9\n",
      "3                       Stanford University       99.2\n",
      "4                      Princeton University       99.9\n",
      "5                   University of Cambridge       94.0\n",
      "...                                     ...        ...\n",
      "2277    University of Rome II – Tor Vergata       64.5\n",
      "2278         University of Rovira i Virgili       66.9\n",
      "2288                  University of Tampere       63.7\n",
      "2291          Tokyo Metropolitan University       72.2\n",
      "2297          University of Urbino Carlo Bo       66.8\n",
      "\n",
      "[1236 rows x 2 columns]\n"
     ]
    }
   ],
   "source": [
    "# Yaren\n",
    "\n",
    "ortalamaUstu = df['citations'] > df['citations'].mean()\n",
    "sonuc = df[ortalamaUstu]\n",
    "print(sonuc[['university_name', 'citations']])"
   ]
  },
  {
   "cell_type": "markdown",
   "id": "60d27c3c",
   "metadata": {
    "papermill": {
     "duration": 0.022328,
     "end_time": "2023-09-17T20:20:25.225222",
     "exception": false,
     "start_time": "2023-09-17T20:20:25.202894",
     "status": "completed"
    },
    "tags": []
   },
   "source": [
    "---"
   ]
  },
  {
   "cell_type": "markdown",
   "id": "90a1c7b2",
   "metadata": {
    "papermill": {
     "duration": 0.022492,
     "end_time": "2023-09-17T20:20:25.270659",
     "exception": false,
     "start_time": "2023-09-17T20:20:25.248167",
     "status": "completed"
    },
    "tags": []
   },
   "source": [
    "num_students değeri 50.000'in üzerinde olan üniversitelerin sayısı nedir? -6 "
   ]
  },
  {
   "cell_type": "code",
   "execution_count": 34,
   "id": "0afd83d0",
   "metadata": {
    "execution": {
     "iopub.execute_input": "2023-09-17T20:20:25.317713Z",
     "iopub.status.busy": "2023-09-17T20:20:25.316993Z",
     "iopub.status.idle": "2023-09-17T20:20:25.342276Z",
     "shell.execute_reply": "2023-09-17T20:20:25.341437Z"
    },
    "papermill": {
     "duration": 0.051119,
     "end_time": "2023-09-17T20:20:25.344305",
     "exception": false,
     "start_time": "2023-09-17T20:20:25.293186",
     "status": "completed"
    },
    "tags": []
   },
   "outputs": [
    {
     "name": "stdout",
     "output_type": "stream",
     "text": [
      "47\n"
     ]
    },
    {
     "data": {
      "text/html": [
       "<div>\n",
       "<style scoped>\n",
       "    .dataframe tbody tr th:only-of-type {\n",
       "        vertical-align: middle;\n",
       "    }\n",
       "\n",
       "    .dataframe tbody tr th {\n",
       "        vertical-align: top;\n",
       "    }\n",
       "\n",
       "    .dataframe thead th {\n",
       "        text-align: right;\n",
       "    }\n",
       "</style>\n",
       "<table border=\"1\" class=\"dataframe\">\n",
       "  <thead>\n",
       "    <tr style=\"text-align: right;\">\n",
       "      <th></th>\n",
       "      <th>university_name</th>\n",
       "      <th>num_students</th>\n",
       "    </tr>\n",
       "  </thead>\n",
       "  <tbody>\n",
       "    <tr>\n",
       "      <th>0</th>\n",
       "      <td>Anadolu University</td>\n",
       "      <td>379231.0</td>\n",
       "    </tr>\n",
       "    <tr>\n",
       "      <th>1</th>\n",
       "      <td>Cairo University</td>\n",
       "      <td>231941.0</td>\n",
       "    </tr>\n",
       "    <tr>\n",
       "      <th>2</th>\n",
       "      <td>University of South Africa</td>\n",
       "      <td>197102.0</td>\n",
       "    </tr>\n",
       "    <tr>\n",
       "      <th>3</th>\n",
       "      <td>National Autonomous University of Mexico</td>\n",
       "      <td>137378.0</td>\n",
       "    </tr>\n",
       "    <tr>\n",
       "      <th>4</th>\n",
       "      <td>Alexandria University</td>\n",
       "      <td>127431.0</td>\n",
       "    </tr>\n",
       "    <tr>\n",
       "      <th>5</th>\n",
       "      <td>Sapienza University of Rome</td>\n",
       "      <td>120986.0</td>\n",
       "    </tr>\n",
       "    <tr>\n",
       "      <th>6</th>\n",
       "      <td>National University of Córdoba</td>\n",
       "      <td>108373.0</td>\n",
       "    </tr>\n",
       "    <tr>\n",
       "      <th>7</th>\n",
       "      <td>University of Belgrade</td>\n",
       "      <td>96968.0</td>\n",
       "    </tr>\n",
       "    <tr>\n",
       "      <th>8</th>\n",
       "      <td>Complutense University of Madrid</td>\n",
       "      <td>86519.0</td>\n",
       "    </tr>\n",
       "    <tr>\n",
       "      <th>9</th>\n",
       "      <td>University of Bologna</td>\n",
       "      <td>85532.0</td>\n",
       "    </tr>\n",
       "    <tr>\n",
       "      <th>10</th>\n",
       "      <td>Arizona State University</td>\n",
       "      <td>83236.0</td>\n",
       "    </tr>\n",
       "    <tr>\n",
       "      <th>11</th>\n",
       "      <td>Istanbul University</td>\n",
       "      <td>82096.0</td>\n",
       "    </tr>\n",
       "    <tr>\n",
       "      <th>12</th>\n",
       "      <td>University of São Paulo</td>\n",
       "      <td>81402.0</td>\n",
       "    </tr>\n",
       "    <tr>\n",
       "      <th>13</th>\n",
       "      <td>The Open University</td>\n",
       "      <td>76683.0</td>\n",
       "    </tr>\n",
       "    <tr>\n",
       "      <th>14</th>\n",
       "      <td>University of Nairobi</td>\n",
       "      <td>72676.0</td>\n",
       "    </tr>\n",
       "    <tr>\n",
       "      <th>15</th>\n",
       "      <td>Aix-Marseille University</td>\n",
       "      <td>71749.0</td>\n",
       "    </tr>\n",
       "    <tr>\n",
       "      <th>16</th>\n",
       "      <td>Universiti Teknologi MARA</td>\n",
       "      <td>69268.0</td>\n",
       "    </tr>\n",
       "    <tr>\n",
       "      <th>17</th>\n",
       "      <td>University of Turin</td>\n",
       "      <td>67552.0</td>\n",
       "    </tr>\n",
       "    <tr>\n",
       "      <th>18</th>\n",
       "      <td>Jilin University</td>\n",
       "      <td>65605.0</td>\n",
       "    </tr>\n",
       "    <tr>\n",
       "      <th>19</th>\n",
       "      <td>Sichuan University</td>\n",
       "      <td>65035.0</td>\n",
       "    </tr>\n",
       "    <tr>\n",
       "      <th>20</th>\n",
       "      <td>University of Seville</td>\n",
       "      <td>64931.0</td>\n",
       "    </tr>\n",
       "    <tr>\n",
       "      <th>21</th>\n",
       "      <td>National and Kapodistrian University of Athens</td>\n",
       "      <td>63052.0</td>\n",
       "    </tr>\n",
       "    <tr>\n",
       "      <th>22</th>\n",
       "      <td>University of Dhaka</td>\n",
       "      <td>62716.0</td>\n",
       "    </tr>\n",
       "    <tr>\n",
       "      <th>23</th>\n",
       "      <td>University of Padua</td>\n",
       "      <td>62577.0</td>\n",
       "    </tr>\n",
       "    <tr>\n",
       "      <th>24</th>\n",
       "      <td>Indiana University</td>\n",
       "      <td>62468.0</td>\n",
       "    </tr>\n",
       "    <tr>\n",
       "      <th>25</th>\n",
       "      <td>University of Milan</td>\n",
       "      <td>58618.0</td>\n",
       "    </tr>\n",
       "    <tr>\n",
       "      <th>26</th>\n",
       "      <td>University of Valencia</td>\n",
       "      <td>58413.0</td>\n",
       "    </tr>\n",
       "    <tr>\n",
       "      <th>27</th>\n",
       "      <td>Huazhong University of Science and Technology</td>\n",
       "      <td>57242.0</td>\n",
       "    </tr>\n",
       "    <tr>\n",
       "      <th>28</th>\n",
       "      <td>University of Massachusetts</td>\n",
       "      <td>56959.0</td>\n",
       "    </tr>\n",
       "    <tr>\n",
       "      <th>29</th>\n",
       "      <td>University of Marrakech Cadi Ayyad</td>\n",
       "      <td>56060.0</td>\n",
       "    </tr>\n",
       "    <tr>\n",
       "      <th>30</th>\n",
       "      <td>University of Catania</td>\n",
       "      <td>55859.0</td>\n",
       "    </tr>\n",
       "    <tr>\n",
       "      <th>31</th>\n",
       "      <td>University of Florence</td>\n",
       "      <td>54290.0</td>\n",
       "    </tr>\n",
       "    <tr>\n",
       "      <th>32</th>\n",
       "      <td>University of Tehran</td>\n",
       "      <td>53802.0</td>\n",
       "    </tr>\n",
       "    <tr>\n",
       "      <th>33</th>\n",
       "      <td>University of Granada</td>\n",
       "      <td>53476.0</td>\n",
       "    </tr>\n",
       "    <tr>\n",
       "      <th>34</th>\n",
       "      <td>Federal University of Rio de Janeiro</td>\n",
       "      <td>52878.0</td>\n",
       "    </tr>\n",
       "    <tr>\n",
       "      <th>35</th>\n",
       "      <td>Waseda University</td>\n",
       "      <td>52316.0</td>\n",
       "    </tr>\n",
       "    <tr>\n",
       "      <th>36</th>\n",
       "      <td>University of Bari Aldo Moro</td>\n",
       "      <td>51560.0</td>\n",
       "    </tr>\n",
       "    <tr>\n",
       "      <th>37</th>\n",
       "      <td>Ohio State University</td>\n",
       "      <td>51462.0</td>\n",
       "    </tr>\n",
       "    <tr>\n",
       "      <th>38</th>\n",
       "      <td>Charles University in Prague</td>\n",
       "      <td>51438.0</td>\n",
       "    </tr>\n",
       "    <tr>\n",
       "      <th>39</th>\n",
       "      <td>Sun Yat-sen University</td>\n",
       "      <td>51351.0</td>\n",
       "    </tr>\n",
       "    <tr>\n",
       "      <th>40</th>\n",
       "      <td>University of Bordeaux</td>\n",
       "      <td>51239.0</td>\n",
       "    </tr>\n",
       "    <tr>\n",
       "      <th>41</th>\n",
       "      <td>Monash University</td>\n",
       "      <td>50882.0</td>\n",
       "    </tr>\n",
       "    <tr>\n",
       "      <th>42</th>\n",
       "      <td>Texas A&amp;M University</td>\n",
       "      <td>50657.0</td>\n",
       "    </tr>\n",
       "    <tr>\n",
       "      <th>43</th>\n",
       "      <td>São Paulo State University (UNESP)</td>\n",
       "      <td>50594.0</td>\n",
       "    </tr>\n",
       "    <tr>\n",
       "      <th>44</th>\n",
       "      <td>Wuhan University of Technology</td>\n",
       "      <td>50260.0</td>\n",
       "    </tr>\n",
       "    <tr>\n",
       "      <th>45</th>\n",
       "      <td>University of British Columbia</td>\n",
       "      <td>50152.0</td>\n",
       "    </tr>\n",
       "    <tr>\n",
       "      <th>46</th>\n",
       "      <td>University of Florida</td>\n",
       "      <td>50095.0</td>\n",
       "    </tr>\n",
       "  </tbody>\n",
       "</table>\n",
       "</div>"
      ],
      "text/plain": [
       "                                   university_name  num_students\n",
       "0                               Anadolu University      379231.0\n",
       "1                                 Cairo University      231941.0\n",
       "2                       University of South Africa      197102.0\n",
       "3         National Autonomous University of Mexico      137378.0\n",
       "4                            Alexandria University      127431.0\n",
       "5                      Sapienza University of Rome      120986.0\n",
       "6                   National University of Córdoba      108373.0\n",
       "7                           University of Belgrade       96968.0\n",
       "8                 Complutense University of Madrid       86519.0\n",
       "9                            University of Bologna       85532.0\n",
       "10                        Arizona State University       83236.0\n",
       "11                             Istanbul University       82096.0\n",
       "12                         University of São Paulo       81402.0\n",
       "13                             The Open University       76683.0\n",
       "14                           University of Nairobi       72676.0\n",
       "15                        Aix-Marseille University       71749.0\n",
       "16                       Universiti Teknologi MARA       69268.0\n",
       "17                             University of Turin       67552.0\n",
       "18                                Jilin University       65605.0\n",
       "19                              Sichuan University       65035.0\n",
       "20                           University of Seville       64931.0\n",
       "21  National and Kapodistrian University of Athens       63052.0\n",
       "22                             University of Dhaka       62716.0\n",
       "23                             University of Padua       62577.0\n",
       "24                              Indiana University       62468.0\n",
       "25                             University of Milan       58618.0\n",
       "26                          University of Valencia       58413.0\n",
       "27   Huazhong University of Science and Technology       57242.0\n",
       "28                     University of Massachusetts       56959.0\n",
       "29              University of Marrakech Cadi Ayyad       56060.0\n",
       "30                           University of Catania       55859.0\n",
       "31                          University of Florence       54290.0\n",
       "32                            University of Tehran       53802.0\n",
       "33                           University of Granada       53476.0\n",
       "34            Federal University of Rio de Janeiro       52878.0\n",
       "35                               Waseda University       52316.0\n",
       "36                    University of Bari Aldo Moro       51560.0\n",
       "37                           Ohio State University       51462.0\n",
       "38                    Charles University in Prague       51438.0\n",
       "39                          Sun Yat-sen University       51351.0\n",
       "40                          University of Bordeaux       51239.0\n",
       "41                               Monash University       50882.0\n",
       "42                            Texas A&M University       50657.0\n",
       "43              São Paulo State University (UNESP)       50594.0\n",
       "44                  Wuhan University of Technology       50260.0\n",
       "45                  University of British Columbia       50152.0\n",
       "46                           University of Florida       50095.0"
      ]
     },
     "execution_count": 34,
     "metadata": {},
     "output_type": "execute_result"
    }
   ],
   "source": [
    "student_df = df.copy()\n",
    "student_df = student_df.dropna(subset='num_students',axis=0)\n",
    "student_df['num_students'] = student_df['num_students'].str.replace(',', \"\")\n",
    "\n",
    "student_df.num_students = student_df.num_students.astype(int)\n",
    "grp_student = student_df.groupby('university_name')['num_students'].mean().reset_index()\n",
    "print(grp_student[grp_student['num_students']>50000].shape[0])\n",
    "grp_student[grp_student['num_students']>50000].sort_values(by='num_students',ascending=False).reset_index(drop=True)"
   ]
  },
  {
   "cell_type": "markdown",
   "id": "1cc41ee0",
   "metadata": {
    "papermill": {
     "duration": 0.022727,
     "end_time": "2023-09-17T20:20:25.390302",
     "exception": false,
     "start_time": "2023-09-17T20:20:25.367575",
     "status": "completed"
    },
    "tags": []
   },
   "source": [
    "---"
   ]
  },
  {
   "cell_type": "markdown",
   "id": "6cf1149b",
   "metadata": {
    "papermill": {
     "duration": 0.022675,
     "end_time": "2023-09-17T20:20:25.436131",
     "exception": false,
     "start_time": "2023-09-17T20:20:25.413456",
     "status": "completed"
    },
    "tags": []
   },
   "source": [
    "Hangi ülkede en yüksek student_staff_ratio değerine sahip üniversite bulunmaktadır? - 7 "
   ]
  },
  {
   "cell_type": "code",
   "execution_count": 35,
   "id": "3b5b406c",
   "metadata": {
    "execution": {
     "iopub.execute_input": "2023-09-17T20:20:25.484003Z",
     "iopub.status.busy": "2023-09-17T20:20:25.483288Z",
     "iopub.status.idle": "2023-09-17T20:20:25.498255Z",
     "shell.execute_reply": "2023-09-17T20:20:25.497550Z"
    },
    "papermill": {
     "duration": 0.04126,
     "end_time": "2023-09-17T20:20:25.500284",
     "exception": false,
     "start_time": "2023-09-17T20:20:25.459024",
     "status": "completed"
    },
    "tags": []
   },
   "outputs": [
    {
     "data": {
      "text/html": [
       "<div>\n",
       "<style scoped>\n",
       "    .dataframe tbody tr th:only-of-type {\n",
       "        vertical-align: middle;\n",
       "    }\n",
       "\n",
       "    .dataframe tbody tr th {\n",
       "        vertical-align: top;\n",
       "    }\n",
       "\n",
       "    .dataframe thead th {\n",
       "        text-align: right;\n",
       "    }\n",
       "</style>\n",
       "<table border=\"1\" class=\"dataframe\">\n",
       "  <thead>\n",
       "    <tr style=\"text-align: right;\">\n",
       "      <th></th>\n",
       "      <th>university_name</th>\n",
       "      <th>student_staff_ratio</th>\n",
       "    </tr>\n",
       "  </thead>\n",
       "  <tbody>\n",
       "    <tr>\n",
       "      <th>14</th>\n",
       "      <td>Anadolu University</td>\n",
       "      <td>162.6</td>\n",
       "    </tr>\n",
       "  </tbody>\n",
       "</table>\n",
       "</div>"
      ],
      "text/plain": [
       "       university_name  student_staff_ratio\n",
       "14  Anadolu University                162.6"
      ]
     },
     "execution_count": 35,
     "metadata": {},
     "output_type": "execute_result"
    }
   ],
   "source": [
    "staff_df = df.copy()\n",
    "staff_df = staff_df.dropna(subset='student_staff_ratio',axis=0)\n",
    "staff_df['student_staff_ratio'] = staff_df['student_staff_ratio'].astype(float)\n",
    "grp_staff = staff_df.groupby('university_name')['student_staff_ratio'].mean().reset_index()\n",
    "\n",
    "grp_staff.sort_values(by='student_staff_ratio',ascending=False).head(1)\n"
   ]
  },
  {
   "cell_type": "code",
   "execution_count": 36,
   "id": "61a669df",
   "metadata": {
    "execution": {
     "iopub.execute_input": "2023-09-17T20:20:25.549031Z",
     "iopub.status.busy": "2023-09-17T20:20:25.548304Z",
     "iopub.status.idle": "2023-09-17T20:20:25.557682Z",
     "shell.execute_reply": "2023-09-17T20:20:25.556470Z"
    },
    "papermill": {
     "duration": 0.036298,
     "end_time": "2023-09-17T20:20:25.559894",
     "exception": false,
     "start_time": "2023-09-17T20:20:25.523596",
     "status": "completed"
    },
    "tags": []
   },
   "outputs": [
    {
     "name": "stdout",
     "output_type": "stream",
     "text": [
      "         university_name country  student_staff_ratio\n",
      "2413  Anadolu University  Turkey                162.6\n"
     ]
    }
   ],
   "source": [
    "en_yuksek_student_staff_ratio_universite = df[df['student_staff_ratio'] == df['student_staff_ratio'].max()][['university_name', 'country', 'student_staff_ratio']]\n",
    "print(en_yuksek_student_staff_ratio_universite)"
   ]
  },
  {
   "cell_type": "markdown",
   "id": "2800f846",
   "metadata": {
    "papermill": {
     "duration": 0.022801,
     "end_time": "2023-09-17T20:20:25.605986",
     "exception": false,
     "start_time": "2023-09-17T20:20:25.583185",
     "status": "completed"
    },
    "tags": []
   },
   "source": [
    "---"
   ]
  },
  {
   "cell_type": "markdown",
   "id": "20886062",
   "metadata": {
    "papermill": {
     "duration": 0.022525,
     "end_time": "2023-09-17T20:20:25.652181",
     "exception": false,
     "start_time": "2023-09-17T20:20:25.629656",
     "status": "completed"
    },
    "tags": []
   },
   "source": [
    "Görselleştirme: Üniversitelerin female_male_ratio değerlerini gösteren bir histogram oluşturunuz. - 8 "
   ]
  },
  {
   "cell_type": "code",
   "execution_count": 37,
   "id": "c6f276ed",
   "metadata": {
    "execution": {
     "iopub.execute_input": "2023-09-17T20:20:25.701241Z",
     "iopub.status.busy": "2023-09-17T20:20:25.700070Z",
     "iopub.status.idle": "2023-09-17T20:20:26.087304Z",
     "shell.execute_reply": "2023-09-17T20:20:26.086103Z"
    },
    "papermill": {
     "duration": 0.414495,
     "end_time": "2023-09-17T20:20:26.089849",
     "exception": false,
     "start_time": "2023-09-17T20:20:25.675354",
     "status": "completed"
    },
    "tags": []
   },
   "outputs": [
    {
     "data": {
      "text/plain": [
       "(array([2010., 2011., 2012., 2013., 2014., 2015., 2016., 2017.]),\n",
       " [Text(2010.0, 0, '2010'),\n",
       "  Text(2011.0, 0, '2011'),\n",
       "  Text(2012.0, 0, '2012'),\n",
       "  Text(2013.0, 0, '2013'),\n",
       "  Text(2014.0, 0, '2014'),\n",
       "  Text(2015.0, 0, '2015'),\n",
       "  Text(2016.0, 0, '2016'),\n",
       "  Text(2017.0, 0, '2017')])"
      ]
     },
     "execution_count": 37,
     "metadata": {},
     "output_type": "execute_result"
    },
    {
     "data": {
      "image/png": "[encoded data removed]",
      "text/plain": [
       "<Figure size 640x480 with 1 Axes>"
      ]
     },
     "metadata": {},
     "output_type": "display_data"
    }
   ],
   "source": [
    "sns.histplot(data=temp_df,x='year', y='new_ratio')\n",
    "plt.xticks(rotation = 90)"
   ]
  },
  {
   "cell_type": "markdown",
   "id": "7bc19e2f",
   "metadata": {
    "papermill": {
     "duration": 0.02312,
     "end_time": "2023-09-17T20:20:26.137037",
     "exception": false,
     "start_time": "2023-09-17T20:20:26.113917",
     "status": "completed"
    },
    "tags": []
   },
   "source": [
    "---"
   ]
  },
  {
   "cell_type": "markdown",
   "id": "114537ca",
   "metadata": {
    "papermill": {
     "duration": 0.023893,
     "end_time": "2023-09-17T20:20:26.184305",
     "exception": false,
     "start_time": "2023-09-17T20:20:26.160412",
     "status": "completed"
    },
    "tags": []
   },
   "source": [
    "world_rank değeri 50'nin altında olan üniversitelerin ortalama income değeri nedir?- 9"
   ]
  },
  {
   "cell_type": "code",
   "execution_count": 38,
   "id": "3442b1ad",
   "metadata": {
    "execution": {
     "iopub.execute_input": "2023-09-17T20:20:26.233584Z",
     "iopub.status.busy": "2023-09-17T20:20:26.233187Z",
     "iopub.status.idle": "2023-09-17T20:20:26.254193Z",
     "shell.execute_reply": "2023-09-17T20:20:26.253065Z"
    },
    "papermill": {
     "duration": 0.047751,
     "end_time": "2023-09-17T20:20:26.256073",
     "exception": false,
     "start_time": "2023-09-17T20:20:26.208322",
     "status": "completed"
    },
    "tags": []
   },
   "outputs": [
    {
     "name": "stderr",
     "output_type": "stream",
     "text": [
      "/tmp/ipykernel_20/1886805494.py:20: SettingWithCopyWarning: \n",
      "A value is trying to be set on a copy of a slice from a DataFrame.\n",
      "Try using .loc[row_indexer,col_indexer] = value instead\n",
      "\n",
      "See the caveats in the documentation: https://pandas.pydata.org/pandas-docs/stable/user_guide/indexing.html#returning-a-view-versus-a-copy\n",
      "  world_rank_50['income'] = world_rank_50['income'].replace('-',np.nan)\n"
     ]
    },
    {
     "data": {
      "text/plain": [
       "60.69954751131221"
      ]
     },
     "execution_count": 38,
     "metadata": {},
     "output_type": "execute_result"
    }
   ],
   "source": [
    "world_rank_df = df.copy()\n",
    "temp_rank = []\n",
    "\n",
    "for x in world_rank_df.world_rank:\n",
    "    if '=' in x:\n",
    "        temp_rank.append(int(x.split('=')[1]))\n",
    "    elif '-' in x:\n",
    "        temp_rank.append((int(x.split('-')[0]) + int(x.split('-')[1])) / 2)\n",
    "    else:\n",
    "        temp_rank.append(int(x))\n",
    "\n",
    "world_rank_df['temp_rank'] = temp_rank\n",
    "\n",
    "world_rank_df.temp_rank = world_rank_df.temp_rank.round()\n",
    "world_rank_df.temp_rank = world_rank_df.temp_rank.astype(int)\n",
    "\n",
    "world_rank_50 = world_rank_df[world_rank_df['temp_rank']<50]\n",
    "\n",
    "\n",
    "world_rank_50['income'] = world_rank_50['income'].replace('-',np.nan)\n",
    "world_rank_50 = world_rank_50.dropna(subset=['income'],axis=0)\n",
    "world_rank_50.income = world_rank_50.income.astype(float)\n",
    "\n",
    "world_rank_50.income.mean()"
   ]
  },
  {
   "cell_type": "markdown",
   "id": "c9cc41d3",
   "metadata": {
    "papermill": {
     "duration": 0.023735,
     "end_time": "2023-09-17T20:20:26.305219",
     "exception": false,
     "start_time": "2023-09-17T20:20:26.281484",
     "status": "completed"
    },
    "tags": []
   },
   "source": [
    "---"
   ]
  },
  {
   "cell_type": "markdown",
   "id": "a25591e6",
   "metadata": {
    "papermill": {
     "duration": 0.024748,
     "end_time": "2023-09-17T20:20:26.354412",
     "exception": false,
     "start_time": "2023-09-17T20:20:26.329664",
     "status": "completed"
    },
    "tags": []
   },
   "source": [
    "international_students oranı %30'un üzerinde olan üniversitelerin sayısı nedir? - 10"
   ]
  },
  {
   "cell_type": "code",
   "execution_count": 39,
   "id": "03b6cd54",
   "metadata": {
    "execution": {
     "iopub.execute_input": "2023-09-17T20:20:26.404629Z",
     "iopub.status.busy": "2023-09-17T20:20:26.403916Z",
     "iopub.status.idle": "2023-09-17T20:20:26.424477Z",
     "shell.execute_reply": "2023-09-17T20:20:26.423370Z"
    },
    "papermill": {
     "duration": 0.048347,
     "end_time": "2023-09-17T20:20:26.426780",
     "exception": false,
     "start_time": "2023-09-17T20:20:26.378433",
     "status": "completed"
    },
    "tags": []
   },
   "outputs": [
    {
     "data": {
      "text/plain": [
       "58"
      ]
     },
     "execution_count": 39,
     "metadata": {},
     "output_type": "execute_result"
    }
   ],
   "source": [
    "inter_df_last = cdf.copy()\n",
    "\n",
    "inter_df_last['international_students'] = inter_df_last['international_students'].str.split('%').str[0].reset_index(drop=True)\n",
    "inter_df_last['international_students']=inter_df_last['international_students'].replace('nan', np.nan)\n",
    "inter_df_last = inter_df_last.dropna(subset=['international_students'],axis=0)\n",
    "inter_df_last['international_students'] = inter_df_last['international_students'].astype(int)\n",
    "grp_inter = inter_df_last.groupby('university_name')['international_students'].mean()>30\n",
    "grp_inter.sum()"
   ]
  }
 ],
 "metadata": {
  "kernelspec": {
   "display_name": "Python 3",
   "language": "python",
   "name": "python3"
  },
  "language_info": {
   "codemirror_mode": {
    "name": "ipython",
    "version": 3
   },
   "file_extension": ".py",
   "mimetype": "text/x-python",
   "name": "python",
   "nbconvert_exporter": "python",
   "pygments_lexer": "ipython3",
   "version": "3.10.12"
  },
  "papermill": {
   "default_parameters": {},
   "duration": 13.229923,
   "end_time": "2023-09-17T20:20:27.071895",
   "environment_variables": {},
   "exception": null,
   "input_path": "__notebook__.ipynb",
   "output_path": "__notebook__.ipynb",
   "parameters": {},
   "start_time": "2023-09-17T20:20:13.841972",
   "version": "2.4.0"
  }
 },
 "nbformat": 4,
 "nbformat_minor": 5
}
