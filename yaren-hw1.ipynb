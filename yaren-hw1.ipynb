{
 "cells": [
  {
   "cell_type": "markdown",
   "id": "34743bf1",
   "metadata": {
    "papermill": {
     "duration": 0.013071,
     "end_time": "2023-09-04T14:19:10.314961",
     "exception": false,
     "start_time": "2023-09-04T14:19:10.301890",
     "status": "completed"
    },
    "tags": []
   },
   "source": [
    "# 28.08.23 - HOMEWORK 1\n",
    "## DUE DATE: 04.09.23\n",
    "## NO LATE SUBMISSION\n",
    "\n",
    "Submissions on google classroom\n"
   ]
  },
  {
   "cell_type": "markdown",
   "id": "8254d0e4",
   "metadata": {
    "papermill": {
     "duration": 0.012196,
     "end_time": "2023-09-04T14:19:10.339766",
     "exception": false,
     "start_time": "2023-09-04T14:19:10.327570",
     "status": "completed"
    },
    "tags": []
   },
   "source": [
    "1 - Rastgele bir zar atıldığında her bir yüzün gelme olasılığını hesaplayın. Ardından bir madeni para atıldığında yazı veya tura gelme olasılığını hesaplayın. Bu iki olayın bir arada gerçekleşme olasılığını nasıl bulursunuz?"
   ]
  },
  {
   "cell_type": "markdown",
   "id": "756b2359",
   "metadata": {
    "papermill": {
     "duration": 0.011615,
     "end_time": "2023-09-04T14:19:10.363127",
     "exception": false,
     "start_time": "2023-09-04T14:19:10.351512",
     "status": "completed"
    },
    "tags": []
   },
   "source": [
    "Zarın 6 yüzü vardır. Herbir yüzünün gelme ihtimali = 1/6\n",
    "Paranın yazı veya tura gelme ihtimali = 1/2\n",
    "Her iki olayın bir arada gerçekleşme ihtimali bu ihtimallerin çarpımıyla bulunur.\n",
    "(1/2)*(1/6)=1/12"
   ]
  },
  {
   "cell_type": "code",
   "execution_count": 1,
   "id": "939ce2e2",
   "metadata": {
    "execution": {
     "iopub.execute_input": "2023-09-04T14:19:10.389847Z",
     "iopub.status.busy": "2023-09-04T14:19:10.389307Z",
     "iopub.status.idle": "2023-09-04T14:19:10.406465Z",
     "shell.execute_reply": "2023-09-04T14:19:10.404902Z"
    },
    "papermill": {
     "duration": 0.033927,
     "end_time": "2023-09-04T14:19:10.409545",
     "exception": false,
     "start_time": "2023-09-04T14:19:10.375618",
     "status": "completed"
    },
    "tags": []
   },
   "outputs": [
    {
     "name": "stdout",
     "output_type": "stream",
     "text": [
      "Zarın 1 gelme ihtimali = 0.16666666666666666\n",
      "Zarın 2 gelme ihtimali = 0.16666666666666666\n",
      "Zarın 3 gelme ihtimali = 0.16666666666666666\n",
      "Zarın 4 gelme ihtimali = 0.16666666666666666\n",
      "Zarın 5 gelme ihtimali = 0.16666666666666666\n",
      "Zarın 6 gelme ihtimali = 0.16666666666666666\n",
      "Paranın Yazı gelme ihtimali = 0.5\n",
      "Paranın Tura gelme ihtimali = 0.5\n",
      "İki olayın bir arada gerçekleşme ihtimali = 0.08333333333333333\n"
     ]
    }
   ],
   "source": [
    "dice=[1,2,3,4,5,6]\n",
    "coin=['Yazı','Tura']\n",
    "\n",
    "\n",
    "for i in (dice):\n",
    "    print(\"Zarın\" , i , \"gelme ihtimali =\",1/len(dice))\n",
    "for i in (coin):\n",
    "    print(\"Paranın\" , i , \"gelme ihtimali =\",1/len(coin))\n",
    "\n",
    "print(\"İki olayın bir arada gerçekleşme ihtimali =\",1/(len(dice)*len(coin)))\n",
    "    "
   ]
  },
  {
   "cell_type": "markdown",
   "id": "320effe1",
   "metadata": {
    "papermill": {
     "duration": 0.011951,
     "end_time": "2023-09-04T14:19:10.436001",
     "exception": false,
     "start_time": "2023-09-04T14:19:10.424050",
     "status": "completed"
    },
    "tags": []
   },
   "source": [
    "2 - Bir torbada 5 kırmızı, 7 mavi ve 8 yeşil top bulunmaktadır. Rastgele bir top çekildiğinde mavi gelme olasılığını hesaplayın."
   ]
  },
  {
   "cell_type": "code",
   "execution_count": 2,
   "id": "e811711b",
   "metadata": {
    "execution": {
     "iopub.execute_input": "2023-09-04T14:19:10.462948Z",
     "iopub.status.busy": "2023-09-04T14:19:10.461402Z",
     "iopub.status.idle": "2023-09-04T14:19:10.470575Z",
     "shell.execute_reply": "2023-09-04T14:19:10.468888Z"
    },
    "papermill": {
     "duration": 0.0254,
     "end_time": "2023-09-04T14:19:10.473443",
     "exception": false,
     "start_time": "2023-09-04T14:19:10.448043",
     "status": "completed"
    },
    "tags": []
   },
   "outputs": [
    {
     "name": "stdout",
     "output_type": "stream",
     "text": [
      "Mavi gelme ihtimali = 0.35\n"
     ]
    }
   ],
   "source": [
    "kırmızı=['K','K','K','K','K']\n",
    "mavi=['M','M','M','M','M','M','M']\n",
    "yeşil=['Y','Y','Y','Y','Y','Y','Y','Y']\n",
    "torba = kırmızı+mavi+yeşil\n",
    "print('Mavi gelme ihtimali =',len(mavi)/len(torba))"
   ]
  },
  {
   "cell_type": "markdown",
   "id": "dfbeaa51",
   "metadata": {
    "papermill": {
     "duration": 0.012084,
     "end_time": "2023-09-04T14:19:10.497982",
     "exception": false,
     "start_time": "2023-09-04T14:19:10.485898",
     "status": "completed"
    },
    "tags": []
   },
   "source": [
    "3 - Verilen bir veri kümesi için ortalama, medyan ve mod değerlerini bulun:\n",
    "> 12,15,14,10,10,13,17,19,10,14,14,15"
   ]
  },
  {
   "cell_type": "code",
   "execution_count": 3,
   "id": "ee06de48",
   "metadata": {
    "execution": {
     "iopub.execute_input": "2023-09-04T14:19:10.524029Z",
     "iopub.status.busy": "2023-09-04T14:19:10.523508Z",
     "iopub.status.idle": "2023-09-04T14:19:11.698300Z",
     "shell.execute_reply": "2023-09-04T14:19:11.696863Z"
    },
    "papermill": {
     "duration": 1.190838,
     "end_time": "2023-09-04T14:19:11.700921",
     "exception": false,
     "start_time": "2023-09-04T14:19:10.510083",
     "status": "completed"
    },
    "tags": []
   },
   "outputs": [
    {
     "name": "stderr",
     "output_type": "stream",
     "text": [
      "/opt/conda/lib/python3.10/site-packages/scipy/__init__.py:146: UserWarning: A NumPy version >=1.16.5 and <1.23.0 is required for this version of SciPy (detected version 1.23.5\n",
      "  warnings.warn(f\"A NumPy version >={np_minversion} and <{np_maxversion}\"\n"
     ]
    },
    {
     "name": "stdout",
     "output_type": "stream",
     "text": [
      "Ortalama = 13.583333333333334\n",
      "Medyan = 14.0\n",
      "Mod = 10\n"
     ]
    }
   ],
   "source": [
    "import numpy as np\n",
    "from scipy import stats\n",
    "\n",
    "veriKumesi = np.array([12,15,14,10,10,13,17,19,10,14,14,15])\n",
    "\n",
    "veriKumesi.sort()\n",
    "ortalama = sum(veriKumesi) / len(veriKumesi) \n",
    "medyan = np.median(veriKumesi)\n",
    "mod = stats.mode(veriKumesi)\n",
    "\n",
    "print('Ortalama =', ortalama)\n",
    "print('Medyan =', medyan)\n",
    "print('Mod =', mod.mode[0])"
   ]
  },
  {
   "cell_type": "markdown",
   "id": "c3e9cf22",
   "metadata": {
    "papermill": {
     "duration": 0.011417,
     "end_time": "2023-09-04T14:19:11.724754",
     "exception": false,
     "start_time": "2023-09-04T14:19:11.713337",
     "status": "completed"
    },
    "tags": []
   },
   "source": [
    "4 - Yukarıdaki verilen veri kümesi için standart sapma hesaplayın"
   ]
  },
  {
   "cell_type": "code",
   "execution_count": 4,
   "id": "b09accb6",
   "metadata": {
    "execution": {
     "iopub.execute_input": "2023-09-04T14:19:11.750396Z",
     "iopub.status.busy": "2023-09-04T14:19:11.749892Z",
     "iopub.status.idle": "2023-09-04T14:19:11.756222Z",
     "shell.execute_reply": "2023-09-04T14:19:11.755053Z"
    },
    "papermill": {
     "duration": 0.022329,
     "end_time": "2023-09-04T14:19:11.758655",
     "exception": false,
     "start_time": "2023-09-04T14:19:11.736326",
     "status": "completed"
    },
    "tags": []
   },
   "outputs": [
    {
     "name": "stdout",
     "output_type": "stream",
     "text": [
      "Standart sapma =  2.6912925436591904\n"
     ]
    }
   ],
   "source": [
    "stdSapma = np.std(veriKumesi)\n",
    "\n",
    "print(\"Standart sapma = \", stdSapma)"
   ]
  },
  {
   "cell_type": "markdown",
   "id": "9c445c3d",
   "metadata": {
    "papermill": {
     "duration": 0.011435,
     "end_time": "2023-09-04T14:19:11.781681",
     "exception": false,
     "start_time": "2023-09-04T14:19:11.770246",
     "status": "completed"
    },
    "tags": []
   },
   "source": [
    "5 - Sola/sağa çarpık dağılım nedir? Python kullanarak, bir veri kümesinin dağılımının sola mı yoksa sağa mı çarpık olduğunu nasıl tespit edersiniz?"
   ]
  },
  {
   "cell_type": "markdown",
   "id": "338d4418",
   "metadata": {
    "papermill": {
     "duration": 0.011756,
     "end_time": "2023-09-04T14:19:11.806091",
     "exception": false,
     "start_time": "2023-09-04T14:19:11.794335",
     "status": "completed"
    },
    "tags": []
   },
   "source": [
    "Verinin çarpıklık (skewness) değeri verinin simetrisinin tanımıdır.\n",
    "\n",
    "Bir dağılım simetrik, sağa veya sola çarpık olabilir. Verinin:\n",
    "\n",
    "Tek bir tepesi, ortadan bölündüğünde sağda ve solda simetrik bir görüntüsü varsa dağılım simetriktir.\n",
    "Kuyruğu sağa doğru uzuyorsa, dağılım sağa çarpık veya pozitiftir.\n",
    "Kuyruğu sola doğru uzuyorsa, dağılım sola çarpık veya negatiftir.\n",
    "\n",
    "Yani pythonda çarpıklık değerine bakarak tespitte bulunabiliriz. Değer 0'dan büyükse dizi sağa çarpıktır."
   ]
  },
  {
   "cell_type": "markdown",
   "id": "5a43d3cd",
   "metadata": {
    "papermill": {
     "duration": 0.011593,
     "end_time": "2023-09-04T14:19:11.829501",
     "exception": false,
     "start_time": "2023-09-04T14:19:11.817908",
     "status": "completed"
    },
    "tags": []
   },
   "source": []
  },
  {
   "cell_type": "markdown",
   "id": "8c16c4fd",
   "metadata": {
    "papermill": {
     "duration": 0.01139,
     "end_time": "2023-09-04T14:19:11.852632",
     "exception": false,
     "start_time": "2023-09-04T14:19:11.841242",
     "status": "completed"
    },
    "tags": []
   },
   "source": [
    "6 - Python'da NumPy kütüphanesini nasıl içe aktarırsınız?"
   ]
  },
  {
   "cell_type": "code",
   "execution_count": 5,
   "id": "8889d7c0",
   "metadata": {
    "execution": {
     "iopub.execute_input": "2023-09-04T14:19:11.878510Z",
     "iopub.status.busy": "2023-09-04T14:19:11.878007Z",
     "iopub.status.idle": "2023-09-04T14:19:11.883085Z",
     "shell.execute_reply": "2023-09-04T14:19:11.881950Z"
    },
    "papermill": {
     "duration": 0.021546,
     "end_time": "2023-09-04T14:19:11.886000",
     "exception": false,
     "start_time": "2023-09-04T14:19:11.864454",
     "status": "completed"
    },
    "tags": []
   },
   "outputs": [],
   "source": [
    "import numpy as np"
   ]
  },
  {
   "cell_type": "markdown",
   "id": "95bffba5",
   "metadata": {
    "papermill": {
     "duration": 0.011508,
     "end_time": "2023-09-04T14:19:11.909669",
     "exception": false,
     "start_time": "2023-09-04T14:19:11.898161",
     "status": "completed"
    },
    "tags": []
   },
   "source": [
    "7 - Numpy arrayleri pythondaki list yapısına kıyasla çok daha verimlidir ve matematiksel işlemler söz konusu olduğunda sıklıkla ndarrayleri tercih ederiz. Bunun sebebi nedir? Sebepleri en az 5 maddeyle açıklayınız."
   ]
  },
  {
   "cell_type": "markdown",
   "id": "126bfea3",
   "metadata": {
    "papermill": {
     "duration": 0.011748,
     "end_time": "2023-09-04T14:19:11.933118",
     "exception": false,
     "start_time": "2023-09-04T14:19:11.921370",
     "status": "completed"
    },
    "tags": []
   },
   "source": [
    "Yanıt: "
   ]
  },
  {
   "cell_type": "markdown",
   "id": "24bb5e4e",
   "metadata": {
    "papermill": {
     "duration": 0.011455,
     "end_time": "2023-09-04T14:19:11.956383",
     "exception": false,
     "start_time": "2023-09-04T14:19:11.944928",
     "status": "completed"
    },
    "tags": []
   },
   "source": [
    "1.Numpy arrayleri, aynı veri türünden elemanlar içerirken Python listeleri farklı veri türlerini içerebilir.  Aynı veri türü içermesi, bellekte daha düzenli bir veri düzenlemesi sağlar..\n",
    "\n",
    "2. Numpy yüksek performanslı kütüphaneleriyle uygulandığı için vektörleştirilmiş operasyonları destekler. Bu sayede pythondaki döngülerle işlem yapmaktan çok daha hızlıdır.\n",
    "\n",
    "3. Numpy, veriyi daha az bellek alanında depolayarak veri bellek yönetimini daha verimli hale getirir. Ayrıca, numpy arrayleri bellekte düzgün bir şekilde yerleştirildiği için bellek erişimi daha hızlıdır.\n",
    "\n",
    "4. Numpy, farklı şekillere sahip arrayler arasında yayma (broadcasting) yapabilme yeteneğine sahiptir. Bu, arraylerinizi farklı şekil ve boyutlarda olsa bile matematiksel işlemler yaparken kullanımı kolaylaştırır.\n",
    "\n",
    "5. Numpy, istatistiksel hesaplamalar, lineer cebir operasyonları, rastgele sayı üretimi gibi birçok optimize edilmiş fonksiyonu içerir. Bu fonksiyonlar daha hızlı ve doğru sonuçlar sağlar."
   ]
  },
  {
   "cell_type": "markdown",
   "id": "ff11d7e7",
   "metadata": {
    "papermill": {
     "duration": 0.011681,
     "end_time": "2023-09-04T14:19:11.981658",
     "exception": false,
     "start_time": "2023-09-04T14:19:11.969977",
     "status": "completed"
    },
    "tags": []
   },
   "source": [
    "8 - 0’dan 100'e kadar olan sayıları içeren bir NumPy dizisi oluşturun. Ardından bu diziyi 10x10 matrise dönüştürün.\n"
   ]
  },
  {
   "cell_type": "code",
   "execution_count": 6,
   "id": "72fded9e",
   "metadata": {
    "execution": {
     "iopub.execute_input": "2023-09-04T14:19:12.007997Z",
     "iopub.status.busy": "2023-09-04T14:19:12.007529Z",
     "iopub.status.idle": "2023-09-04T14:19:12.016433Z",
     "shell.execute_reply": "2023-09-04T14:19:12.014683Z"
    },
    "papermill": {
     "duration": 0.025942,
     "end_time": "2023-09-04T14:19:12.019224",
     "exception": false,
     "start_time": "2023-09-04T14:19:11.993282",
     "status": "completed"
    },
    "tags": []
   },
   "outputs": [
    {
     "name": "stdout",
     "output_type": "stream",
     "text": [
      "[[ 0  1  2  3  4  5  6  7  8  9]\n",
      " [10 11 12 13 14 15 16 17 18 19]\n",
      " [20 21 22 23 24 25 26 27 28 29]\n",
      " [30 31 32 33 34 35 36 37 38 39]\n",
      " [40 41 42 43 44 45 46 47 48 49]\n",
      " [50 51 52 53 54 55 56 57 58 59]\n",
      " [60 61 62 63 64 65 66 67 68 69]\n",
      " [70 71 72 73 74 75 76 77 78 79]\n",
      " [80 81 82 83 84 85 86 87 88 89]\n",
      " [90 91 92 93 94 95 96 97 98 99]]\n"
     ]
    }
   ],
   "source": [
    "import numpy as np\n",
    "\n",
    "arr = np.arange(0,100)\n",
    "\n",
    "arr = arr.reshape(10,10)\n",
    "\n",
    "print (arr)"
   ]
  },
  {
   "cell_type": "markdown",
   "id": "dccb8b43",
   "metadata": {
    "papermill": {
     "duration": 0.012131,
     "end_time": "2023-09-04T14:19:12.044063",
     "exception": false,
     "start_time": "2023-09-04T14:19:12.031932",
     "status": "completed"
    },
    "tags": []
   },
   "source": [
    "9 - Yukarıda oluşturduğunuz matrisin her bir sütununun ortalamasını bulun."
   ]
  },
  {
   "cell_type": "code",
   "execution_count": 7,
   "id": "f0665acb",
   "metadata": {
    "execution": {
     "iopub.execute_input": "2023-09-04T14:19:12.070397Z",
     "iopub.status.busy": "2023-09-04T14:19:12.069863Z",
     "iopub.status.idle": "2023-09-04T14:19:12.080419Z",
     "shell.execute_reply": "2023-09-04T14:19:12.079074Z"
    },
    "papermill": {
     "duration": 0.026696,
     "end_time": "2023-09-04T14:19:12.082880",
     "exception": false,
     "start_time": "2023-09-04T14:19:12.056184",
     "status": "completed"
    },
    "tags": []
   },
   "outputs": [
    {
     "data": {
      "text/plain": [
       "array([45., 46., 47., 48., 49., 50., 51., 52., 53., 54.])"
      ]
     },
     "execution_count": 7,
     "metadata": {},
     "output_type": "execute_result"
    }
   ],
   "source": [
    "np.mean(arr, axis=0)"
   ]
  },
  {
   "cell_type": "markdown",
   "id": "d18d188d",
   "metadata": {
    "papermill": {
     "duration": 0.011717,
     "end_time": "2023-09-04T14:19:12.106665",
     "exception": false,
     "start_time": "2023-09-04T14:19:12.094948",
     "status": "completed"
    },
    "tags": []
   },
   "source": [
    "10 - `np.arange(16).reshape(4, 4)` ile oluşturulan bir matrisi yatay olarak iki eşit parçaya ayırın (split).\n"
   ]
  },
  {
   "cell_type": "code",
   "execution_count": 8,
   "id": "915b1e19",
   "metadata": {
    "execution": {
     "iopub.execute_input": "2023-09-04T14:19:12.133171Z",
     "iopub.status.busy": "2023-09-04T14:19:12.132709Z",
     "iopub.status.idle": "2023-09-04T14:19:12.141535Z",
     "shell.execute_reply": "2023-09-04T14:19:12.140256Z"
    },
    "papermill": {
     "duration": 0.025153,
     "end_time": "2023-09-04T14:19:12.144064",
     "exception": false,
     "start_time": "2023-09-04T14:19:12.118911",
     "status": "completed"
    },
    "tags": []
   },
   "outputs": [
    {
     "data": {
      "text/plain": [
       "[array([[0, 1, 2, 3],\n",
       "        [4, 5, 6, 7]]),\n",
       " array([[ 8,  9, 10, 11],\n",
       "        [12, 13, 14, 15]])]"
      ]
     },
     "execution_count": 8,
     "metadata": {},
     "output_type": "execute_result"
    }
   ],
   "source": [
    "arrSplit = np.arange(16).reshape(4,4)\n",
    "np.split(arrSplit,2)"
   ]
  },
  {
   "cell_type": "markdown",
   "id": "bbf7edd0",
   "metadata": {
    "papermill": {
     "duration": 0.012133,
     "end_time": "2023-09-04T14:19:12.168541",
     "exception": false,
     "start_time": "2023-09-04T14:19:12.156408",
     "status": "completed"
    },
    "tags": []
   },
   "source": [
    "11 - Aşağıdaki gibi bir NumPy dizisi oluşturun:\n",
    ">     arr = np.array([[1, 2, 3, 4], [5, 6, 7, 8], [9, 10, 11, 12], [13, 14, 15, 16]]),\n",
    "* Bu dizi üzerinden ilk iki satırı ve ilk iki sütunu dilimleyerek (slice) yeni bir alt dizi elde edin. \n",
    "* Yukarıda verilen arr dizisinden, sadece tek sayılardan oluşan bir dizi elde edin."
   ]
  },
  {
   "cell_type": "code",
   "execution_count": 9,
   "id": "dbf0b8b2",
   "metadata": {
    "execution": {
     "iopub.execute_input": "2023-09-04T14:19:12.194982Z",
     "iopub.status.busy": "2023-09-04T14:19:12.194522Z",
     "iopub.status.idle": "2023-09-04T14:19:12.203977Z",
     "shell.execute_reply": "2023-09-04T14:19:12.202587Z"
    },
    "papermill": {
     "duration": 0.026274,
     "end_time": "2023-09-04T14:19:12.207179",
     "exception": false,
     "start_time": "2023-09-04T14:19:12.180905",
     "status": "completed"
    },
    "tags": []
   },
   "outputs": [
    {
     "name": "stdout",
     "output_type": "stream",
     "text": [
      "İLk iki satır ve ilk iki sütundan oluşan alt dizi: [[1 2]\n",
      " [5 6]]\n",
      "Tek sayılardan oluşan alt dizi: [ 1  3  5  7  9 11 13 15]\n"
     ]
    }
   ],
   "source": [
    "arr = np.array([[1,2,3,4], [5,6,7,8], [9,10,11,12], [13,14,15,16]])\n",
    "arrFirst = arr[:2, :2]\n",
    "print(\"İLk iki satır ve ilk iki sütundan oluşan alt dizi:\", arrFirst)\n",
    "\n",
    "\n",
    "arrSecond = list()\n",
    "oddNums = (arr % 2 == 1)\n",
    "arrSecond = arr[oddNums]\n",
    "print(\"Tek sayılardan oluşan alt dizi:\",arrSecond)"
   ]
  },
  {
   "cell_type": "markdown",
   "id": "079c4691",
   "metadata": {
    "papermill": {
     "duration": 0.01191,
     "end_time": "2023-09-04T14:19:12.232765",
     "exception": false,
     "start_time": "2023-09-04T14:19:12.220855",
     "status": "completed"
    },
    "tags": []
   },
   "source": [
    "12 - Aşağıda verilen iki diziyi dikey olarak üst üste ekleyin (stack):\n",
    "> a = np.array([1, 2, 3])\n",
    "\n",
    "> b = np.array([4, 5, 6])"
   ]
  },
  {
   "cell_type": "code",
   "execution_count": 10,
   "id": "49929549",
   "metadata": {
    "execution": {
     "iopub.execute_input": "2023-09-04T14:19:12.259630Z",
     "iopub.status.busy": "2023-09-04T14:19:12.259178Z",
     "iopub.status.idle": "2023-09-04T14:19:12.268412Z",
     "shell.execute_reply": "2023-09-04T14:19:12.267160Z"
    },
    "papermill": {
     "duration": 0.026342,
     "end_time": "2023-09-04T14:19:12.271253",
     "exception": false,
     "start_time": "2023-09-04T14:19:12.244911",
     "status": "completed"
    },
    "tags": []
   },
   "outputs": [
    {
     "name": "stdout",
     "output_type": "stream",
     "text": [
      "New stack:\n"
     ]
    },
    {
     "data": {
      "text/plain": [
       "array([[1, 2, 3],\n",
       "       [4, 5, 6]])"
      ]
     },
     "execution_count": 10,
     "metadata": {},
     "output_type": "execute_result"
    }
   ],
   "source": [
    "a = np.array([1, 2, 3])\n",
    "\n",
    "b = np.array([4, 5, 6])\n",
    "print(\"New stack:\")\n",
    "np.vstack((a,b))"
   ]
  },
  {
   "cell_type": "markdown",
   "id": "41f45db4",
   "metadata": {
    "papermill": {
     "duration": 0.012951,
     "end_time": "2023-09-04T14:19:12.297081",
     "exception": false,
     "start_time": "2023-09-04T14:19:12.284130",
     "status": "completed"
    },
    "tags": []
   },
   "source": [
    "13 - Aşağıdaki gibi iki farklı dizi oluşturun:\n",
    "> arr1 = np.array([[1, 2], [3, 4]])\n",
    "\n",
    "> arr2 = np.array([[5, 6]])\n",
    "\n",
    "arr2 dizisini arr1 dizisinin altına ekleyin ve elde edilen bu yeni dizi üzerinden son satırı ve son sütunu dilimleyin."
   ]
  },
  {
   "cell_type": "code",
   "execution_count": 11,
   "id": "42e0e0a0",
   "metadata": {
    "execution": {
     "iopub.execute_input": "2023-09-04T14:19:12.325039Z",
     "iopub.status.busy": "2023-09-04T14:19:12.324541Z",
     "iopub.status.idle": "2023-09-04T14:19:12.332771Z",
     "shell.execute_reply": "2023-09-04T14:19:12.331113Z"
    },
    "papermill": {
     "duration": 0.025526,
     "end_time": "2023-09-04T14:19:12.335516",
     "exception": false,
     "start_time": "2023-09-04T14:19:12.309990",
     "status": "completed"
    },
    "tags": []
   },
   "outputs": [
    {
     "name": "stdout",
     "output_type": "stream",
     "text": [
      "Sliced Array: [[6]]\n"
     ]
    }
   ],
   "source": [
    "arr1 = np.array([[1, 2], [3, 4]])\n",
    "\n",
    "arr2 = np.array([[5, 6]])\n",
    "\n",
    "arr_stack = np.vstack((arr1,arr2))\n",
    "arr_sliced = arr_stack[-1:,-1:]\n",
    "\n",
    "print(\"Sliced Array:\",arr_sliced)"
   ]
  },
  {
   "cell_type": "markdown",
   "id": "7a67e697",
   "metadata": {
    "papermill": {
     "duration": 0.012394,
     "end_time": "2023-09-04T14:19:12.360600",
     "exception": false,
     "start_time": "2023-09-04T14:19:12.348206",
     "status": "completed"
    },
    "tags": []
   },
   "source": [
    "14 - `np.arange(30).reshape(5, 6)` ile oluşturulan bir matrisin ilk 3 satırını alın ve bu 3 satırı 2 eşit parçaya ayırın.\n"
   ]
  },
  {
   "cell_type": "code",
   "execution_count": 12,
   "id": "e05e968b",
   "metadata": {
    "execution": {
     "iopub.execute_input": "2023-09-04T14:19:12.387689Z",
     "iopub.status.busy": "2023-09-04T14:19:12.387287Z",
     "iopub.status.idle": "2023-09-04T14:19:12.395377Z",
     "shell.execute_reply": "2023-09-04T14:19:12.394011Z"
    },
    "papermill": {
     "duration": 0.02479,
     "end_time": "2023-09-04T14:19:12.397943",
     "exception": false,
     "start_time": "2023-09-04T14:19:12.373153",
     "status": "completed"
    },
    "tags": []
   },
   "outputs": [
    {
     "name": "stdout",
     "output_type": "stream",
     "text": [
      "İlk üç satırı alınan matrix: [[ 0  1  2  3  4  5]\n",
      " [ 6  7  8  9 10 11]\n",
      " [12 13 14 15 16 17]] \n",
      "\n",
      " İkiye bölünmüş hali: [array([[ 0,  1,  2],\n",
      "       [ 6,  7,  8],\n",
      "       [12, 13, 14]]), array([[ 3,  4,  5],\n",
      "       [ 9, 10, 11],\n",
      "       [15, 16, 17]])]\n"
     ]
    }
   ],
   "source": [
    "matx = np.arange(30).reshape(5, 6)\n",
    "\n",
    "sliced_matrix = matx[:3,:]\n",
    "\n",
    "half_matrix = np.hsplit(sliced_matrix,2)\n",
    "\n",
    "print(\"İlk üç satırı alınan matrix:\",sliced_matrix,\"\\n\\n\",\"İkiye bölünmüş hali:\",half_matrix)"
   ]
  },
  {
   "cell_type": "markdown",
   "id": "e8545bd9",
   "metadata": {
    "papermill": {
     "duration": 0.012492,
     "end_time": "2023-09-04T14:19:12.423440",
     "exception": false,
     "start_time": "2023-09-04T14:19:12.410948",
     "status": "completed"
    },
    "tags": []
   },
   "source": [
    "15 -  `np.arange(1, 17).reshape(4, 4)` dizi üzerinden her satırın ikinci elemanını alarak yeni bir dizi oluşturun. Ardından bu yeni diziyi orijinal dizinin sağına ekleyin"
   ]
  },
  {
   "cell_type": "code",
   "execution_count": 13,
   "id": "8dd6b6d0",
   "metadata": {
    "execution": {
     "iopub.execute_input": "2023-09-04T14:19:12.451404Z",
     "iopub.status.busy": "2023-09-04T14:19:12.451002Z",
     "iopub.status.idle": "2023-09-04T14:19:12.458590Z",
     "shell.execute_reply": "2023-09-04T14:19:12.457224Z"
    },
    "papermill": {
     "duration": 0.024802,
     "end_time": "2023-09-04T14:19:12.461049",
     "exception": false,
     "start_time": "2023-09-04T14:19:12.436247",
     "status": "completed"
    },
    "tags": []
   },
   "outputs": [
    {
     "name": "stdout",
     "output_type": "stream",
     "text": [
      "Yeni dizi: \n",
      " [[ 1  2  3  4  2]\n",
      " [ 5  6  7  8  6]\n",
      " [ 9 10 11 12 10]\n",
      " [13 14 15 16 14]]\n"
     ]
    }
   ],
   "source": [
    "arr = np.arange(1, 17).reshape(4, 4)\n",
    "\n",
    "arr1 = arr[:,1].reshape(4,1)\n",
    "\n",
    "newArr = np.hstack((arr,arr1))\n",
    "\n",
    "print(\"Yeni dizi: \\n\", newArr)"
   ]
  }
 ],
 "kernelspec": {
  "display_name": "Python 3",
  "language": "python",
  "name": "python3"
 },
 "language_info": {
  "codemirror_mode": {
   "name": "ipython",
   "version": 3
  },
  "file_extension": ".py",
  "mimetype": "text/x-python",
  "name": "python",
  "nbconvert_exporter": "python",
  "pygments_lexer": "ipython3",
  "version": "3.6.4"
 },
 "metadata": {
  "kernelspec": {
   "display_name": "Python 3",
   "language": "python",
   "name": "python3"
  },
  "language_info": {
   "codemirror_mode": {
    "name": "ipython",
    "version": 3
   },
   "file_extension": ".py",
   "mimetype": "text/x-python",
   "name": "python",
   "nbconvert_exporter": "python",
   "pygments_lexer": "ipython3",
   "version": "3.10.12"
  },
  "papermill": {
   "default_parameters": {},
   "duration": 17.000147,
   "end_time": "2023-09-04T14:19:13.799716",
   "environment_variables": {},
   "exception": null,
   "input_path": "__notebook__.ipynb",
   "output_path": "__notebook__.ipynb",
   "parameters": {},
   "start_time": "2023-09-04T14:18:56.799569",
   "version": "2.4.0"
  }
 },
 "nbformat": 4,
 "nbformat_minor": 5
}
