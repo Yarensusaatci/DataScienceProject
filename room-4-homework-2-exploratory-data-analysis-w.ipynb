{
 "cells": [
  {
   "cell_type": "markdown",
   "id": "3a21ae5b",
   "metadata": {
    "papermill": {
     "duration": 0.021143,
     "end_time": "2023-09-10T20:28:05.841852",
     "exception": false,
     "start_time": "2023-09-10T20:28:05.820709",
     "status": "completed"
    },
    "tags": []
   },
   "source": [
    "****Team Members : Nurullah ÇALKA,Elif Beyza GÖKDEMİR,Deniz KESER,Mert Can TAŞ,Yaren Su SAATÇI,Hasan YILDIZ ****\n",
    "\n",
    "\n",
    "\n",
    "**Bu ödevde, veri seti üzerinde detaylı bir inceleme yapmanız bekleniyor.\n",
    "Öncelikle verilen veri setini dikkatle inceleyerek columnların ne ifade ettiğini kendi ifadeleriniz ile açıklayın. \n",
    "Veri setleri her zaman detaylı açıklamalar ile gelmeyebilir, bu durumlarda sorumluluk almalı ve veriyi yorumlama becerisine sahip olmalısınız.\n",
    "Bu nedenle description kısmı boş olarak gelen feature'lar için de tahminde bulunmanızı bekliyorum.**\n",
    "\n",
    "Örneğin: \n",
    "    \n",
    "- age(integer) -> tabloda yer alan kişilerin yaş bilgisi\n",
    "- workclass(..) -> ...\n",
    "\n",
    "\n",
    "Veri bu notebook üzerinde import edilmiş halde bulunuyor. csv dosyasını DataFrame içerisine okuduktan sonra üzerinde gerekli gördüğünüz çalışmaları yapabilirsiniz. \n",
    "\n",
    "Aşağıdaki sorulara cevap bulmanızı bekliyorum. "
   ]
  },
  {
   "cell_type": "markdown",
   "id": "8aecf8eb",
   "metadata": {
    "_cell_guid": "b1076dfc-b9ad-4769-8c92-a6c4dae69d19",
    "_uuid": "8f2839f25d086af736a60e9eeb907d3b93b6e0e5",
    "papermill": {
     "duration": 0.020078,
     "end_time": "2023-09-10T20:28:05.883289",
     "exception": false,
     "start_time": "2023-09-10T20:28:05.863211",
     "status": "completed"
    },
    "tags": []
   },
   "source": [
    "> İncelemek için, Data Source : [Here](https://archive.ics.uci.edu/dataset/2/adult)"
   ]
  },
  {
   "cell_type": "code",
   "execution_count": 1,
   "id": "07e4d8a5",
   "metadata": {
    "execution": {
     "iopub.execute_input": "2023-09-10T20:28:05.927009Z",
     "iopub.status.busy": "2023-09-10T20:28:05.926070Z",
     "iopub.status.idle": "2023-09-10T20:28:06.767086Z",
     "shell.execute_reply": "2023-09-10T20:28:06.765890Z"
    },
    "papermill": {
     "duration": 0.866812,
     "end_time": "2023-09-10T20:28:06.770521",
     "exception": false,
     "start_time": "2023-09-10T20:28:05.903709",
     "status": "completed"
    },
    "tags": []
   },
   "outputs": [],
   "source": [
    "import pandas as pd\n",
    "import numpy as np"
   ]
  },
  {
   "cell_type": "code",
   "execution_count": 2,
   "id": "7fae8514",
   "metadata": {
    "execution": {
     "iopub.execute_input": "2023-09-10T20:28:06.813375Z",
     "iopub.status.busy": "2023-09-10T20:28:06.812754Z",
     "iopub.status.idle": "2023-09-10T20:28:07.005271Z",
     "shell.execute_reply": "2023-09-10T20:28:07.004122Z"
    },
    "papermill": {
     "duration": 0.217275,
     "end_time": "2023-09-10T20:28:07.008233",
     "exception": false,
     "start_time": "2023-09-10T20:28:06.790958",
     "status": "completed"
    },
    "tags": []
   },
   "outputs": [
    {
     "data": {
      "text/html": [
       "<div>\n",
       "<style scoped>\n",
       "    .dataframe tbody tr th:only-of-type {\n",
       "        vertical-align: middle;\n",
       "    }\n",
       "\n",
       "    .dataframe tbody tr th {\n",
       "        vertical-align: top;\n",
       "    }\n",
       "\n",
       "    .dataframe thead th {\n",
       "        text-align: right;\n",
       "    }\n",
       "</style>\n",
       "<table border=\"1\" class=\"dataframe\">\n",
       "  <thead>\n",
       "    <tr style=\"text-align: right;\">\n",
       "      <th></th>\n",
       "      <th>age</th>\n",
       "      <th>workclass</th>\n",
       "      <th>fnlwgt</th>\n",
       "      <th>education</th>\n",
       "      <th>education-num</th>\n",
       "      <th>marital-status</th>\n",
       "      <th>occupation</th>\n",
       "      <th>relationship</th>\n",
       "      <th>race</th>\n",
       "      <th>sex</th>\n",
       "      <th>capital-gain</th>\n",
       "      <th>capital-loss</th>\n",
       "      <th>hours-per-week</th>\n",
       "      <th>native-country</th>\n",
       "      <th>salary</th>\n",
       "    </tr>\n",
       "  </thead>\n",
       "  <tbody>\n",
       "    <tr>\n",
       "      <th>0</th>\n",
       "      <td>39</td>\n",
       "      <td>State-gov</td>\n",
       "      <td>77516</td>\n",
       "      <td>Bachelors</td>\n",
       "      <td>13</td>\n",
       "      <td>Never-married</td>\n",
       "      <td>Adm-clerical</td>\n",
       "      <td>Not-in-family</td>\n",
       "      <td>White</td>\n",
       "      <td>Male</td>\n",
       "      <td>2174</td>\n",
       "      <td>0</td>\n",
       "      <td>40</td>\n",
       "      <td>United-States</td>\n",
       "      <td>&lt;=50K</td>\n",
       "    </tr>\n",
       "    <tr>\n",
       "      <th>1</th>\n",
       "      <td>50</td>\n",
       "      <td>Self-emp-not-inc</td>\n",
       "      <td>83311</td>\n",
       "      <td>Bachelors</td>\n",
       "      <td>13</td>\n",
       "      <td>Married-civ-spouse</td>\n",
       "      <td>Exec-managerial</td>\n",
       "      <td>Husband</td>\n",
       "      <td>White</td>\n",
       "      <td>Male</td>\n",
       "      <td>0</td>\n",
       "      <td>0</td>\n",
       "      <td>13</td>\n",
       "      <td>United-States</td>\n",
       "      <td>&lt;=50K</td>\n",
       "    </tr>\n",
       "    <tr>\n",
       "      <th>2</th>\n",
       "      <td>38</td>\n",
       "      <td>Private</td>\n",
       "      <td>215646</td>\n",
       "      <td>HS-grad</td>\n",
       "      <td>9</td>\n",
       "      <td>Divorced</td>\n",
       "      <td>Handlers-cleaners</td>\n",
       "      <td>Not-in-family</td>\n",
       "      <td>White</td>\n",
       "      <td>Male</td>\n",
       "      <td>0</td>\n",
       "      <td>0</td>\n",
       "      <td>40</td>\n",
       "      <td>United-States</td>\n",
       "      <td>&lt;=50K</td>\n",
       "    </tr>\n",
       "    <tr>\n",
       "      <th>3</th>\n",
       "      <td>53</td>\n",
       "      <td>Private</td>\n",
       "      <td>234721</td>\n",
       "      <td>11th</td>\n",
       "      <td>7</td>\n",
       "      <td>Married-civ-spouse</td>\n",
       "      <td>Handlers-cleaners</td>\n",
       "      <td>Husband</td>\n",
       "      <td>Black</td>\n",
       "      <td>Male</td>\n",
       "      <td>0</td>\n",
       "      <td>0</td>\n",
       "      <td>40</td>\n",
       "      <td>United-States</td>\n",
       "      <td>&lt;=50K</td>\n",
       "    </tr>\n",
       "    <tr>\n",
       "      <th>4</th>\n",
       "      <td>28</td>\n",
       "      <td>Private</td>\n",
       "      <td>338409</td>\n",
       "      <td>Bachelors</td>\n",
       "      <td>13</td>\n",
       "      <td>Married-civ-spouse</td>\n",
       "      <td>Prof-specialty</td>\n",
       "      <td>Wife</td>\n",
       "      <td>Black</td>\n",
       "      <td>Female</td>\n",
       "      <td>0</td>\n",
       "      <td>0</td>\n",
       "      <td>40</td>\n",
       "      <td>Cuba</td>\n",
       "      <td>&lt;=50K</td>\n",
       "    </tr>\n",
       "    <tr>\n",
       "      <th>5</th>\n",
       "      <td>37</td>\n",
       "      <td>Private</td>\n",
       "      <td>284582</td>\n",
       "      <td>Masters</td>\n",
       "      <td>14</td>\n",
       "      <td>Married-civ-spouse</td>\n",
       "      <td>Exec-managerial</td>\n",
       "      <td>Wife</td>\n",
       "      <td>White</td>\n",
       "      <td>Female</td>\n",
       "      <td>0</td>\n",
       "      <td>0</td>\n",
       "      <td>40</td>\n",
       "      <td>United-States</td>\n",
       "      <td>&lt;=50K</td>\n",
       "    </tr>\n",
       "    <tr>\n",
       "      <th>6</th>\n",
       "      <td>49</td>\n",
       "      <td>Private</td>\n",
       "      <td>160187</td>\n",
       "      <td>9th</td>\n",
       "      <td>5</td>\n",
       "      <td>Married-spouse-absent</td>\n",
       "      <td>Other-service</td>\n",
       "      <td>Not-in-family</td>\n",
       "      <td>Black</td>\n",
       "      <td>Female</td>\n",
       "      <td>0</td>\n",
       "      <td>0</td>\n",
       "      <td>16</td>\n",
       "      <td>Jamaica</td>\n",
       "      <td>&lt;=50K</td>\n",
       "    </tr>\n",
       "    <tr>\n",
       "      <th>7</th>\n",
       "      <td>52</td>\n",
       "      <td>Self-emp-not-inc</td>\n",
       "      <td>209642</td>\n",
       "      <td>HS-grad</td>\n",
       "      <td>9</td>\n",
       "      <td>Married-civ-spouse</td>\n",
       "      <td>Exec-managerial</td>\n",
       "      <td>Husband</td>\n",
       "      <td>White</td>\n",
       "      <td>Male</td>\n",
       "      <td>0</td>\n",
       "      <td>0</td>\n",
       "      <td>45</td>\n",
       "      <td>United-States</td>\n",
       "      <td>&gt;50K</td>\n",
       "    </tr>\n",
       "    <tr>\n",
       "      <th>8</th>\n",
       "      <td>31</td>\n",
       "      <td>Private</td>\n",
       "      <td>45781</td>\n",
       "      <td>Masters</td>\n",
       "      <td>14</td>\n",
       "      <td>Never-married</td>\n",
       "      <td>Prof-specialty</td>\n",
       "      <td>Not-in-family</td>\n",
       "      <td>White</td>\n",
       "      <td>Female</td>\n",
       "      <td>14084</td>\n",
       "      <td>0</td>\n",
       "      <td>50</td>\n",
       "      <td>United-States</td>\n",
       "      <td>&gt;50K</td>\n",
       "    </tr>\n",
       "    <tr>\n",
       "      <th>9</th>\n",
       "      <td>42</td>\n",
       "      <td>Private</td>\n",
       "      <td>159449</td>\n",
       "      <td>Bachelors</td>\n",
       "      <td>13</td>\n",
       "      <td>Married-civ-spouse</td>\n",
       "      <td>Exec-managerial</td>\n",
       "      <td>Husband</td>\n",
       "      <td>White</td>\n",
       "      <td>Male</td>\n",
       "      <td>5178</td>\n",
       "      <td>0</td>\n",
       "      <td>40</td>\n",
       "      <td>United-States</td>\n",
       "      <td>&gt;50K</td>\n",
       "    </tr>\n",
       "    <tr>\n",
       "      <th>10</th>\n",
       "      <td>37</td>\n",
       "      <td>Private</td>\n",
       "      <td>280464</td>\n",
       "      <td>Some-college</td>\n",
       "      <td>10</td>\n",
       "      <td>Married-civ-spouse</td>\n",
       "      <td>Exec-managerial</td>\n",
       "      <td>Husband</td>\n",
       "      <td>Black</td>\n",
       "      <td>Male</td>\n",
       "      <td>0</td>\n",
       "      <td>0</td>\n",
       "      <td>80</td>\n",
       "      <td>United-States</td>\n",
       "      <td>&gt;50K</td>\n",
       "    </tr>\n",
       "    <tr>\n",
       "      <th>11</th>\n",
       "      <td>30</td>\n",
       "      <td>State-gov</td>\n",
       "      <td>141297</td>\n",
       "      <td>Bachelors</td>\n",
       "      <td>13</td>\n",
       "      <td>Married-civ-spouse</td>\n",
       "      <td>Prof-specialty</td>\n",
       "      <td>Husband</td>\n",
       "      <td>Asian-Pac-Islander</td>\n",
       "      <td>Male</td>\n",
       "      <td>0</td>\n",
       "      <td>0</td>\n",
       "      <td>40</td>\n",
       "      <td>India</td>\n",
       "      <td>&gt;50K</td>\n",
       "    </tr>\n",
       "    <tr>\n",
       "      <th>12</th>\n",
       "      <td>23</td>\n",
       "      <td>Private</td>\n",
       "      <td>122272</td>\n",
       "      <td>Bachelors</td>\n",
       "      <td>13</td>\n",
       "      <td>Never-married</td>\n",
       "      <td>Adm-clerical</td>\n",
       "      <td>Own-child</td>\n",
       "      <td>White</td>\n",
       "      <td>Female</td>\n",
       "      <td>0</td>\n",
       "      <td>0</td>\n",
       "      <td>30</td>\n",
       "      <td>United-States</td>\n",
       "      <td>&lt;=50K</td>\n",
       "    </tr>\n",
       "    <tr>\n",
       "      <th>13</th>\n",
       "      <td>32</td>\n",
       "      <td>Private</td>\n",
       "      <td>205019</td>\n",
       "      <td>Assoc-acdm</td>\n",
       "      <td>12</td>\n",
       "      <td>Never-married</td>\n",
       "      <td>Sales</td>\n",
       "      <td>Not-in-family</td>\n",
       "      <td>Black</td>\n",
       "      <td>Male</td>\n",
       "      <td>0</td>\n",
       "      <td>0</td>\n",
       "      <td>50</td>\n",
       "      <td>United-States</td>\n",
       "      <td>&lt;=50K</td>\n",
       "    </tr>\n",
       "    <tr>\n",
       "      <th>14</th>\n",
       "      <td>40</td>\n",
       "      <td>Private</td>\n",
       "      <td>121772</td>\n",
       "      <td>Assoc-voc</td>\n",
       "      <td>11</td>\n",
       "      <td>Married-civ-spouse</td>\n",
       "      <td>Craft-repair</td>\n",
       "      <td>Husband</td>\n",
       "      <td>Asian-Pac-Islander</td>\n",
       "      <td>Male</td>\n",
       "      <td>0</td>\n",
       "      <td>0</td>\n",
       "      <td>40</td>\n",
       "      <td>?</td>\n",
       "      <td>&gt;50K</td>\n",
       "    </tr>\n",
       "    <tr>\n",
       "      <th>15</th>\n",
       "      <td>34</td>\n",
       "      <td>Private</td>\n",
       "      <td>245487</td>\n",
       "      <td>7th-8th</td>\n",
       "      <td>4</td>\n",
       "      <td>Married-civ-spouse</td>\n",
       "      <td>Transport-moving</td>\n",
       "      <td>Husband</td>\n",
       "      <td>Amer-Indian-Eskimo</td>\n",
       "      <td>Male</td>\n",
       "      <td>0</td>\n",
       "      <td>0</td>\n",
       "      <td>45</td>\n",
       "      <td>Mexico</td>\n",
       "      <td>&lt;=50K</td>\n",
       "    </tr>\n",
       "    <tr>\n",
       "      <th>16</th>\n",
       "      <td>25</td>\n",
       "      <td>Self-emp-not-inc</td>\n",
       "      <td>176756</td>\n",
       "      <td>HS-grad</td>\n",
       "      <td>9</td>\n",
       "      <td>Never-married</td>\n",
       "      <td>Farming-fishing</td>\n",
       "      <td>Own-child</td>\n",
       "      <td>White</td>\n",
       "      <td>Male</td>\n",
       "      <td>0</td>\n",
       "      <td>0</td>\n",
       "      <td>35</td>\n",
       "      <td>United-States</td>\n",
       "      <td>&lt;=50K</td>\n",
       "    </tr>\n",
       "    <tr>\n",
       "      <th>17</th>\n",
       "      <td>32</td>\n",
       "      <td>Private</td>\n",
       "      <td>186824</td>\n",
       "      <td>HS-grad</td>\n",
       "      <td>9</td>\n",
       "      <td>Never-married</td>\n",
       "      <td>Machine-op-inspct</td>\n",
       "      <td>Unmarried</td>\n",
       "      <td>White</td>\n",
       "      <td>Male</td>\n",
       "      <td>0</td>\n",
       "      <td>0</td>\n",
       "      <td>40</td>\n",
       "      <td>United-States</td>\n",
       "      <td>&lt;=50K</td>\n",
       "    </tr>\n",
       "    <tr>\n",
       "      <th>18</th>\n",
       "      <td>38</td>\n",
       "      <td>Private</td>\n",
       "      <td>28887</td>\n",
       "      <td>11th</td>\n",
       "      <td>7</td>\n",
       "      <td>Married-civ-spouse</td>\n",
       "      <td>Sales</td>\n",
       "      <td>Husband</td>\n",
       "      <td>White</td>\n",
       "      <td>Male</td>\n",
       "      <td>0</td>\n",
       "      <td>0</td>\n",
       "      <td>50</td>\n",
       "      <td>United-States</td>\n",
       "      <td>&lt;=50K</td>\n",
       "    </tr>\n",
       "    <tr>\n",
       "      <th>19</th>\n",
       "      <td>43</td>\n",
       "      <td>Self-emp-not-inc</td>\n",
       "      <td>292175</td>\n",
       "      <td>Masters</td>\n",
       "      <td>14</td>\n",
       "      <td>Divorced</td>\n",
       "      <td>Exec-managerial</td>\n",
       "      <td>Unmarried</td>\n",
       "      <td>White</td>\n",
       "      <td>Female</td>\n",
       "      <td>0</td>\n",
       "      <td>0</td>\n",
       "      <td>45</td>\n",
       "      <td>United-States</td>\n",
       "      <td>&gt;50K</td>\n",
       "    </tr>\n",
       "  </tbody>\n",
       "</table>\n",
       "</div>"
      ],
      "text/plain": [
       "    age         workclass  fnlwgt     education  education-num  \\\n",
       "0    39         State-gov   77516     Bachelors             13   \n",
       "1    50  Self-emp-not-inc   83311     Bachelors             13   \n",
       "2    38           Private  215646       HS-grad              9   \n",
       "3    53           Private  234721          11th              7   \n",
       "4    28           Private  338409     Bachelors             13   \n",
       "5    37           Private  284582       Masters             14   \n",
       "6    49           Private  160187           9th              5   \n",
       "7    52  Self-emp-not-inc  209642       HS-grad              9   \n",
       "8    31           Private   45781       Masters             14   \n",
       "9    42           Private  159449     Bachelors             13   \n",
       "10   37           Private  280464  Some-college             10   \n",
       "11   30         State-gov  141297     Bachelors             13   \n",
       "12   23           Private  122272     Bachelors             13   \n",
       "13   32           Private  205019    Assoc-acdm             12   \n",
       "14   40           Private  121772     Assoc-voc             11   \n",
       "15   34           Private  245487       7th-8th              4   \n",
       "16   25  Self-emp-not-inc  176756       HS-grad              9   \n",
       "17   32           Private  186824       HS-grad              9   \n",
       "18   38           Private   28887          11th              7   \n",
       "19   43  Self-emp-not-inc  292175       Masters             14   \n",
       "\n",
       "           marital-status         occupation   relationship  \\\n",
       "0           Never-married       Adm-clerical  Not-in-family   \n",
       "1      Married-civ-spouse    Exec-managerial        Husband   \n",
       "2                Divorced  Handlers-cleaners  Not-in-family   \n",
       "3      Married-civ-spouse  Handlers-cleaners        Husband   \n",
       "4      Married-civ-spouse     Prof-specialty           Wife   \n",
       "5      Married-civ-spouse    Exec-managerial           Wife   \n",
       "6   Married-spouse-absent      Other-service  Not-in-family   \n",
       "7      Married-civ-spouse    Exec-managerial        Husband   \n",
       "8           Never-married     Prof-specialty  Not-in-family   \n",
       "9      Married-civ-spouse    Exec-managerial        Husband   \n",
       "10     Married-civ-spouse    Exec-managerial        Husband   \n",
       "11     Married-civ-spouse     Prof-specialty        Husband   \n",
       "12          Never-married       Adm-clerical      Own-child   \n",
       "13          Never-married              Sales  Not-in-family   \n",
       "14     Married-civ-spouse       Craft-repair        Husband   \n",
       "15     Married-civ-spouse   Transport-moving        Husband   \n",
       "16          Never-married    Farming-fishing      Own-child   \n",
       "17          Never-married  Machine-op-inspct      Unmarried   \n",
       "18     Married-civ-spouse              Sales        Husband   \n",
       "19               Divorced    Exec-managerial      Unmarried   \n",
       "\n",
       "                  race     sex  capital-gain  capital-loss  hours-per-week  \\\n",
       "0                White    Male          2174             0              40   \n",
       "1                White    Male             0             0              13   \n",
       "2                White    Male             0             0              40   \n",
       "3                Black    Male             0             0              40   \n",
       "4                Black  Female             0             0              40   \n",
       "5                White  Female             0             0              40   \n",
       "6                Black  Female             0             0              16   \n",
       "7                White    Male             0             0              45   \n",
       "8                White  Female         14084             0              50   \n",
       "9                White    Male          5178             0              40   \n",
       "10               Black    Male             0             0              80   \n",
       "11  Asian-Pac-Islander    Male             0             0              40   \n",
       "12               White  Female             0             0              30   \n",
       "13               Black    Male             0             0              50   \n",
       "14  Asian-Pac-Islander    Male             0             0              40   \n",
       "15  Amer-Indian-Eskimo    Male             0             0              45   \n",
       "16               White    Male             0             0              35   \n",
       "17               White    Male             0             0              40   \n",
       "18               White    Male             0             0              50   \n",
       "19               White  Female             0             0              45   \n",
       "\n",
       "   native-country salary  \n",
       "0   United-States  <=50K  \n",
       "1   United-States  <=50K  \n",
       "2   United-States  <=50K  \n",
       "3   United-States  <=50K  \n",
       "4            Cuba  <=50K  \n",
       "5   United-States  <=50K  \n",
       "6         Jamaica  <=50K  \n",
       "7   United-States   >50K  \n",
       "8   United-States   >50K  \n",
       "9   United-States   >50K  \n",
       "10  United-States   >50K  \n",
       "11          India   >50K  \n",
       "12  United-States  <=50K  \n",
       "13  United-States  <=50K  \n",
       "14              ?   >50K  \n",
       "15         Mexico  <=50K  \n",
       "16  United-States  <=50K  \n",
       "17  United-States  <=50K  \n",
       "18  United-States  <=50K  \n",
       "19  United-States   >50K  "
      ]
     },
     "execution_count": 2,
     "metadata": {},
     "output_type": "execute_result"
    }
   ],
   "source": [
    "df = pd.read_csv('/kaggle/input/adultdata/adult.data.csv')\n",
    "df.head(20)"
   ]
  },
  {
   "cell_type": "markdown",
   "id": "22699c73",
   "metadata": {
    "papermill": {
     "duration": 0.021453,
     "end_time": "2023-09-10T20:28:07.051107",
     "exception": false,
     "start_time": "2023-09-10T20:28:07.029654",
     "status": "completed"
    },
    "tags": []
   },
   "source": [
    "> ----------------------------------------------------------------------------------------------------------------"
   ]
  },
  {
   "cell_type": "markdown",
   "id": "1625e96f",
   "metadata": {
    "papermill": {
     "duration": 0.021062,
     "end_time": "2023-09-10T20:28:07.093775",
     "exception": false,
     "start_time": "2023-09-10T20:28:07.072713",
     "status": "completed"
    },
    "tags": []
   },
   "source": [
    "education## Beginner Level Questions"
   ]
  },
  {
   "cell_type": "markdown",
   "id": "3b49e16b",
   "metadata": {
    "papermill": {
     "duration": 0.021022,
     "end_time": "2023-09-10T20:28:07.136318",
     "exception": false,
     "start_time": "2023-09-10T20:28:07.115296",
     "status": "completed"
    },
    "tags": []
   },
   "source": [
    "**Veri kümesinde kaç birey bulunmaktadır?**"
   ]
  },
  {
   "cell_type": "code",
   "execution_count": 3,
   "id": "02a0d074",
   "metadata": {
    "execution": {
     "iopub.execute_input": "2023-09-10T20:28:07.181068Z",
     "iopub.status.busy": "2023-09-10T20:28:07.180635Z",
     "iopub.status.idle": "2023-09-10T20:28:07.187546Z",
     "shell.execute_reply": "2023-09-10T20:28:07.186235Z"
    },
    "papermill": {
     "duration": 0.032651,
     "end_time": "2023-09-10T20:28:07.190126",
     "exception": false,
     "start_time": "2023-09-10T20:28:07.157475",
     "status": "completed"
    },
    "tags": []
   },
   "outputs": [
    {
     "data": {
      "text/plain": [
       "32561"
      ]
     },
     "execution_count": 3,
     "metadata": {},
     "output_type": "execute_result"
    }
   ],
   "source": [
    "#Shape ile toplam row sayımızı alıyoruz..\n",
    "df.shape[0]"
   ]
  },
  {
   "cell_type": "markdown",
   "id": "88825fb5",
   "metadata": {
    "papermill": {
     "duration": 0.021557,
     "end_time": "2023-09-10T20:28:07.233525",
     "exception": false,
     "start_time": "2023-09-10T20:28:07.211968",
     "status": "completed"
    },
    "tags": []
   },
   "source": [
    "**Bireylerin yaş dağılımı nedir?**"
   ]
  },
  {
   "cell_type": "code",
   "execution_count": 4,
   "id": "5917a7f4",
   "metadata": {
    "execution": {
     "iopub.execute_input": "2023-09-10T20:28:07.278382Z",
     "iopub.status.busy": "2023-09-10T20:28:07.277708Z",
     "iopub.status.idle": "2023-09-10T20:28:07.294209Z",
     "shell.execute_reply": "2023-09-10T20:28:07.292993Z"
    },
    "papermill": {
     "duration": 0.042076,
     "end_time": "2023-09-10T20:28:07.297121",
     "exception": false,
     "start_time": "2023-09-10T20:28:07.255045",
     "status": "completed"
    },
    "tags": []
   },
   "outputs": [
    {
     "data": {
      "text/plain": [
       "age\n",
       "36    898\n",
       "31    888\n",
       "34    886\n",
       "23    877\n",
       "35    876\n",
       "     ... \n",
       "83      6\n",
       "88      3\n",
       "85      3\n",
       "86      1\n",
       "87      1\n",
       "Name: count, Length: 73, dtype: int64"
      ]
     },
     "execution_count": 4,
     "metadata": {},
     "output_type": "execute_result"
    }
   ],
   "source": [
    "df['age'].value_counts()"
   ]
  },
  {
   "cell_type": "markdown",
   "id": "b04cc3f3",
   "metadata": {
    "papermill": {
     "duration": 0.021214,
     "end_time": "2023-09-10T20:28:07.340020",
     "exception": false,
     "start_time": "2023-09-10T20:28:07.318806",
     "status": "completed"
    },
    "tags": []
   },
   "source": [
    "**Hangi çalışma sınıfında en fazla birey bulunmaktadır?**"
   ]
  },
  {
   "cell_type": "code",
   "execution_count": 5,
   "id": "8ee3092f",
   "metadata": {
    "execution": {
     "iopub.execute_input": "2023-09-10T20:28:07.448754Z",
     "iopub.status.busy": "2023-09-10T20:28:07.448322Z",
     "iopub.status.idle": "2023-09-10T20:28:07.463433Z",
     "shell.execute_reply": "2023-09-10T20:28:07.462466Z"
    },
    "papermill": {
     "duration": 0.041074,
     "end_time": "2023-09-10T20:28:07.465824",
     "exception": false,
     "start_time": "2023-09-10T20:28:07.424750",
     "status": "completed"
    },
    "tags": []
   },
   "outputs": [
    {
     "data": {
      "text/plain": [
       "'Private'"
      ]
     },
     "execution_count": 5,
     "metadata": {},
     "output_type": "execute_result"
    }
   ],
   "source": [
    "df['workclass'].value_counts().idxmax()"
   ]
  },
  {
   "cell_type": "markdown",
   "id": "3dd71d3b",
   "metadata": {
    "papermill": {
     "duration": 0.023311,
     "end_time": "2023-09-10T20:28:07.510920",
     "exception": false,
     "start_time": "2023-09-10T20:28:07.487609",
     "status": "completed"
    },
    "tags": []
   },
   "source": [
    "**50K'nın üzerinde maaş alan kaç birey vardır?**"
   ]
  },
  {
   "cell_type": "code",
   "execution_count": 6,
   "id": "45597bff",
   "metadata": {
    "execution": {
     "iopub.execute_input": "2023-09-10T20:28:07.556550Z",
     "iopub.status.busy": "2023-09-10T20:28:07.555603Z",
     "iopub.status.idle": "2023-09-10T20:28:07.576122Z",
     "shell.execute_reply": "2023-09-10T20:28:07.574935Z"
    },
    "papermill": {
     "duration": 0.046423,
     "end_time": "2023-09-10T20:28:07.578889",
     "exception": false,
     "start_time": "2023-09-10T20:28:07.532466",
     "status": "completed"
    },
    "tags": []
   },
   "outputs": [
    {
     "data": {
      "text/plain": [
       "7841"
      ]
     },
     "execution_count": 6,
     "metadata": {},
     "output_type": "execute_result"
    }
   ],
   "source": [
    "df[df['salary']== '>50K'].shape[0]"
   ]
  },
  {
   "cell_type": "markdown",
   "id": "bcbb5fa8",
   "metadata": {
    "papermill": {
     "duration": 0.021848,
     "end_time": "2023-09-10T20:28:07.624152",
     "exception": false,
     "start_time": "2023-09-10T20:28:07.602304",
     "status": "completed"
    },
    "tags": []
   },
   "source": [
    "**50K'nın üzerinde ve altında maaş alan bireylerin ortalama yaşı nedir?**"
   ]
  },
  {
   "cell_type": "code",
   "execution_count": 7,
   "id": "87ed22a1",
   "metadata": {
    "execution": {
     "iopub.execute_input": "2023-09-10T20:28:07.670695Z",
     "iopub.status.busy": "2023-09-10T20:28:07.670262Z",
     "iopub.status.idle": "2023-09-10T20:28:07.686961Z",
     "shell.execute_reply": "2023-09-10T20:28:07.685672Z"
    },
    "papermill": {
     "duration": 0.042945,
     "end_time": "2023-09-10T20:28:07.689394",
     "exception": false,
     "start_time": "2023-09-10T20:28:07.646449",
     "status": "completed"
    },
    "tags": []
   },
   "outputs": [
    {
     "data": {
      "text/plain": [
       "44.24984058155847"
      ]
     },
     "execution_count": 7,
     "metadata": {},
     "output_type": "execute_result"
    }
   ],
   "source": [
    "df[df['salary']== '>50K']['age'].mean()"
   ]
  },
  {
   "cell_type": "code",
   "execution_count": 8,
   "id": "f5a79aee",
   "metadata": {
    "execution": {
     "iopub.execute_input": "2023-09-10T20:28:07.736624Z",
     "iopub.status.busy": "2023-09-10T20:28:07.736218Z",
     "iopub.status.idle": "2023-09-10T20:28:07.754625Z",
     "shell.execute_reply": "2023-09-10T20:28:07.753459Z"
    },
    "papermill": {
     "duration": 0.044777,
     "end_time": "2023-09-10T20:28:07.757098",
     "exception": false,
     "start_time": "2023-09-10T20:28:07.712321",
     "status": "completed"
    },
    "tags": []
   },
   "outputs": [
    {
     "data": {
      "text/plain": [
       "36.78373786407767"
      ]
     },
     "execution_count": 8,
     "metadata": {},
     "output_type": "execute_result"
    }
   ],
   "source": [
    "df[df['salary']== '<=50K']['age'].mean()"
   ]
  },
  {
   "cell_type": "markdown",
   "id": "3f121082",
   "metadata": {
    "papermill": {
     "duration": 0.021992,
     "end_time": "2023-09-10T20:28:07.801419",
     "exception": false,
     "start_time": "2023-09-10T20:28:07.779427",
     "status": "completed"
    },
    "tags": []
   },
   "source": [
    "**Bireyler tarafından elde edilen en yaygın eğitim seviyesi nedir?**"
   ]
  },
  {
   "cell_type": "code",
   "execution_count": 9,
   "id": "9b9e429f",
   "metadata": {
    "execution": {
     "iopub.execute_input": "2023-09-10T20:28:07.848131Z",
     "iopub.status.busy": "2023-09-10T20:28:07.847722Z",
     "iopub.status.idle": "2023-09-10T20:28:07.861322Z",
     "shell.execute_reply": "2023-09-10T20:28:07.859913Z"
    },
    "papermill": {
     "duration": 0.040024,
     "end_time": "2023-09-10T20:28:07.863879",
     "exception": false,
     "start_time": "2023-09-10T20:28:07.823855",
     "status": "completed"
    },
    "tags": []
   },
   "outputs": [
    {
     "data": {
      "text/plain": [
       "'HS-grad'"
      ]
     },
     "execution_count": 9,
     "metadata": {},
     "output_type": "execute_result"
    }
   ],
   "source": [
    "df['education'].value_counts().idxmax()"
   ]
  },
  {
   "cell_type": "markdown",
   "id": "7e3f4533",
   "metadata": {
    "papermill": {
     "duration": 0.022807,
     "end_time": "2023-09-10T20:28:07.910093",
     "exception": false,
     "start_time": "2023-09-10T20:28:07.887286",
     "status": "completed"
    },
    "tags": []
   },
   "source": [
    "**Haftada 40 saatten fazla çalışan kaç birey vardır?**"
   ]
  },
  {
   "cell_type": "code",
   "execution_count": 10,
   "id": "a697f6d3",
   "metadata": {
    "execution": {
     "iopub.execute_input": "2023-09-10T20:28:07.958226Z",
     "iopub.status.busy": "2023-09-10T20:28:07.957370Z",
     "iopub.status.idle": "2023-09-10T20:28:07.967392Z",
     "shell.execute_reply": "2023-09-10T20:28:07.966255Z"
    },
    "papermill": {
     "duration": 0.036696,
     "end_time": "2023-09-10T20:28:07.969915",
     "exception": false,
     "start_time": "2023-09-10T20:28:07.933219",
     "status": "completed"
    },
    "tags": []
   },
   "outputs": [
    {
     "data": {
      "text/plain": [
       "9581"
      ]
     },
     "execution_count": 10,
     "metadata": {},
     "output_type": "execute_result"
    }
   ],
   "source": [
    "df[df['hours-per-week']>40].shape[0]"
   ]
  },
  {
   "cell_type": "markdown",
   "id": "89cec4d1",
   "metadata": {
    "papermill": {
     "duration": 0.023158,
     "end_time": "2023-09-10T20:28:08.016883",
     "exception": false,
     "start_time": "2023-09-10T20:28:07.993725",
     "status": "completed"
    },
    "tags": []
   },
   "source": [
    "**Her cinsiyetten kaç birey bulunmaktadır?**"
   ]
  },
  {
   "cell_type": "code",
   "execution_count": 11,
   "id": "0ef87d11",
   "metadata": {
    "execution": {
     "iopub.execute_input": "2023-09-10T20:28:08.064701Z",
     "iopub.status.busy": "2023-09-10T20:28:08.064290Z",
     "iopub.status.idle": "2023-09-10T20:28:08.077883Z",
     "shell.execute_reply": "2023-09-10T20:28:08.076958Z"
    },
    "papermill": {
     "duration": 0.040026,
     "end_time": "2023-09-10T20:28:08.080093",
     "exception": false,
     "start_time": "2023-09-10T20:28:08.040067",
     "status": "completed"
    },
    "tags": []
   },
   "outputs": [
    {
     "data": {
      "text/plain": [
       "sex\n",
       "Male      21790\n",
       "Female    10771\n",
       "Name: count, dtype: int64"
      ]
     },
     "execution_count": 11,
     "metadata": {},
     "output_type": "execute_result"
    }
   ],
   "source": [
    "df['sex'].value_counts()"
   ]
  },
  {
   "cell_type": "markdown",
   "id": "6aa035f8",
   "metadata": {
    "papermill": {
     "duration": 0.022649,
     "end_time": "2023-09-10T20:28:08.125785",
     "exception": false,
     "start_time": "2023-09-10T20:28:08.103136",
     "status": "completed"
    },
    "tags": []
   },
   "source": [
    "**Kadınların yaş ortalaması nedir?**"
   ]
  },
  {
   "cell_type": "code",
   "execution_count": 12,
   "id": "55c4ea71",
   "metadata": {
    "execution": {
     "iopub.execute_input": "2023-09-10T20:28:08.173238Z",
     "iopub.status.busy": "2023-09-10T20:28:08.172824Z",
     "iopub.status.idle": "2023-09-10T20:28:08.190340Z",
     "shell.execute_reply": "2023-09-10T20:28:08.189231Z"
    },
    "papermill": {
     "duration": 0.044048,
     "end_time": "2023-09-10T20:28:08.192752",
     "exception": false,
     "start_time": "2023-09-10T20:28:08.148704",
     "status": "completed"
    },
    "tags": []
   },
   "outputs": [
    {
     "data": {
      "text/plain": [
       "36.85823043357163"
      ]
     },
     "execution_count": 12,
     "metadata": {},
     "output_type": "execute_result"
    }
   ],
   "source": [
    "df[df['sex']=='Female']['age'].mean()"
   ]
  },
  {
   "cell_type": "markdown",
   "id": "d245c6ff",
   "metadata": {
    "papermill": {
     "duration": 0.023108,
     "end_time": "2023-09-10T20:28:08.239420",
     "exception": false,
     "start_time": "2023-09-10T20:28:08.216312",
     "status": "completed"
    },
    "tags": []
   },
   "source": [
    "**Alman vatandaşlarının yüzdesi nedir?**"
   ]
  },
  {
   "cell_type": "code",
   "execution_count": 13,
   "id": "f8da4f38",
   "metadata": {
    "execution": {
     "iopub.execute_input": "2023-09-10T20:28:08.287552Z",
     "iopub.status.busy": "2023-09-10T20:28:08.287130Z",
     "iopub.status.idle": "2023-09-10T20:28:08.302156Z",
     "shell.execute_reply": "2023-09-10T20:28:08.301157Z"
    },
    "papermill": {
     "duration": 0.041618,
     "end_time": "2023-09-10T20:28:08.304406",
     "exception": false,
     "start_time": "2023-09-10T20:28:08.262788",
     "status": "completed"
    },
    "tags": []
   },
   "outputs": [
    {
     "data": {
      "text/plain": [
       "0.42074874850281013"
      ]
     },
     "execution_count": 13,
     "metadata": {},
     "output_type": "execute_result"
    }
   ],
   "source": [
    "total=df['native-country'].shape[0]\n",
    "alman=df[df['native-country']=='Germany'].shape[0]\n",
    "yuzde=(alman/total)*100\n",
    "yuzde\n"
   ]
  },
  {
   "cell_type": "markdown",
   "id": "4a7c85b7",
   "metadata": {
    "papermill": {
     "duration": 0.023006,
     "end_time": "2023-09-10T20:28:08.350475",
     "exception": false,
     "start_time": "2023-09-10T20:28:08.327469",
     "status": "completed"
    },
    "tags": []
   },
   "source": [
    "**Yıllık 50 binden fazla kazanan insanların yaşlarının ortalaması ve standart sapması nedir?**"
   ]
  },
  {
   "cell_type": "code",
   "execution_count": 14,
   "id": "91721052",
   "metadata": {
    "execution": {
     "iopub.execute_input": "2023-09-10T20:28:08.399278Z",
     "iopub.status.busy": "2023-09-10T20:28:08.398406Z",
     "iopub.status.idle": "2023-09-10T20:28:08.422706Z",
     "shell.execute_reply": "2023-09-10T20:28:08.421556Z"
    },
    "papermill": {
     "duration": 0.051459,
     "end_time": "2023-09-10T20:28:08.425107",
     "exception": false,
     "start_time": "2023-09-10T20:28:08.373648",
     "status": "completed"
    },
    "tags": []
   },
   "outputs": [
    {
     "name": "stdout",
     "output_type": "stream",
     "text": [
      "Ortalama:  44.24984058155847\n",
      "Standart Sapma:  10.519027719851826\n"
     ]
    }
   ],
   "source": [
    "ortalama=df[df['salary']== '>50K']['age'].mean() #\n",
    "s_sapma=df[df['salary']== '>50K']['age'].std()  #\n",
    "print(\"Ortalama: \",ortalama)\n",
    "print(\"Standart Sapma: \",s_sapma)"
   ]
  },
  {
   "cell_type": "markdown",
   "id": "cb0e2011",
   "metadata": {
    "papermill": {
     "duration": 0.023051,
     "end_time": "2023-09-10T20:28:08.471628",
     "exception": false,
     "start_time": "2023-09-10T20:28:08.448577",
     "status": "completed"
    },
    "tags": []
   },
   "source": [
    "**50 binden fazla kazananlar en az lise eğitimi almıştır diyebilir miyiz?**\n",
    "> (education feature seti içerisinde Bachelors, Prof-school, Assoc-acdm, Assoc-voc, Masters ve Doctorate özelliğine sahip olanlar)"
   ]
  },
  {
   "cell_type": "code",
   "execution_count": 15,
   "id": "2c871ff8",
   "metadata": {
    "execution": {
     "iopub.execute_input": "2023-09-10T20:28:08.521128Z",
     "iopub.status.busy": "2023-09-10T20:28:08.519897Z",
     "iopub.status.idle": "2023-09-10T20:28:08.546817Z",
     "shell.execute_reply": "2023-09-10T20:28:08.545572Z"
    },
    "papermill": {
     "duration": 0.054627,
     "end_time": "2023-09-10T20:28:08.549356",
     "exception": false,
     "start_time": "2023-09-10T20:28:08.494729",
     "status": "completed"
    },
    "tags": []
   },
   "outputs": [
    {
     "data": {
      "text/plain": [
       "education     salary\n",
       "10th          <=50K      871\n",
       "              >50K        62\n",
       "11th          <=50K     1115\n",
       "              >50K        60\n",
       "12th          <=50K      400\n",
       "              >50K        33\n",
       "1st-4th       <=50K      162\n",
       "              >50K         6\n",
       "5th-6th       <=50K      317\n",
       "              >50K        16\n",
       "7th-8th       <=50K      606\n",
       "              >50K        40\n",
       "9th           <=50K      487\n",
       "              >50K        27\n",
       "Assoc-acdm    <=50K      802\n",
       "              >50K       265\n",
       "Assoc-voc     <=50K     1021\n",
       "              >50K       361\n",
       "Bachelors     <=50K     3134\n",
       "              >50K      2221\n",
       "Doctorate     >50K       306\n",
       "              <=50K      107\n",
       "HS-grad       <=50K     8826\n",
       "              >50K      1675\n",
       "Masters       >50K       959\n",
       "              <=50K      764\n",
       "Preschool     <=50K       51\n",
       "Prof-school   >50K       423\n",
       "              <=50K      153\n",
       "Some-college  <=50K     5904\n",
       "              >50K      1387\n",
       "Name: count, dtype: int64"
      ]
     },
     "execution_count": 15,
     "metadata": {},
     "output_type": "execute_result"
    }
   ],
   "source": [
    "(df.groupby(by=['education'])['salary']).value_counts()\n",
    "# Lise öncesinde 50K kazanan olduğu için diyemeyiz."
   ]
  },
  {
   "cell_type": "markdown",
   "id": "5721a964",
   "metadata": {
    "papermill": {
     "duration": 0.023219,
     "end_time": "2023-09-10T20:28:08.596881",
     "exception": false,
     "start_time": "2023-09-10T20:28:08.573662",
     "status": "completed"
    },
    "tags": []
   },
   "source": [
    "**Amer-Indian-Eskimo ırkındaki erkeklerin maksimum yaşını bulun.**"
   ]
  },
  {
   "cell_type": "code",
   "execution_count": 16,
   "id": "09386ce6",
   "metadata": {
    "execution": {
     "iopub.execute_input": "2023-09-10T20:28:08.646698Z",
     "iopub.status.busy": "2023-09-10T20:28:08.645900Z",
     "iopub.status.idle": "2023-09-10T20:28:08.666877Z",
     "shell.execute_reply": "2023-09-10T20:28:08.665678Z"
    },
    "papermill": {
     "duration": 0.048425,
     "end_time": "2023-09-10T20:28:08.669321",
     "exception": false,
     "start_time": "2023-09-10T20:28:08.620896",
     "status": "completed"
    },
    "tags": []
   },
   "outputs": [
    {
     "data": {
      "text/plain": [
       "82"
      ]
     },
     "execution_count": 16,
     "metadata": {},
     "output_type": "execute_result"
    }
   ],
   "source": [
    "df[(df['race']=='Amer-Indian-Eskimo')&(df['sex']=='Male')]['age'].max()"
   ]
  },
  {
   "cell_type": "markdown",
   "id": "9223c6cd",
   "metadata": {
    "papermill": {
     "duration": 0.023427,
     "end_time": "2023-09-10T20:28:08.716547",
     "exception": false,
     "start_time": "2023-09-10T20:28:08.693120",
     "status": "completed"
    },
    "tags": []
   },
   "source": [
    "**50 binden fazla kazanan erkeklerin evli/bekar olma oranı nedir?**\n",
    "> Married ifadesi ile başlayan feature'ları evli, kalanları ise bekar olarak kabul edin.\n",
    "\n"
   ]
  },
  {
   "cell_type": "code",
   "execution_count": 17,
   "id": "e757f56a",
   "metadata": {
    "execution": {
     "iopub.execute_input": "2023-09-10T20:28:08.765428Z",
     "iopub.status.busy": "2023-09-10T20:28:08.764804Z",
     "iopub.status.idle": "2023-09-10T20:28:08.820845Z",
     "shell.execute_reply": "2023-09-10T20:28:08.819581Z"
    },
    "papermill": {
     "duration": 0.083428,
     "end_time": "2023-09-10T20:28:08.823332",
     "exception": false,
     "start_time": "2023-09-10T20:28:08.739904",
     "status": "completed"
    },
    "tags": []
   },
   "outputs": [
    {
     "name": "stdout",
     "output_type": "stream",
     "text": [
      "5965  6662\n"
     ]
    }
   ],
   "source": [
    "evli=df[(df['salary']== '>50K') &(df['sex']=='Male') & (df['marital-status'].str.startswith('Married'))].shape[0]\n",
    "medeni_hal=df[(df['salary']== '>50K') &(df['sex']=='Male')]['marital-status'].shape[0]\n",
    "print(evli,\"\",medeni_hal)"
   ]
  },
  {
   "cell_type": "code",
   "execution_count": 18,
   "id": "2ea19aa0",
   "metadata": {
    "execution": {
     "iopub.execute_input": "2023-09-10T20:28:08.874189Z",
     "iopub.status.busy": "2023-09-10T20:28:08.873097Z",
     "iopub.status.idle": "2023-09-10T20:28:08.879230Z",
     "shell.execute_reply": "2023-09-10T20:28:08.878209Z"
    },
    "papermill": {
     "duration": 0.034077,
     "end_time": "2023-09-10T20:28:08.881522",
     "exception": false,
     "start_time": "2023-09-10T20:28:08.847445",
     "status": "completed"
    },
    "tags": []
   },
   "outputs": [
    {
     "name": "stdout",
     "output_type": "stream",
     "text": [
      "bekar: 697\n",
      "0.10462323626538576\n",
      "0.8953767637346143\n"
     ]
    }
   ],
   "source": [
    "bekar= medeni_hal-evli\n",
    "print('bekar:',bekar)\n",
    "\n",
    "print(bekar/medeni_hal)\n",
    "print(evli/medeni_hal)"
   ]
  },
  {
   "cell_type": "markdown",
   "id": "dbb340b7",
   "metadata": {
    "papermill": {
     "duration": 0.024675,
     "end_time": "2023-09-10T20:28:08.930897",
     "exception": false,
     "start_time": "2023-09-10T20:28:08.906222",
     "status": "completed"
    },
    "tags": []
   },
   "source": [
    "**Bir kişinin haftada maksimum kaç saat çalıştığını bulun. Kaç kişi bu kadar saat çalışıyor ve bunlar arasında çok kazananların oranı nedir?**"
   ]
  },
  {
   "cell_type": "code",
   "execution_count": 19,
   "id": "bf82c848",
   "metadata": {
    "execution": {
     "iopub.execute_input": "2023-09-10T20:28:08.980462Z",
     "iopub.status.busy": "2023-09-10T20:28:08.979764Z",
     "iopub.status.idle": "2023-09-10T20:28:08.994402Z",
     "shell.execute_reply": "2023-09-10T20:28:08.993143Z"
    },
    "papermill": {
     "duration": 0.042349,
     "end_time": "2023-09-10T20:28:08.997068",
     "exception": false,
     "start_time": "2023-09-10T20:28:08.954719",
     "status": "completed"
    },
    "tags": []
   },
   "outputs": [
    {
     "name": "stdout",
     "output_type": "stream",
     "text": [
      "99\n",
      "85\n",
      "25\n"
     ]
    }
   ],
   "source": [
    "mhw=df['hours-per-week'].max()\n",
    "n_maxhw = (df['hours-per-week'] == mhw).sum()\n",
    "high_earners = df[\"salary\"]=='>50K'\n",
    "n_high_earners = (high_earners & (df['hours-per-week'] == mhw)).sum()\n",
    "print(mhw)\n",
    "print(n_maxhw)\n",
    "print(n_high_earners)\n"
   ]
  },
  {
   "cell_type": "markdown",
   "id": "8993b830",
   "metadata": {
    "papermill": {
     "duration": 0.023703,
     "end_time": "2023-09-10T20:28:09.045881",
     "exception": false,
     "start_time": "2023-09-10T20:28:09.022178",
     "status": "completed"
    },
    "tags": []
   },
   "source": [
    "**Her ülke için az ve çok kazananların ortalama çalışma süresini hesaplayın.** (crosstab kullanabilirsiniz)"
   ]
  },
  {
   "cell_type": "code",
   "execution_count": 20,
   "id": "fe370527",
   "metadata": {
    "execution": {
     "iopub.execute_input": "2023-09-10T20:28:09.097227Z",
     "iopub.status.busy": "2023-09-10T20:28:09.096220Z",
     "iopub.status.idle": "2023-09-10T20:28:09.152036Z",
     "shell.execute_reply": "2023-09-10T20:28:09.149894Z"
    },
    "papermill": {
     "duration": 0.085004,
     "end_time": "2023-09-10T20:28:09.155030",
     "exception": false,
     "start_time": "2023-09-10T20:28:09.070026",
     "status": "completed"
    },
    "tags": []
   },
   "outputs": [
    {
     "name": "stdout",
     "output_type": "stream",
     "text": [
      "salary                          <=50K       >50K\n",
      "native-country                                  \n",
      "?                           40.164760  45.547945\n",
      "Cambodia                    41.416667  40.000000\n",
      "Canada                      37.914634  45.641026\n",
      "China                       37.381818  38.900000\n",
      "Columbia                    38.684211  50.000000\n",
      "Cuba                        37.985714  42.440000\n",
      "Dominican-Republic          42.338235  47.000000\n",
      "Ecuador                     38.041667  48.750000\n",
      "El-Salvador                 36.030928  45.000000\n",
      "England                     40.483333  44.533333\n",
      "France                      41.058824  50.750000\n",
      "Germany                     39.139785  44.977273\n",
      "Greece                      41.809524  50.625000\n",
      "Guatemala                   39.360656  36.666667\n",
      "Haiti                       36.325000  42.750000\n",
      "Holand-Netherlands          40.000000        NaN\n",
      "Honduras                    34.333333  60.000000\n",
      "Hong                        39.142857  45.000000\n",
      "Hungary                     31.300000  50.000000\n",
      "India                       38.233333  46.475000\n",
      "Iran                        41.440000  47.500000\n",
      "Ireland                     40.947368  48.000000\n",
      "Italy                       39.625000  45.400000\n",
      "Jamaica                     38.239437  41.100000\n",
      "Japan                       41.000000  47.958333\n",
      "Laos                        40.375000  40.000000\n",
      "Mexico                      40.003279  46.575758\n",
      "Nicaragua                   36.093750  37.500000\n",
      "Outlying-US(Guam-USVI-etc)  41.857143        NaN\n",
      "Peru                        35.068966  40.000000\n",
      "Philippines                 38.065693  43.032787\n",
      "Poland                      38.166667  39.000000\n",
      "Portugal                    41.939394  41.500000\n",
      "Puerto-Rico                 38.470588  39.416667\n",
      "Scotland                    39.444444  46.666667\n",
      "South                       40.156250  51.437500\n",
      "Taiwan                      33.774194  46.800000\n",
      "Thailand                    42.866667  58.333333\n",
      "Trinadad&Tobago             37.058824  40.000000\n",
      "United-States               38.799127  45.505369\n",
      "Vietnam                     37.193548  39.200000\n",
      "Yugoslavia                  41.600000  49.500000\n"
     ]
    }
   ],
   "source": [
    "# Az kazananları belirleyin.\n",
    "low_earners = df[\"salary\"]== '<=50K'\n",
    "\n",
    "# Çok kazananları belirleyin.\n",
    "high_earners = df[\"salary\"]== '>50K'\n",
    "\n",
    "cross_tab = pd.crosstab(index=df['native-country'], columns=df['salary'], values=df['hours-per-week'], aggfunc='mean')\n",
    "print(cross_tab)"
   ]
  },
  {
   "cell_type": "markdown",
   "id": "f72d8b9d",
   "metadata": {
    "papermill": {
     "duration": 0.024311,
     "end_time": "2023-09-10T20:28:09.203459",
     "exception": false,
     "start_time": "2023-09-10T20:28:09.179148",
     "status": "completed"
    },
    "tags": []
   },
   "source": [
    "## Intermediate Level Questions"
   ]
  },
  {
   "cell_type": "markdown",
   "id": "e8628275",
   "metadata": {
    "papermill": {
     "duration": 0.024426,
     "end_time": "2023-09-10T20:28:09.252444",
     "exception": false,
     "start_time": "2023-09-10T20:28:09.228018",
     "status": "completed"
    },
    "tags": []
   },
   "source": [
    "**Farklı çalışma sınıfı(workclass) kategorileri arasında eğitim yılı (education-num) ortalaması nedir?**"
   ]
  },
  {
   "cell_type": "code",
   "execution_count": 21,
   "id": "48a85557",
   "metadata": {
    "execution": {
     "iopub.execute_input": "2023-09-10T20:28:09.303711Z",
     "iopub.status.busy": "2023-09-10T20:28:09.302545Z",
     "iopub.status.idle": "2023-09-10T20:28:09.315812Z",
     "shell.execute_reply": "2023-09-10T20:28:09.314904Z"
    },
    "papermill": {
     "duration": 0.041111,
     "end_time": "2023-09-10T20:28:09.318175",
     "exception": false,
     "start_time": "2023-09-10T20:28:09.277064",
     "status": "completed"
    },
    "tags": []
   },
   "outputs": [
    {
     "name": "stdout",
     "output_type": "stream",
     "text": [
      "                  education-num\n",
      "workclass                      \n",
      "?                      9.260349\n",
      "Federal-gov           10.973958\n",
      "Local-gov             11.042045\n",
      "Never-worked           7.428571\n",
      "Private                9.879714\n",
      "Self-emp-inc          11.137097\n",
      "Self-emp-not-inc      10.226289\n",
      "State-gov             11.375963\n",
      "Without-pay            9.071429\n"
     ]
    }
   ],
   "source": [
    "crosstab = df.groupby([\"workclass\"]).agg({\"education-num\": \"mean\"})\n",
    "print(crosstab)"
   ]
  },
  {
   "cell_type": "markdown",
   "id": "7c90fdb7",
   "metadata": {
    "papermill": {
     "duration": 0.023946,
     "end_time": "2023-09-10T20:28:09.366111",
     "exception": false,
     "start_time": "2023-09-10T20:28:09.342165",
     "status": "completed"
    },
    "tags": []
   },
   "source": [
    "**Hangi meslek en yüksek ortalama maaşa sahiptir?**"
   ]
  },
  {
   "cell_type": "code",
   "execution_count": 22,
   "id": "ace8045b",
   "metadata": {
    "execution": {
     "iopub.execute_input": "2023-09-10T20:28:09.416528Z",
     "iopub.status.busy": "2023-09-10T20:28:09.416079Z",
     "iopub.status.idle": "2023-09-10T20:28:09.434101Z",
     "shell.execute_reply": "2023-09-10T20:28:09.432801Z"
    },
    "papermill": {
     "duration": 0.045977,
     "end_time": "2023-09-10T20:28:09.436321",
     "exception": false,
     "start_time": "2023-09-10T20:28:09.390344",
     "status": "completed"
    },
    "tags": []
   },
   "outputs": [
    {
     "data": {
      "text/plain": [
       "'Exec-managerial'"
      ]
     },
     "execution_count": 22,
     "metadata": {},
     "output_type": "execute_result"
    }
   ],
   "source": [
    "df[df['salary'] == '>50K']['occupation'].value_counts().idxmax()\n"
   ]
  },
  {
   "cell_type": "markdown",
   "id": "eccafcf4",
   "metadata": {
    "papermill": {
     "duration": 0.028758,
     "end_time": "2023-09-10T20:28:09.489227",
     "exception": false,
     "start_time": "2023-09-10T20:28:09.460469",
     "status": "completed"
    },
    "tags": []
   },
   "source": [
    "**Cinsiyete göre haftalık çalışma saatleri arasında önemli farklar var mı?**"
   ]
  },
  {
   "cell_type": "code",
   "execution_count": 23,
   "id": "cb2c3fc0",
   "metadata": {
    "execution": {
     "iopub.execute_input": "2023-09-10T20:28:09.547339Z",
     "iopub.status.busy": "2023-09-10T20:28:09.546594Z",
     "iopub.status.idle": "2023-09-10T20:28:09.559958Z",
     "shell.execute_reply": "2023-09-10T20:28:09.558509Z"
    },
    "papermill": {
     "duration": 0.043788,
     "end_time": "2023-09-10T20:28:09.562356",
     "exception": false,
     "start_time": "2023-09-10T20:28:09.518568",
     "status": "completed"
    },
    "tags": []
   },
   "outputs": [
    {
     "name": "stdout",
     "output_type": "stream",
     "text": [
      "        hours-per-week\n",
      "sex                   \n",
      "Female       36.410361\n",
      "Male         42.428086\n"
     ]
    }
   ],
   "source": [
    "crosstab = df.groupby([\"sex\"]).agg({\"hours-per-week\": \"mean\"})\n",
    "print(crosstab)\n",
    "# Erkekler ortalama 6 saat daha fazla çalışıyordur."
   ]
  },
  {
   "cell_type": "markdown",
   "id": "5bd0652d",
   "metadata": {
    "papermill": {
     "duration": 0.024502,
     "end_time": "2023-09-10T20:28:09.611106",
     "exception": false,
     "start_time": "2023-09-10T20:28:09.586604",
     "status": "completed"
    },
    "tags": []
   },
   "source": [
    "**Maaşları 50K'nın üzerinde ve altında olanlar için medeni durum dağılımı nasıl değişiyor?**"
   ]
  },
  {
   "cell_type": "code",
   "execution_count": 24,
   "id": "6acb51f9",
   "metadata": {
    "execution": {
     "iopub.execute_input": "2023-09-10T20:28:09.670375Z",
     "iopub.status.busy": "2023-09-10T20:28:09.669809Z",
     "iopub.status.idle": "2023-09-10T20:28:09.692637Z",
     "shell.execute_reply": "2023-09-10T20:28:09.690967Z"
    },
    "papermill": {
     "duration": 0.057205,
     "end_time": "2023-09-10T20:28:09.695415",
     "exception": false,
     "start_time": "2023-09-10T20:28:09.638210",
     "status": "completed"
    },
    "tags": []
   },
   "outputs": [
    {
     "data": {
      "text/plain": [
       "salary  marital-status       \n",
       "<=50K   Never-married            10192\n",
       "        Married-civ-spouse        8284\n",
       "        Divorced                  3980\n",
       "        Separated                  959\n",
       "        Widowed                    908\n",
       "        Married-spouse-absent      384\n",
       "        Married-AF-spouse           13\n",
       ">50K    Married-civ-spouse        6692\n",
       "        Never-married              491\n",
       "        Divorced                   463\n",
       "        Widowed                     85\n",
       "        Separated                   66\n",
       "        Married-spouse-absent       34\n",
       "        Married-AF-spouse           10\n",
       "Name: count, dtype: int64"
      ]
     },
     "execution_count": 24,
     "metadata": {},
     "output_type": "execute_result"
    }
   ],
   "source": [
    " df.groupby([\"salary\"])[\"marital-status\"].value_counts()\n"
   ]
  },
  {
   "cell_type": "markdown",
   "id": "f8804b62",
   "metadata": {
    "papermill": {
     "duration": 0.03558,
     "end_time": "2023-09-10T20:28:09.767218",
     "exception": false,
     "start_time": "2023-09-10T20:28:09.731638",
     "status": "completed"
    },
    "tags": []
   },
   "source": [
    "**Her ilişki türü için ortalama yaş nedir?**"
   ]
  },
  {
   "cell_type": "code",
   "execution_count": 25,
   "id": "4924133f",
   "metadata": {
    "execution": {
     "iopub.execute_input": "2023-09-10T20:28:09.820813Z",
     "iopub.status.busy": "2023-09-10T20:28:09.820419Z",
     "iopub.status.idle": "2023-09-10T20:28:09.833658Z",
     "shell.execute_reply": "2023-09-10T20:28:09.832774Z"
    },
    "papermill": {
     "duration": 0.041768,
     "end_time": "2023-09-10T20:28:09.836201",
     "exception": false,
     "start_time": "2023-09-10T20:28:09.794433",
     "status": "completed"
    },
    "tags": []
   },
   "outputs": [
    {
     "data": {
      "text/plain": [
       "relationship\n",
       "Husband           43.818616\n",
       "Not-in-family     38.346057\n",
       "Other-relative    33.164118\n",
       "Own-child         24.827940\n",
       "Unmarried         40.293964\n",
       "Wife              39.846301\n",
       "Name: age, dtype: float64"
      ]
     },
     "execution_count": 25,
     "metadata": {},
     "output_type": "execute_result"
    }
   ],
   "source": [
    " df.groupby([\"relationship\"])[\"age\"].mean()\n"
   ]
  },
  {
   "cell_type": "markdown",
   "id": "cad2d5c8",
   "metadata": {
    "papermill": {
     "duration": 0.029785,
     "end_time": "2023-09-10T20:28:09.893655",
     "exception": false,
     "start_time": "2023-09-10T20:28:09.863870",
     "status": "completed"
    },
    "tags": []
   },
   "source": [
    "**Hangi ülkede en yüksek ortalama sermaye kazancı(capital gain) vardır?**"
   ]
  },
  {
   "cell_type": "code",
   "execution_count": 26,
   "id": "37568b7e",
   "metadata": {
    "execution": {
     "iopub.execute_input": "2023-09-10T20:28:09.949054Z",
     "iopub.status.busy": "2023-09-10T20:28:09.948274Z",
     "iopub.status.idle": "2023-09-10T20:28:09.960915Z",
     "shell.execute_reply": "2023-09-10T20:28:09.959415Z"
    },
    "papermill": {
     "duration": 0.043698,
     "end_time": "2023-09-10T20:28:09.963264",
     "exception": false,
     "start_time": "2023-09-10T20:28:09.919566",
     "status": "completed"
    },
    "tags": []
   },
   "outputs": [
    {
     "data": {
      "text/plain": [
       "'India'"
      ]
     },
     "execution_count": 26,
     "metadata": {},
     "output_type": "execute_result"
    }
   ],
   "source": [
    " df.groupby([\"native-country\"])[\"capital-gain\"].mean().idxmax()\n"
   ]
  },
  {
   "cell_type": "markdown",
   "id": "ef1857b6",
   "metadata": {
    "papermill": {
     "duration": 0.024361,
     "end_time": "2023-09-10T20:28:10.012515",
     "exception": false,
     "start_time": "2023-09-10T20:28:09.988154",
     "status": "completed"
    },
    "tags": []
   },
   "source": [
    "**Doktora seviyesinde eğitime sahip bireyler arasında ırk dağılımı nasıl değişir?**"
   ]
  },
  {
   "cell_type": "code",
   "execution_count": 27,
   "id": "b6622db9",
   "metadata": {
    "execution": {
     "iopub.execute_input": "2023-09-10T20:28:10.063624Z",
     "iopub.status.busy": "2023-09-10T20:28:10.063187Z",
     "iopub.status.idle": "2023-09-10T20:28:10.080022Z",
     "shell.execute_reply": "2023-09-10T20:28:10.078861Z"
    },
    "papermill": {
     "duration": 0.045177,
     "end_time": "2023-09-10T20:28:10.082364",
     "exception": false,
     "start_time": "2023-09-10T20:28:10.037187",
     "status": "completed"
    },
    "tags": []
   },
   "outputs": [
    {
     "data": {
      "text/plain": [
       "race\n",
       "White                 369\n",
       "Asian-Pac-Islander     28\n",
       "Black                  11\n",
       "Amer-Indian-Eskimo      3\n",
       "Other                   2\n",
       "Name: count, dtype: int64"
      ]
     },
     "execution_count": 27,
     "metadata": {},
     "output_type": "execute_result"
    }
   ],
   "source": [
    "df[df[\"education\"]=='Doctorate'][\"race\"].value_counts()\n"
   ]
  },
  {
   "cell_type": "markdown",
   "id": "8dd57295",
   "metadata": {
    "papermill": {
     "duration": 0.024873,
     "end_time": "2023-09-10T20:28:10.134041",
     "exception": false,
     "start_time": "2023-09-10T20:28:10.109168",
     "status": "completed"
    },
    "tags": []
   },
   "source": [
    "**Asla çalışmamış (workclass: Never-worked) bireylerin farklı eğitim seviyeleri arasındaki oranı nedir?**"
   ]
  },
  {
   "cell_type": "code",
   "execution_count": 28,
   "id": "61dd39c0",
   "metadata": {
    "execution": {
     "iopub.execute_input": "2023-09-10T20:28:10.185718Z",
     "iopub.status.busy": "2023-09-10T20:28:10.185286Z",
     "iopub.status.idle": "2023-09-10T20:28:10.214459Z",
     "shell.execute_reply": "2023-09-10T20:28:10.212901Z"
    },
    "papermill": {
     "duration": 0.057955,
     "end_time": "2023-09-10T20:28:10.217030",
     "exception": false,
     "start_time": "2023-09-10T20:28:10.159075",
     "status": "completed"
    },
    "tags": []
   },
   "outputs": [
    {
     "name": "stdout",
     "output_type": "stream",
     "text": [
      "workclass    education   \n",
      "?            HS-grad         0.001880\n",
      "             Some-college    0.003891\n",
      "             Bachelors            NaN\n",
      "             11th            0.008475\n",
      "             10th            0.020000\n",
      "                               ...   \n",
      "State-gov    Preschool            NaN\n",
      "Without-pay  HS-grad         0.111111\n",
      "             Some-college    0.666667\n",
      "             7th-8th         1.000000\n",
      "             Assoc-acdm           NaN\n",
      "Name: count, Length: 117, dtype: float64\n"
     ]
    }
   ],
   "source": [
    "occ =  df[(df['workclass'] == 'Never-worked')]['education'].value_counts()\n",
    "toplam =  df.groupby(df['workclass'])['education'].value_counts()\n",
    "print(occ/toplam)\n",
    "\n"
   ]
  },
  {
   "cell_type": "markdown",
   "id": "0c05de86",
   "metadata": {
    "papermill": {
     "duration": 0.02548,
     "end_time": "2023-09-10T20:28:10.268544",
     "exception": false,
     "start_time": "2023-09-10T20:28:10.243064",
     "status": "completed"
    },
    "tags": []
   },
   "source": [
    "## Upper-intermediate Level Questions"
   ]
  },
  {
   "cell_type": "markdown",
   "id": "8bbaa7d0",
   "metadata": {
    "papermill": {
     "duration": 0.024848,
     "end_time": "2023-09-10T20:28:10.318415",
     "exception": false,
     "start_time": "2023-09-10T20:28:10.293567",
     "status": "completed"
    },
    "tags": []
   },
   "source": [
    "**Erkekler ve kadınlar arasında sermaye kazancı ve sermaye kaybı ortalamasını karşılaştırın.**"
   ]
  },
  {
   "cell_type": "code",
   "execution_count": 29,
   "id": "08a8ab73",
   "metadata": {
    "execution": {
     "iopub.execute_input": "2023-09-10T20:28:10.371461Z",
     "iopub.status.busy": "2023-09-10T20:28:10.370560Z",
     "iopub.status.idle": "2023-09-10T20:28:10.389072Z",
     "shell.execute_reply": "2023-09-10T20:28:10.387566Z"
    },
    "papermill": {
     "duration": 0.048251,
     "end_time": "2023-09-10T20:28:10.391862",
     "exception": false,
     "start_time": "2023-09-10T20:28:10.343611",
     "status": "completed"
    },
    "tags": []
   },
   "outputs": [
    {
     "name": "stdout",
     "output_type": "stream",
     "text": [
      "Kazanç sex\n",
      "Female     568.410547\n",
      "Male      1329.370078\n",
      "Name: capital-gain, dtype: float64\n",
      "Kayıp sex\n",
      "Female     61.187633\n",
      "Male      100.213309\n",
      "Name: capital-loss, dtype: float64\n"
     ]
    }
   ],
   "source": [
    " gain=df.groupby([\"sex\"])[\"capital-gain\"].mean()\n",
    " loss=df.groupby([\"sex\"])[\"capital-loss\"].mean()\n",
    "\n",
    "print('Kazanç' ,gain)\n",
    "print('Kayıp' ,loss)\n",
    "\n",
    "# Erkekler daha çok kazanıyor ve daha fazla kaybediyor.\n"
   ]
  },
  {
   "cell_type": "markdown",
   "id": "8abe0aea",
   "metadata": {
    "papermill": {
     "duration": 0.025155,
     "end_time": "2023-09-10T20:28:10.442308",
     "exception": false,
     "start_time": "2023-09-10T20:28:10.417153",
     "status": "completed"
    },
    "tags": []
   },
   "source": [
    "**Her ırk için yaş dağılımı nedir?**"
   ]
  },
  {
   "cell_type": "code",
   "execution_count": 30,
   "id": "27879175",
   "metadata": {
    "execution": {
     "iopub.execute_input": "2023-09-10T20:28:10.494982Z",
     "iopub.status.busy": "2023-09-10T20:28:10.494576Z",
     "iopub.status.idle": "2023-09-10T20:28:10.534631Z",
     "shell.execute_reply": "2023-09-10T20:28:10.533502Z"
    },
    "papermill": {
     "duration": 0.06987,
     "end_time": "2023-09-10T20:28:10.537531",
     "exception": false,
     "start_time": "2023-09-10T20:28:10.467661",
     "status": "completed"
    },
    "tags": []
   },
   "outputs": [
    {
     "data": {
      "text/html": [
       "<div>\n",
       "<style scoped>\n",
       "    .dataframe tbody tr th:only-of-type {\n",
       "        vertical-align: middle;\n",
       "    }\n",
       "\n",
       "    .dataframe tbody tr th {\n",
       "        vertical-align: top;\n",
       "    }\n",
       "\n",
       "    .dataframe thead th {\n",
       "        text-align: right;\n",
       "    }\n",
       "</style>\n",
       "<table border=\"1\" class=\"dataframe\">\n",
       "  <thead>\n",
       "    <tr style=\"text-align: right;\">\n",
       "      <th></th>\n",
       "      <th>count</th>\n",
       "      <th>mean</th>\n",
       "      <th>std</th>\n",
       "      <th>min</th>\n",
       "      <th>25%</th>\n",
       "      <th>50%</th>\n",
       "      <th>75%</th>\n",
       "      <th>max</th>\n",
       "    </tr>\n",
       "    <tr>\n",
       "      <th>race</th>\n",
       "      <th></th>\n",
       "      <th></th>\n",
       "      <th></th>\n",
       "      <th></th>\n",
       "      <th></th>\n",
       "      <th></th>\n",
       "      <th></th>\n",
       "      <th></th>\n",
       "    </tr>\n",
       "  </thead>\n",
       "  <tbody>\n",
       "    <tr>\n",
       "      <th>Amer-Indian-Eskimo</th>\n",
       "      <td>311.0</td>\n",
       "      <td>37.173633</td>\n",
       "      <td>12.447130</td>\n",
       "      <td>17.0</td>\n",
       "      <td>28.0</td>\n",
       "      <td>35.0</td>\n",
       "      <td>45.5</td>\n",
       "      <td>82.0</td>\n",
       "    </tr>\n",
       "    <tr>\n",
       "      <th>Asian-Pac-Islander</th>\n",
       "      <td>1039.0</td>\n",
       "      <td>37.746872</td>\n",
       "      <td>12.825133</td>\n",
       "      <td>17.0</td>\n",
       "      <td>28.0</td>\n",
       "      <td>36.0</td>\n",
       "      <td>45.0</td>\n",
       "      <td>90.0</td>\n",
       "    </tr>\n",
       "    <tr>\n",
       "      <th>Black</th>\n",
       "      <td>3124.0</td>\n",
       "      <td>37.767926</td>\n",
       "      <td>12.759290</td>\n",
       "      <td>17.0</td>\n",
       "      <td>28.0</td>\n",
       "      <td>36.0</td>\n",
       "      <td>46.0</td>\n",
       "      <td>90.0</td>\n",
       "    </tr>\n",
       "    <tr>\n",
       "      <th>Other</th>\n",
       "      <td>271.0</td>\n",
       "      <td>33.457565</td>\n",
       "      <td>11.538865</td>\n",
       "      <td>17.0</td>\n",
       "      <td>25.0</td>\n",
       "      <td>31.0</td>\n",
       "      <td>41.0</td>\n",
       "      <td>77.0</td>\n",
       "    </tr>\n",
       "    <tr>\n",
       "      <th>White</th>\n",
       "      <td>27816.0</td>\n",
       "      <td>38.769881</td>\n",
       "      <td>13.782306</td>\n",
       "      <td>17.0</td>\n",
       "      <td>28.0</td>\n",
       "      <td>37.0</td>\n",
       "      <td>48.0</td>\n",
       "      <td>90.0</td>\n",
       "    </tr>\n",
       "  </tbody>\n",
       "</table>\n",
       "</div>"
      ],
      "text/plain": [
       "                      count       mean        std   min   25%   50%   75%  \\\n",
       "race                                                                        \n",
       "Amer-Indian-Eskimo    311.0  37.173633  12.447130  17.0  28.0  35.0  45.5   \n",
       "Asian-Pac-Islander   1039.0  37.746872  12.825133  17.0  28.0  36.0  45.0   \n",
       "Black                3124.0  37.767926  12.759290  17.0  28.0  36.0  46.0   \n",
       "Other                 271.0  33.457565  11.538865  17.0  25.0  31.0  41.0   \n",
       "White               27816.0  38.769881  13.782306  17.0  28.0  37.0  48.0   \n",
       "\n",
       "                     max  \n",
       "race                      \n",
       "Amer-Indian-Eskimo  82.0  \n",
       "Asian-Pac-Islander  90.0  \n",
       "Black               90.0  \n",
       "Other               77.0  \n",
       "White               90.0  "
      ]
     },
     "execution_count": 30,
     "metadata": {},
     "output_type": "execute_result"
    }
   ],
   "source": [
    " df.groupby([\"race\"])[\"age\"].describe()\n"
   ]
  },
  {
   "cell_type": "markdown",
   "id": "35eee641",
   "metadata": {
    "papermill": {
     "duration": 0.025544,
     "end_time": "2023-09-10T20:28:10.589558",
     "exception": false,
     "start_time": "2023-09-10T20:28:10.564014",
     "status": "completed"
    },
    "tags": []
   },
   "source": [
    "**Eğitim seviyelerine göre çalışma saatlerinin dağılımı nasıldır?**"
   ]
  },
  {
   "cell_type": "code",
   "execution_count": 31,
   "id": "4348f4dd",
   "metadata": {
    "execution": {
     "iopub.execute_input": "2023-09-10T20:28:10.643656Z",
     "iopub.status.busy": "2023-09-10T20:28:10.643221Z",
     "iopub.status.idle": "2023-09-10T20:28:10.708432Z",
     "shell.execute_reply": "2023-09-10T20:28:10.707295Z"
    },
    "papermill": {
     "duration": 0.096124,
     "end_time": "2023-09-10T20:28:10.711401",
     "exception": false,
     "start_time": "2023-09-10T20:28:10.615277",
     "status": "completed"
    },
    "tags": []
   },
   "outputs": [
    {
     "data": {
      "text/html": [
       "<div>\n",
       "<style scoped>\n",
       "    .dataframe tbody tr th:only-of-type {\n",
       "        vertical-align: middle;\n",
       "    }\n",
       "\n",
       "    .dataframe tbody tr th {\n",
       "        vertical-align: top;\n",
       "    }\n",
       "\n",
       "    .dataframe thead th {\n",
       "        text-align: right;\n",
       "    }\n",
       "</style>\n",
       "<table border=\"1\" class=\"dataframe\">\n",
       "  <thead>\n",
       "    <tr style=\"text-align: right;\">\n",
       "      <th></th>\n",
       "      <th>count</th>\n",
       "      <th>mean</th>\n",
       "      <th>std</th>\n",
       "      <th>min</th>\n",
       "      <th>25%</th>\n",
       "      <th>50%</th>\n",
       "      <th>75%</th>\n",
       "      <th>max</th>\n",
       "    </tr>\n",
       "    <tr>\n",
       "      <th>education</th>\n",
       "      <th></th>\n",
       "      <th></th>\n",
       "      <th></th>\n",
       "      <th></th>\n",
       "      <th></th>\n",
       "      <th></th>\n",
       "      <th></th>\n",
       "      <th></th>\n",
       "    </tr>\n",
       "  </thead>\n",
       "  <tbody>\n",
       "    <tr>\n",
       "      <th>10th</th>\n",
       "      <td>933.0</td>\n",
       "      <td>37.052519</td>\n",
       "      <td>13.788112</td>\n",
       "      <td>1.0</td>\n",
       "      <td>30.0</td>\n",
       "      <td>40.0</td>\n",
       "      <td>40.0</td>\n",
       "      <td>99.0</td>\n",
       "    </tr>\n",
       "    <tr>\n",
       "      <th>11th</th>\n",
       "      <td>1175.0</td>\n",
       "      <td>33.925957</td>\n",
       "      <td>13.965416</td>\n",
       "      <td>2.0</td>\n",
       "      <td>20.0</td>\n",
       "      <td>40.0</td>\n",
       "      <td>40.0</td>\n",
       "      <td>99.0</td>\n",
       "    </tr>\n",
       "    <tr>\n",
       "      <th>12th</th>\n",
       "      <td>433.0</td>\n",
       "      <td>35.780600</td>\n",
       "      <td>12.626412</td>\n",
       "      <td>6.0</td>\n",
       "      <td>30.0</td>\n",
       "      <td>40.0</td>\n",
       "      <td>40.0</td>\n",
       "      <td>99.0</td>\n",
       "    </tr>\n",
       "    <tr>\n",
       "      <th>1st-4th</th>\n",
       "      <td>168.0</td>\n",
       "      <td>38.255952</td>\n",
       "      <td>12.848727</td>\n",
       "      <td>4.0</td>\n",
       "      <td>35.0</td>\n",
       "      <td>40.0</td>\n",
       "      <td>40.0</td>\n",
       "      <td>96.0</td>\n",
       "    </tr>\n",
       "    <tr>\n",
       "      <th>5th-6th</th>\n",
       "      <td>333.0</td>\n",
       "      <td>38.897898</td>\n",
       "      <td>10.551727</td>\n",
       "      <td>3.0</td>\n",
       "      <td>40.0</td>\n",
       "      <td>40.0</td>\n",
       "      <td>40.0</td>\n",
       "      <td>84.0</td>\n",
       "    </tr>\n",
       "    <tr>\n",
       "      <th>7th-8th</th>\n",
       "      <td>646.0</td>\n",
       "      <td>39.366873</td>\n",
       "      <td>14.201870</td>\n",
       "      <td>2.0</td>\n",
       "      <td>35.0</td>\n",
       "      <td>40.0</td>\n",
       "      <td>40.0</td>\n",
       "      <td>99.0</td>\n",
       "    </tr>\n",
       "    <tr>\n",
       "      <th>9th</th>\n",
       "      <td>514.0</td>\n",
       "      <td>38.044747</td>\n",
       "      <td>11.064402</td>\n",
       "      <td>1.0</td>\n",
       "      <td>36.0</td>\n",
       "      <td>40.0</td>\n",
       "      <td>40.0</td>\n",
       "      <td>99.0</td>\n",
       "    </tr>\n",
       "    <tr>\n",
       "      <th>Assoc-acdm</th>\n",
       "      <td>1067.0</td>\n",
       "      <td>40.504217</td>\n",
       "      <td>12.196666</td>\n",
       "      <td>1.0</td>\n",
       "      <td>40.0</td>\n",
       "      <td>40.0</td>\n",
       "      <td>45.0</td>\n",
       "      <td>99.0</td>\n",
       "    </tr>\n",
       "    <tr>\n",
       "      <th>Assoc-voc</th>\n",
       "      <td>1382.0</td>\n",
       "      <td>41.610709</td>\n",
       "      <td>10.793384</td>\n",
       "      <td>1.0</td>\n",
       "      <td>40.0</td>\n",
       "      <td>40.0</td>\n",
       "      <td>45.0</td>\n",
       "      <td>99.0</td>\n",
       "    </tr>\n",
       "    <tr>\n",
       "      <th>Bachelors</th>\n",
       "      <td>5355.0</td>\n",
       "      <td>42.614006</td>\n",
       "      <td>11.446185</td>\n",
       "      <td>2.0</td>\n",
       "      <td>40.0</td>\n",
       "      <td>40.0</td>\n",
       "      <td>50.0</td>\n",
       "      <td>99.0</td>\n",
       "    </tr>\n",
       "    <tr>\n",
       "      <th>Doctorate</th>\n",
       "      <td>413.0</td>\n",
       "      <td>46.973366</td>\n",
       "      <td>15.084447</td>\n",
       "      <td>1.0</td>\n",
       "      <td>40.0</td>\n",
       "      <td>45.0</td>\n",
       "      <td>55.0</td>\n",
       "      <td>99.0</td>\n",
       "    </tr>\n",
       "    <tr>\n",
       "      <th>HS-grad</th>\n",
       "      <td>10501.0</td>\n",
       "      <td>40.575374</td>\n",
       "      <td>11.333757</td>\n",
       "      <td>1.0</td>\n",
       "      <td>40.0</td>\n",
       "      <td>40.0</td>\n",
       "      <td>42.0</td>\n",
       "      <td>99.0</td>\n",
       "    </tr>\n",
       "    <tr>\n",
       "      <th>Masters</th>\n",
       "      <td>1723.0</td>\n",
       "      <td>43.836332</td>\n",
       "      <td>12.277801</td>\n",
       "      <td>1.0</td>\n",
       "      <td>40.0</td>\n",
       "      <td>40.0</td>\n",
       "      <td>50.0</td>\n",
       "      <td>99.0</td>\n",
       "    </tr>\n",
       "    <tr>\n",
       "      <th>Preschool</th>\n",
       "      <td>51.0</td>\n",
       "      <td>36.647059</td>\n",
       "      <td>12.555196</td>\n",
       "      <td>10.0</td>\n",
       "      <td>30.0</td>\n",
       "      <td>40.0</td>\n",
       "      <td>40.0</td>\n",
       "      <td>75.0</td>\n",
       "    </tr>\n",
       "    <tr>\n",
       "      <th>Prof-school</th>\n",
       "      <td>576.0</td>\n",
       "      <td>47.425347</td>\n",
       "      <td>14.806038</td>\n",
       "      <td>2.0</td>\n",
       "      <td>40.0</td>\n",
       "      <td>48.0</td>\n",
       "      <td>55.0</td>\n",
       "      <td>99.0</td>\n",
       "    </tr>\n",
       "    <tr>\n",
       "      <th>Some-college</th>\n",
       "      <td>7291.0</td>\n",
       "      <td>38.852284</td>\n",
       "      <td>12.761901</td>\n",
       "      <td>1.0</td>\n",
       "      <td>35.0</td>\n",
       "      <td>40.0</td>\n",
       "      <td>43.0</td>\n",
       "      <td>99.0</td>\n",
       "    </tr>\n",
       "  </tbody>\n",
       "</table>\n",
       "</div>"
      ],
      "text/plain": [
       "                count       mean        std   min   25%   50%   75%   max\n",
       "education                                                                \n",
       "10th            933.0  37.052519  13.788112   1.0  30.0  40.0  40.0  99.0\n",
       "11th           1175.0  33.925957  13.965416   2.0  20.0  40.0  40.0  99.0\n",
       "12th            433.0  35.780600  12.626412   6.0  30.0  40.0  40.0  99.0\n",
       "1st-4th         168.0  38.255952  12.848727   4.0  35.0  40.0  40.0  96.0\n",
       "5th-6th         333.0  38.897898  10.551727   3.0  40.0  40.0  40.0  84.0\n",
       "7th-8th         646.0  39.366873  14.201870   2.0  35.0  40.0  40.0  99.0\n",
       "9th             514.0  38.044747  11.064402   1.0  36.0  40.0  40.0  99.0\n",
       "Assoc-acdm     1067.0  40.504217  12.196666   1.0  40.0  40.0  45.0  99.0\n",
       "Assoc-voc      1382.0  41.610709  10.793384   1.0  40.0  40.0  45.0  99.0\n",
       "Bachelors      5355.0  42.614006  11.446185   2.0  40.0  40.0  50.0  99.0\n",
       "Doctorate       413.0  46.973366  15.084447   1.0  40.0  45.0  55.0  99.0\n",
       "HS-grad       10501.0  40.575374  11.333757   1.0  40.0  40.0  42.0  99.0\n",
       "Masters        1723.0  43.836332  12.277801   1.0  40.0  40.0  50.0  99.0\n",
       "Preschool        51.0  36.647059  12.555196  10.0  30.0  40.0  40.0  75.0\n",
       "Prof-school     576.0  47.425347  14.806038   2.0  40.0  48.0  55.0  99.0\n",
       "Some-college   7291.0  38.852284  12.761901   1.0  35.0  40.0  43.0  99.0"
      ]
     },
     "execution_count": 31,
     "metadata": {},
     "output_type": "execute_result"
    }
   ],
   "source": [
    " df.groupby([\"education\"])[\"hours-per-week\"].describe()\n"
   ]
  },
  {
   "cell_type": "markdown",
   "id": "163ca483",
   "metadata": {
    "papermill": {
     "duration": 0.026457,
     "end_time": "2023-09-10T20:28:10.764146",
     "exception": false,
     "start_time": "2023-09-10T20:28:10.737689",
     "status": "completed"
    },
    "tags": []
   },
   "source": [
    "**Her medeni durum için en yaygın meslek nedir?**"
   ]
  },
  {
   "cell_type": "code",
   "execution_count": 32,
   "id": "978a1ef4",
   "metadata": {
    "execution": {
     "iopub.execute_input": "2023-09-10T20:28:10.818391Z",
     "iopub.status.busy": "2023-09-10T20:28:10.818009Z",
     "iopub.status.idle": "2023-09-10T20:28:10.840262Z",
     "shell.execute_reply": "2023-09-10T20:28:10.839429Z"
    },
    "papermill": {
     "duration": 0.052149,
     "end_time": "2023-09-10T20:28:10.842773",
     "exception": false,
     "start_time": "2023-09-10T20:28:10.790624",
     "status": "completed"
    },
    "tags": []
   },
   "outputs": [
    {
     "data": {
      "text/plain": [
       "marital-status\n",
       "Divorced                  Adm-clerical\n",
       "Married-AF-spouse         Adm-clerical\n",
       "Married-civ-spouse        Craft-repair\n",
       "Married-spouse-absent    Other-service\n",
       "Never-married            Other-service\n",
       "Separated                Other-service\n",
       "Widowed                  Other-service\n",
       "Name: occupation, dtype: object"
      ]
     },
     "execution_count": 32,
     "metadata": {},
     "output_type": "execute_result"
    }
   ],
   "source": [
    "df.groupby('marital-status')['occupation'].agg(lambda x: x.value_counts().index[0])\n",
    "    \n",
    "#df[df[\"education\"]=='Doctorate'][\"race\"].value_counts()"
   ]
  },
  {
   "cell_type": "markdown",
   "id": "5024bb6e",
   "metadata": {
    "papermill": {
     "duration": 0.026175,
     "end_time": "2023-09-10T20:28:10.896067",
     "exception": false,
     "start_time": "2023-09-10T20:28:10.869892",
     "status": "completed"
    },
    "tags": []
   },
   "source": [
    "**50K'nın altında maaş alanlar arasında en yaygın ilişki durumu nedir?**"
   ]
  },
  {
   "cell_type": "code",
   "execution_count": 33,
   "id": "5b3d2606",
   "metadata": {
    "execution": {
     "iopub.execute_input": "2023-09-10T20:28:10.950778Z",
     "iopub.status.busy": "2023-09-10T20:28:10.949986Z",
     "iopub.status.idle": "2023-09-10T20:28:10.970790Z",
     "shell.execute_reply": "2023-09-10T20:28:10.969994Z"
    },
    "papermill": {
     "duration": 0.050836,
     "end_time": "2023-09-10T20:28:10.973042",
     "exception": false,
     "start_time": "2023-09-10T20:28:10.922206",
     "status": "completed"
    },
    "tags": []
   },
   "outputs": [
    {
     "data": {
      "text/plain": [
       "'Not-in-family'"
      ]
     },
     "execution_count": 33,
     "metadata": {},
     "output_type": "execute_result"
    }
   ],
   "source": [
    "df[df['salary']=='<=50K']['relationship'].value_counts().idxmax()"
   ]
  },
  {
   "cell_type": "markdown",
   "id": "c337921c",
   "metadata": {
    "papermill": {
     "duration": 0.026062,
     "end_time": "2023-09-10T20:28:11.025358",
     "exception": false,
     "start_time": "2023-09-10T20:28:10.999296",
     "status": "completed"
    },
    "tags": []
   },
   "source": [
    "**Hangi ülke, workclass = Self-emp-inc olarak en yüksek orana sahiptir?**"
   ]
  },
  {
   "cell_type": "code",
   "execution_count": 34,
   "id": "6bc18790",
   "metadata": {
    "execution": {
     "iopub.execute_input": "2023-09-10T20:28:11.080483Z",
     "iopub.status.busy": "2023-09-10T20:28:11.079755Z",
     "iopub.status.idle": "2023-09-10T20:28:11.094808Z",
     "shell.execute_reply": "2023-09-10T20:28:11.093907Z"
    },
    "papermill": {
     "duration": 0.045433,
     "end_time": "2023-09-10T20:28:11.097331",
     "exception": false,
     "start_time": "2023-09-10T20:28:11.051898",
     "status": "completed"
    },
    "tags": []
   },
   "outputs": [
    {
     "data": {
      "text/plain": [
       "'United-States'"
      ]
     },
     "execution_count": 34,
     "metadata": {},
     "output_type": "execute_result"
    }
   ],
   "source": [
    "#df[('native-country')['workclass']=='Self-emp-inc'.agg(lambda x: x.value_counts().index[0])]\n",
    "selfemp=df[df['workclass']=='Self-emp-inc']\n",
    "enyuksekulke=selfemp['native-country'].value_counts().idxmax()\n",
    "enyuksekulke"
   ]
  },
  {
   "cell_type": "markdown",
   "id": "577f9be4",
   "metadata": {
    "papermill": {
     "duration": 0.026041,
     "end_time": "2023-09-10T20:28:11.150178",
     "exception": false,
     "start_time": "2023-09-10T20:28:11.124137",
     "status": "completed"
    },
    "tags": []
   },
   "source": [
    "**Yönetici(Exec-managerial) rolündeki bireyler daha yüksek sermaye kazançlarına sahip olma olasılığında daha mıdır?**"
   ]
  },
  {
   "cell_type": "code",
   "execution_count": 35,
   "id": "53a9d1df",
   "metadata": {
    "execution": {
     "iopub.execute_input": "2023-09-10T20:28:11.205924Z",
     "iopub.status.busy": "2023-09-10T20:28:11.205018Z",
     "iopub.status.idle": "2023-09-10T20:28:11.225734Z",
     "shell.execute_reply": "2023-09-10T20:28:11.224303Z"
    },
    "papermill": {
     "duration": 0.051389,
     "end_time": "2023-09-10T20:28:11.228312",
     "exception": false,
     "start_time": "2023-09-10T20:28:11.176923",
     "status": "completed"
    },
    "tags": []
   },
   "outputs": [
    {
     "name": "stdout",
     "output_type": "stream",
     "text": [
      "Exec in ortalaması 2262.7729955730447 occupation\n",
      "?                     604.491047\n",
      "Adm-clerical          495.954907\n",
      "Armed-Forces            0.000000\n",
      "Craft-repair          649.512808\n",
      "Exec-managerial      2262.772996\n",
      "Farming-fishing       589.726358\n",
      "Handlers-cleaners     257.572993\n",
      "Machine-op-inspct     328.689311\n",
      "Other-service         191.301669\n",
      "Priv-house-serv       279.852349\n",
      "Prof-specialty       2726.699517\n",
      "Protective-serv       708.098613\n",
      "Sales                1319.829315\n",
      "Tech-support          673.552802\n",
      "Transport-moving      490.323732\n",
      "Name: capital-gain, dtype: float64\n"
     ]
    }
   ],
   "source": [
    "Exec=df[(df['occupation']=='Exec-managerial')]['capital-gain'].mean()\n",
    "\n",
    "genel=df.groupby(df['occupation'])['capital-gain'].mean()\n",
    "print(\"Exec in ortalaması\",Exec,genel)\n",
    "# Genel olarak daha fazla alıyor."
   ]
  }
 ],
 "kernelspec": {
  "display_name": "Python 3",
  "language": "python",
  "name": "python3"
 },
 "language_info": {
  "codemirror_mode": {
   "name": "ipython",
   "version": 3
  },
  "file_extension": ".py",
  "mimetype": "text/x-python",
  "name": "python",
  "nbconvert_exporter": "python",
  "pygments_lexer": "ipython3",
  "version": "3.6.4"
 },
 "metadata": {
  "kernelspec": {
   "display_name": "Python 3",
   "language": "python",
   "name": "python3"
  },
  "language_info": {
   "codemirror_mode": {
    "name": "ipython",
    "version": 3
   },
   "file_extension": ".py",
   "mimetype": "text/x-python",
   "name": "python",
   "nbconvert_exporter": "python",
   "pygments_lexer": "ipython3",
   "version": "3.10.12"
  },
  "papermill": {
   "default_parameters": {},
   "duration": 9.710455,
   "end_time": "2023-09-10T20:28:11.777422",
   "environment_variables": {},
   "exception": null,
   "input_path": "__notebook__.ipynb",
   "output_path": "__notebook__.ipynb",
   "parameters": {},
   "start_time": "2023-09-10T20:28:02.066967",
   "version": "2.4.0"
  }
 },
 "nbformat": 4,
 "nbformat_minor": 5
}
